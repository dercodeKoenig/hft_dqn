{
 "cells": [
  {
   "cell_type": "code",
   "execution_count": 1,
   "id": "2ac38fe9",
   "metadata": {
    "execution": {
     "iopub.execute_input": "2025-03-31T21:23:59.221957Z",
     "iopub.status.busy": "2025-03-31T21:23:59.221618Z",
     "iopub.status.idle": "2025-03-31T21:58:57.387003Z",
     "shell.execute_reply": "2025-03-31T21:58:57.384768Z"
    },
    "id": "9U6tVN6sLzUw",
    "papermill": {
     "duration": 2098.174993,
     "end_time": "2025-03-31T21:58:57.392921",
     "exception": false,
     "start_time": "2025-03-31T21:23:59.217928",
     "status": "completed"
    },
    "tags": []
   },
   "outputs": [
    {
     "name": "stdout",
     "output_type": "stream",
     "text": [
      "loading /kaggle/input/us-futures-1-minute-candlesticks/NQ_2\n"
     ]
    }
   ],
   "source": [
    "!cp /kaggle/input/nn-utils/* .\n",
    "\n",
    "\n",
    "\n",
    "import os\n",
    "from MultiTimeframeCandleManager import *\n",
    "from datetime import datetime, timedelta\n",
    "from collections import deque\n",
    "import numpy as np\n",
    "from tqdm import tqdm\n",
    "import copy\n",
    "import tensorflow as tf\n",
    "import random\n",
    "from save_and_load import *\n",
    "from Candle import Candle\n",
    "import matplotlib.pyplot as plt\n",
    "\n",
    "\n",
    "def make_train_data(candles_file):\n",
    "    candles = obj_load(candles_file)\n",
    "    \n",
    "    train_data = []\n",
    "    \n",
    "    m = MultiTimeframeCandleManager()\n",
    "\n",
    "    index = 0\n",
    "\n",
    "    batch_index = 0\n",
    "    \n",
    "    for _ in range(10000):\n",
    "        ret = m.push_m1_candle(candles[index])\n",
    "        index += 1\n",
    "    \n",
    "    while True:\n",
    "        if index >= len(candles)-21:\n",
    "            break\n",
    "            \n",
    "        ret = m.push_m1_candle(candles[index])\n",
    "        midnight_open, midnight_opening_range_high,midnight_opening_range_low, pdas, current_close, current_time, charts = ret\n",
    "    \n",
    "    \n",
    "        avg_candle_range = np.mean([ i.h - i.l for i in list(charts[2])])\n",
    "    #avg_candle_range\n",
    "    \n",
    "        slv = avg_candle_range * 3\n",
    "        tpv = avg_candle_range * 6\n",
    "        c = m.m1_candles[-1].c\n",
    "    \n",
    "        slshort = c + slv\n",
    "        tpshort = c - tpv\n",
    "        sllong = c - slv\n",
    "        tplong = c + tpv\n",
    "    \n",
    "        short_stop = False\n",
    "        long_stop = False\n",
    "        short_hit = False\n",
    "        long_hit = False\n",
    "    \n",
    "        for index_forward in range(index+1, index+20):\n",
    "            next_candle = candles[index_forward]\n",
    "            ncl = next_candle.l\n",
    "            nch = next_candle.h\n",
    "    \n",
    "            if short_hit == False and ncl < sllong:\n",
    "                long_stop = True\n",
    "            if long_hit == False and nch > slshort:\n",
    "                short_stop = True\n",
    "    \n",
    "            if short_stop == False and ncl < tpshort:\n",
    "                short_hit = True\n",
    "                break\n",
    "            if long_stop == False and nch > tplong:\n",
    "                long_hit = True\n",
    "                break\n",
    "    \n",
    "        #print(long_hit, short_hit, short_stop, long_stop)\n",
    "    \n",
    "        x = ret_to_scaled_inputs(ret)\n",
    "        y = 0\n",
    "        if long_hit:\n",
    "            y=1\n",
    "        if short_hit:\n",
    "            y=-1\n",
    "    \n",
    "        train_data.append((x,y))\n",
    "\n",
    "        if len(train_data) >= 1000000:\n",
    "            obj_save(train_data, candles_file.split(\"/\")[-1]+\"_train_\"+str(batch_index))\n",
    "            batch_index+=1\n",
    "            train_data = []\n",
    "    \n",
    "        index += 1\n",
    "\n",
    "    if len(train_data) > 0:\n",
    "            obj_save(train_data, candles_file.split(\"/\")[-1]+\"_train_\"+str(batch_index))\n",
    "\n",
    "    \n",
    "\n",
    "files = [\"NQ_2\", \"ES_2\", \"YM_2\"]\n",
    "file = files[0]\n",
    "make_train_data(\"/kaggle/input/us-futures-1-minute-candlesticks/\"+file)"
   ]
  },
  {
   "cell_type": "code",
   "execution_count": null,
   "id": "1ae732dc",
   "metadata": {
    "id": "GCcmIJvPL0y5",
    "outputId": "664610e3-0087-495f-fa18-f276f64136a8",
    "papermill": {
     "duration": 0.004474,
     "end_time": "2025-03-31T21:58:57.448375",
     "exception": false,
     "start_time": "2025-03-31T21:58:57.443901",
     "status": "completed"
    },
    "tags": []
   },
   "outputs": [],
   "source": []
  },
  {
   "cell_type": "code",
   "execution_count": null,
   "id": "fbe3b8d1",
   "metadata": {
    "id": "HMgxpPSeL2Ux",
    "outputId": "da51eaf7-285e-473d-af6d-e79c11ac93b2",
    "papermill": {
     "duration": 0.0046,
     "end_time": "2025-03-31T21:58:57.511140",
     "exception": false,
     "start_time": "2025-03-31T21:58:57.506540",
     "status": "completed"
    },
    "tags": []
   },
   "outputs": [],
   "source": []
  },
  {
   "cell_type": "code",
   "execution_count": null,
   "id": "4db4ed26",
   "metadata": {
    "id": "dvJb5smzL7tu",
    "papermill": {
     "duration": 0.002087,
     "end_time": "2025-03-31T21:58:57.572195",
     "exception": false,
     "start_time": "2025-03-31T21:58:57.570108",
     "status": "completed"
    },
    "tags": []
   },
   "outputs": [],
   "source": []
  },
  {
   "cell_type": "code",
   "execution_count": null,
   "id": "3527e669",
   "metadata": {
    "papermill": {
     "duration": 0.051686,
     "end_time": "2025-03-31T21:58:57.634063",
     "exception": false,
     "start_time": "2025-03-31T21:58:57.582377",
     "status": "completed"
    },
    "tags": []
   },
   "outputs": [],
   "source": []
  }
 ],
 "metadata": {
  "accelerator": "GPU",
  "colab": {
   "gpuType": "T4",
   "provenance": []
  },
  "kaggle": {
   "accelerator": "none",
   "dataSources": [
    {
     "datasetId": 6523824,
     "sourceId": 10621662,
     "sourceType": "datasetVersion"
    },
    {
     "datasetId": 7014370,
     "sourceId": 11229834,
     "sourceType": "datasetVersion"
    }
   ],
   "dockerImageVersionId": 30918,
   "isGpuEnabled": false,
   "isInternetEnabled": true,
   "language": "python",
   "sourceType": "notebook"
  },
  "kernelspec": {
   "display_name": "Python 3",
   "language": "python",
   "name": "python3"
  },
  "language_info": {
   "codemirror_mode": {
    "name": "ipython",
    "version": 3
   },
   "file_extension": ".py",
   "mimetype": "text/x-python",
   "name": "python",
   "nbconvert_exporter": "python",
   "pygments_lexer": "ipython3",
   "version": "3.10.12"
  },
  "papermill": {
   "default_parameters": {},
   "duration": 2103.709128,
   "end_time": "2025-03-31T21:59:00.169735",
   "environment_variables": {},
   "exception": null,
   "input_path": "__notebook__.ipynb",
   "output_path": "__notebook__.ipynb",
   "parameters": {},
   "start_time": "2025-03-31T21:23:56.460607",
   "version": "2.6.0"
  }
 },
 "nbformat": 4,
 "nbformat_minor": 5
}
