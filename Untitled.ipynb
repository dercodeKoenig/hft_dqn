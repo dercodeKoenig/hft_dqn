{
 "cells": [
  {
   "cell_type": "code",
   "execution_count": 1,
   "id": "aa307b96-67b2-4d5b-8bbe-a2792b1c5b0d",
   "metadata": {},
   "outputs": [
    {
     "name": "stderr",
     "output_type": "stream",
     "text": [
      "C:\\Users\\Dr-Hc\\Desktop\\hft_dqn\\.venv\\lib\\site-packages\\tqdm\\auto.py:21: TqdmWarning: IProgress not found. Please update jupyter and ipywidgets. See https://ipywidgets.readthedocs.io/en/stable/user_install.html\n",
      "  from .autonotebook import tqdm as notebook_tqdm\n"
     ]
    }
   ],
   "source": [
    "import os\n",
    "import pymysql\n",
    "from io import BytesIO\n",
    "from ftplib import FTP\n",
    "import random\n",
    "import json\n",
    "from tqdm import tqdm\n",
    "import numpy as np\n",
    "import io\n",
    "\n",
    "import time\n",
    "start_time = time.time()\n",
    "\n",
    "# FTP details to upload the embeddings\n",
    "FTP_HOST = 'benundmarvpromotions.lima-ftp.de'\n",
    "FTP_USER = 'benundmarvpromotions'\n",
    "FTP_PASS = 'gWEhrtjanrgy'\n",
    "REMOTE_DIR = '/online_tts/data/'\n",
    "\n",
    "# Database connection details\n",
    "DB_HOST = \"benundmarvpromotions.lima-db.de\"\n",
    "DB_USER = \"USER433859_2345\"\n",
    "DB_PASS = \"Sonne-12345\"\n",
    "DB_NAME = \"db_433859_6\"\n",
    "\n",
    "\n",
    "voices = [\n",
    "    \"af_bella\",\n",
    "    \"bf_isabella\",\n",
    "    \"bm_lewis\",\n",
    "    \"am_adam\",\n",
    "    \"am_michael\",\n",
    "    \"af_nicole\",\n",
    "    \"af_sarah\",\n",
    "    \"af_sky\",\n",
    "    \"bf_emma\",\n",
    "    \"bm_george\",\n",
    "]\n",
    "\n",
    "\n",
    "\n",
    "    \n",
    "# 3️⃣ Initalize a pipeline\n",
    "from kokoro import KPipeline\n",
    "from IPython.display import display, Audio\n",
    "import soundfile as sf\n",
    "\n",
    "\n"
   ]
  },
  {
   "cell_type": "code",
   "execution_count": 40,
   "id": "c2ec95a2-3331-47aa-a19c-195cb336ca8a",
   "metadata": {},
   "outputs": [],
   "source": [
    "connection = pymysql.connect(host=DB_HOST, user=DB_USER, password=DB_PASS, database=DB_NAME)\n",
    "cursor = connection.cursor()\n",
    "cursor.execute(\"SELECT * FROM `requests`\")\n",
    "data = [x for x in cursor.fetchall()]\n",
    "connection.close()\n"
   ]
  },
  {
   "cell_type": "code",
   "execution_count": 2,
   "id": "91f8d24e-f803-4e11-932c-65399e1c67f2",
   "metadata": {},
   "outputs": [
    {
     "name": "stderr",
     "output_type": "stream",
     "text": [
      "C:\\Users\\Dr-Hc\\Desktop\\hft_dqn\\.venv\\lib\\site-packages\\torch\\nn\\modules\\rnn.py:123: UserWarning: dropout option adds dropout after all but last recurrent layer, so non-zero dropout expects num_layers greater than 1, but got dropout=0.2 and num_layers=1\n",
      "  warnings.warn(\n",
      "C:\\Users\\Dr-Hc\\Desktop\\hft_dqn\\.venv\\lib\\site-packages\\torch\\nn\\utils\\weight_norm.py:143: FutureWarning: `torch.nn.utils.weight_norm` is deprecated in favor of `torch.nn.utils.parametrizations.weight_norm`.\n",
      "  WeightNorm.apply(module, name, dim)\n"
     ]
    }
   ],
   "source": [
    "pipeline = KPipeline(lang_code='a')"
   ]
  },
  {
   "cell_type": "code",
   "execution_count": 9,
   "id": "61c617ef-6963-4ee2-b594-c921c0e07da2",
   "metadata": {},
   "outputs": [
    {
     "name": "stdout",
     "output_type": "stream",
     "text": [
      "WARNING: Language mismatch, loading bf_lily voice into American English pipeline.\n",
      "this is a test\n",
      "ðɪs ɪz ɐ tˈɛst\n"
     ]
    }
   ],
   "source": [
    "generator = pipeline(\n",
    "    \"this is a test\", voice=\"bf_lily\", # <= change voice here\n",
    "    speed=1\n",
    ")\n",
    "\n",
    "all_audio = []  # List to store all audio data\n",
    "\n",
    "for i, (gs, ps, audio) in enumerate(generator):\n",
    "    #print(i)  # Index\n",
    "    print(gs) # Text\n",
    "    print(ps) # Phonemes\n",
    "    all_audio.append(audio)  # Collect audio segments\n",
    "\n",
    "# Concatenate all audio segments into one\n",
    "combined_audio = np.concatenate(all_audio)"
   ]
  },
  {
   "cell_type": "code",
   "execution_count": null,
   "id": "e5befd01-baae-4b2c-9b6b-425eac571171",
   "metadata": {},
   "outputs": [],
   "source": []
  },
  {
   "cell_type": "code",
   "execution_count": null,
   "id": "bab24960-2310-4833-85b5-f54323ddb77e",
   "metadata": {},
   "outputs": [],
   "source": []
  }
 ],
 "metadata": {
  "kernelspec": {
   "display_name": "Python 3 (ipykernel)",
   "language": "python",
   "name": "python3"
  },
  "language_info": {
   "codemirror_mode": {
    "name": "ipython",
    "version": 3
   },
   "file_extension": ".py",
   "mimetype": "text/x-python",
   "name": "python",
   "nbconvert_exporter": "python",
   "pygments_lexer": "ipython3",
   "version": "3.10.11"
  }
 },
 "nbformat": 4,
 "nbformat_minor": 5
}
