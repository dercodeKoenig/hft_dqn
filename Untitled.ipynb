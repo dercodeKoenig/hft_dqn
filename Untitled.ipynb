{
 "cells": [
  {
   "cell_type": "code",
   "execution_count": 1,
   "id": "aa307b96-67b2-4d5b-8bbe-a2792b1c5b0d",
   "metadata": {},
   "outputs": [
    {
     "name": "stderr",
     "output_type": "stream",
     "text": [
      "C:\\Users\\Dr-Hc\\Desktop\\hft_dqn\\.venv\\lib\\site-packages\\tqdm\\auto.py:21: TqdmWarning: IProgress not found. Please update jupyter and ipywidgets. See https://ipywidgets.readthedocs.io/en/stable/user_install.html\n",
      "  from .autonotebook import tqdm as notebook_tqdm\n"
     ]
    }
   ],
   "source": [
    "import os\n",
    "import pymysql\n",
    "from io import BytesIO\n",
    "from ftplib import FTP\n",
    "import random\n",
    "import json\n",
    "from tqdm import tqdm\n",
    "import numpy as np\n",
    "import io\n",
    "\n",
    "import time\n",
    "start_time = time.time()\n",
    "\n",
    "# FTP details to upload the embeddings\n",
    "FTP_HOST = 'benundmarvpromotions.lima-ftp.de'\n",
    "FTP_USER = 'benundmarvpromotions'\n",
    "FTP_PASS = 'gWEhrtjanrgy'\n",
    "REMOTE_DIR = '/online_tts/data/'\n",
    "\n",
    "# Database connection details\n",
    "DB_HOST = \"benundmarvpromotions.lima-db.de\"\n",
    "DB_USER = \"USER433859_2345\"\n",
    "DB_PASS = \"Sonne-12345\"\n",
    "DB_NAME = \"db_433859_6\"\n",
    "\n",
    "\n",
    "voices = [\n",
    "    \"af_bella\",\n",
    "    \"bf_isabella\",\n",
    "    \"bm_lewis\",\n",
    "    \"am_adam\",\n",
    "    \"am_michael\",\n",
    "    \"af_nicole\",\n",
    "    \"af_sarah\",\n",
    "    \"af_sky\",\n",
    "    \"bf_emma\",\n",
    "    \"bm_george\",\n",
    "]\n",
    "\n",
    "\n",
    "\n",
    "    \n",
    "# 3️⃣ Initalize a pipeline\n",
    "from kokoro import KPipeline\n",
    "from IPython.display import display, Audio\n",
    "import soundfile as sf\n",
    "\n",
    "\n"
   ]
  },
  {
   "cell_type": "code",
   "execution_count": 40,
   "id": "c2ec95a2-3331-47aa-a19c-195cb336ca8a",
   "metadata": {},
   "outputs": [],
   "source": [
    "connection = pymysql.connect(host=DB_HOST, user=DB_USER, password=DB_PASS, database=DB_NAME)\n",
    "cursor = connection.cursor()\n",
    "cursor.execute(\"SELECT * FROM `requests`\")\n",
    "data = [x for x in cursor.fetchall()]\n",
    "connection.close()\n"
   ]
  },
  {
   "cell_type": "code",
   "execution_count": 2,
   "id": "91f8d24e-f803-4e11-932c-65399e1c67f2",
   "metadata": {},
   "outputs": [
    {
     "ename": "AssertionError",
     "evalue": "('de', {'a': 'American English', 'b': 'British English', 'e': 'es', 'f': 'fr-fr', 'h': 'hi', 'i': 'it', 'p': 'pt-br', 'j': 'Japanese', 'z': 'Mandarin Chinese'})",
     "output_type": "error",
     "traceback": [
      "\u001b[1;31m---------------------------------------------------------------------------\u001b[0m",
      "\u001b[1;31mAssertionError\u001b[0m                            Traceback (most recent call last)",
      "Cell \u001b[1;32mIn[2], line 1\u001b[0m\n\u001b[1;32m----> 1\u001b[0m pipeline \u001b[38;5;241m=\u001b[39m \u001b[43mKPipeline\u001b[49m\u001b[43m(\u001b[49m\u001b[43mlang_code\u001b[49m\u001b[38;5;241;43m=\u001b[39;49m\u001b[38;5;124;43m'\u001b[39;49m\u001b[38;5;124;43mde\u001b[39;49m\u001b[38;5;124;43m'\u001b[39;49m\u001b[43m)\u001b[49m\n",
      "File \u001b[1;32m~\\Desktop\\hft_dqn\\.venv\\lib\\site-packages\\kokoro\\pipeline.py:67\u001b[0m, in \u001b[0;36mKPipeline.__init__\u001b[1;34m(self, lang_code, model, trf, device)\u001b[0m\n\u001b[0;32m     50\u001b[0m \u001b[38;5;28;01mdef\u001b[39;00m\u001b[38;5;250m \u001b[39m\u001b[38;5;21m__init__\u001b[39m(\n\u001b[0;32m     51\u001b[0m     \u001b[38;5;28mself\u001b[39m,\n\u001b[0;32m     52\u001b[0m     lang_code: \u001b[38;5;28mstr\u001b[39m,\n\u001b[1;32m   (...)\u001b[0m\n\u001b[0;32m     55\u001b[0m     device: Optional[\u001b[38;5;28mstr\u001b[39m] \u001b[38;5;241m=\u001b[39m \u001b[38;5;28;01mNone\u001b[39;00m\n\u001b[0;32m     56\u001b[0m ):\n\u001b[0;32m     57\u001b[0m \u001b[38;5;250m    \u001b[39m\u001b[38;5;124;03m\"\"\"Initialize a KPipeline.\u001b[39;00m\n\u001b[0;32m     58\u001b[0m \u001b[38;5;124;03m    \u001b[39;00m\n\u001b[0;32m     59\u001b[0m \u001b[38;5;124;03m    Args:\u001b[39;00m\n\u001b[1;32m   (...)\u001b[0m\n\u001b[0;32m     65\u001b[0m \u001b[38;5;124;03m               If 'cuda' and not available, will explicitly raise an error\u001b[39;00m\n\u001b[0;32m     66\u001b[0m \u001b[38;5;124;03m    \"\"\"\u001b[39;00m\n\u001b[1;32m---> 67\u001b[0m     \u001b[38;5;28;01massert\u001b[39;00m lang_code \u001b[38;5;129;01min\u001b[39;00m LANG_CODES, (lang_code, LANG_CODES)\n\u001b[0;32m     68\u001b[0m     \u001b[38;5;28mself\u001b[39m\u001b[38;5;241m.\u001b[39mlang_code \u001b[38;5;241m=\u001b[39m lang_code\n\u001b[0;32m     69\u001b[0m     \u001b[38;5;28mself\u001b[39m\u001b[38;5;241m.\u001b[39mmodel \u001b[38;5;241m=\u001b[39m \u001b[38;5;28;01mNone\u001b[39;00m\n",
      "\u001b[1;31mAssertionError\u001b[0m: ('de', {'a': 'American English', 'b': 'British English', 'e': 'es', 'f': 'fr-fr', 'h': 'hi', 'i': 'it', 'p': 'pt-br', 'j': 'Japanese', 'z': 'Mandarin Chinese'})"
     ]
    }
   ],
   "source": [
    "pipeline = KPipeline(lang_code='de')"
   ]
  },
  {
   "cell_type": "code",
   "execution_count": null,
   "id": "61c617ef-6963-4ee2-b594-c921c0e07da2",
   "metadata": {},
   "outputs": [],
   "source": [
    "generator = pipeline(\n",
    "    \"this is a test\", voice=\"bf_lily\", # <= change voice here\n",
    "    speed=1\n",
    ")\n",
    "\n",
    "all_audio = []  # List to store all audio data\n",
    "\n",
    "for i, (gs, ps, audio) in enumerate(generator):\n",
    "    #print(i)  # Index\n",
    "    print(gs) # Text\n",
    "    print(ps) # Phonemes\n",
    "    all_audio.append(audio)  # Collect audio segments\n",
    "\n",
    "# Concatenate all audio segments into one\n",
    "combined_audio = np.concatenate(all_audio)"
   ]
  },
  {
   "cell_type": "code",
   "execution_count": null,
   "id": "e5befd01-baae-4b2c-9b6b-425eac571171",
   "metadata": {},
   "outputs": [],
   "source": []
  },
  {
   "cell_type": "code",
   "execution_count": null,
   "id": "bab24960-2310-4833-85b5-f54323ddb77e",
   "metadata": {},
   "outputs": [],
   "source": []
  }
 ],
 "metadata": {
  "kernelspec": {
   "display_name": "Python 3 (ipykernel)",
   "language": "python",
   "name": "python3"
  },
  "language_info": {
   "codemirror_mode": {
    "name": "ipython",
    "version": 3
   },
   "file_extension": ".py",
   "mimetype": "text/x-python",
   "name": "python",
   "nbconvert_exporter": "python",
   "pygments_lexer": "ipython3",
   "version": "3.10.11"
  }
 },
 "nbformat": 4,
 "nbformat_minor": 5
}
