{
 "cells": [
  {
   "cell_type": "code",
   "execution_count": 39,
   "id": "aa307b96-67b2-4d5b-8bbe-a2792b1c5b0d",
   "metadata": {},
   "outputs": [
    {
     "name": "stderr",
     "output_type": "stream",
     "text": [
      "C:\\Users\\Dr-Hc\\Desktop\\hft_dqn\\.venv\\lib\\site-packages\\tqdm\\auto.py:21: TqdmWarning: IProgress not found. Please update jupyter and ipywidgets. See https://ipywidgets.readthedocs.io/en/stable/user_install.html\n",
      "  from .autonotebook import tqdm as notebook_tqdm\n"
     ]
    }
   ],
   "source": [
    "import os\n",
    "import pymysql\n",
    "from io import BytesIO\n",
    "from ftplib import FTP\n",
    "import random\n",
    "import json\n",
    "from tqdm import tqdm\n",
    "import numpy as np\n",
    "import io\n",
    "\n",
    "import time\n",
    "start_time = time.time()\n",
    "\n",
    "# FTP details to upload the embeddings\n",
    "FTP_HOST = 'benundmarvpromotions.lima-ftp.de'\n",
    "FTP_USER = 'benundmarvpromotions'\n",
    "FTP_PASS = 'gWEhrtjanrgy'\n",
    "REMOTE_DIR = '/online_tts/data/'\n",
    "\n",
    "# Database connection details\n",
    "DB_HOST = \"benundmarvpromotions.lima-db.de\"\n",
    "DB_USER = \"USER433859_2345\"\n",
    "DB_PASS = \"Sonne-12345\"\n",
    "DB_NAME = \"db_433859_6\"\n",
    "\n",
    "\n",
    "voices = [\n",
    "    \"af_bella\",\n",
    "    \"bf_isabella\",\n",
    "    \"bm_lewis\",\n",
    "    \"am_adam\",\n",
    "    \"am_michael\",\n",
    "    \"af_nicole\",\n",
    "    \"af_sarah\",\n",
    "    \"af_sky\",\n",
    "    \"bf_emma\",\n",
    "    \"bm_george\",\n",
    "]\n",
    "\n",
    "\n",
    "\n",
    "    \n",
    "# 3️⃣ Initalize a pipeline\n",
    "from kokoro import KPipeline\n",
    "from IPython.display import display, Audio\n",
    "import soundfile as sf\n",
    "\n",
    "\n"
   ]
  },
  {
   "cell_type": "code",
   "execution_count": 40,
   "id": "c2ec95a2-3331-47aa-a19c-195cb336ca8a",
   "metadata": {},
   "outputs": [],
   "source": [
    "connection = pymysql.connect(host=DB_HOST, user=DB_USER, password=DB_PASS, database=DB_NAME)\n",
    "cursor = connection.cursor()\n",
    "cursor.execute(\"SELECT * FROM `requests`\")\n",
    "data = [x for x in cursor.fetchall()]\n",
    "connection.close()\n"
   ]
  },
  {
   "cell_type": "code",
   "execution_count": 41,
   "id": "91f8d24e-f803-4e11-932c-65399e1c67f2",
   "metadata": {},
   "outputs": [
    {
     "name": "stderr",
     "output_type": "stream",
     "text": [
      "C:\\Users\\Dr-Hc\\Desktop\\hft_dqn\\.venv\\lib\\site-packages\\torch\\nn\\modules\\rnn.py:123: UserWarning: dropout option adds dropout after all but last recurrent layer, so non-zero dropout expects num_layers greater than 1, but got dropout=0.2 and num_layers=1\n",
      "  warnings.warn(\n",
      "C:\\Users\\Dr-Hc\\Desktop\\hft_dqn\\.venv\\lib\\site-packages\\torch\\nn\\utils\\weight_norm.py:143: FutureWarning: `torch.nn.utils.weight_norm` is deprecated in favor of `torch.nn.utils.parametrizations.weight_norm`.\n",
      "  WeightNorm.apply(module, name, dim)\n"
     ]
    },
    {
     "name": "stdout",
     "output_type": "stream",
     "text": [
      "WARNING: EspeakFallback not enabled. OOD words will be skipped. espeak not installed on your system\n",
      "Help on KPipeline in module kokoro.pipeline object:\n",
      "\n",
      "class KPipeline(builtins.object)\n",
      " |  KPipeline(lang_code: str, model: Union[kokoro.model.KModel, bool] = True, trf: bool = False, device: Optional[str] = None)\n",
      " |  \n",
      " |  KPipeline is a language-aware support class with 2 main responsibilities:\n",
      " |  1. Perform language-specific G2P, mapping (and chunking) text -> phonemes\n",
      " |  2. Manage and store voices, lazily downloaded from HF if needed\n",
      " |  \n",
      " |  You are expected to have one KPipeline per language. If you have multiple\n",
      " |  KPipelines, you should reuse one KModel instance across all of them.\n",
      " |  \n",
      " |  KPipeline is designed to work with a KModel, but this is not required.\n",
      " |  There are 2 ways to pass an existing model into a pipeline:\n",
      " |  1. On init: us_pipeline = KPipeline(lang_code='a', model=model)\n",
      " |  2. On call: us_pipeline(text, voice, model=model)\n",
      " |  \n",
      " |  By default, KPipeline will automatically initialize its own KModel. To\n",
      " |  suppress this, construct a \"quiet\" KPipeline with model=False.\n",
      " |  \n",
      " |  A \"quiet\" KPipeline yields (graphemes, phonemes, None) without generating\n",
      " |  any audio. You can use this to phonemize and chunk your text in advance.\n",
      " |  \n",
      " |  A \"loud\" KPipeline _with_ a model yields (graphemes, phonemes, audio).\n",
      " |  \n",
      " |  Methods defined here:\n",
      " |  \n",
      " |  __call__(self, text: Union[str, List[str]], voice: str, speed: numbers.Number = 1, split_pattern: Optional[str] = '\\\\n+', model: Optional[kokoro.model.KModel] = None) -> Generator[Tuple[str, str, Optional[torch.FloatTensor]], NoneType, NoneType]\n",
      " |      Call self as a function.\n",
      " |  \n",
      " |  __init__(self, lang_code: str, model: Union[kokoro.model.KModel, bool] = True, trf: bool = False, device: Optional[str] = None)\n",
      " |      Initialize a KPipeline.\n",
      " |      \n",
      " |      Args:\n",
      " |          lang_code: Language code for G2P processing\n",
      " |          model: KModel instance, True to create new model, False for no model\n",
      " |          trf: Whether to use transformer-based G2P\n",
      " |          device: Override default device selection ('cuda' or 'cpu', or None for auto)\n",
      " |                 If None, will auto-select cuda if available\n",
      " |                 If 'cuda' and not available, will explicitly raise an error\n",
      " |  \n",
      " |  en_tokenize(self, tokens: List[Union[misaki.en.MutableToken, List[misaki.en.MutableToken]]]) -> Generator[Tuple[str, str], NoneType, NoneType]\n",
      " |  \n",
      " |  load_single_voice(self, voice: str)\n",
      " |  \n",
      " |  load_voice(self, voice: str, delimiter: str = ',') -> torch.FloatTensor\n",
      " |  \n",
      " |  ----------------------------------------------------------------------\n",
      " |  Class methods defined here:\n",
      " |  \n",
      " |  infer(model: Optional[kokoro.model.KModel], ps: str, pack: torch.FloatTensor, speed: numbers.Number) -> Optional[torch.FloatTensor] from builtins.type\n",
      " |  \n",
      " |  waterfall_last(pairs: List[Tuple[str, str]], next_count: int, waterfall: List[str] = ['!.?…', ':;', ',—'], bumps: List[str] = [')', '”']) -> int from builtins.type\n",
      " |  \n",
      " |  ----------------------------------------------------------------------\n",
      " |  Data descriptors defined here:\n",
      " |  \n",
      " |  __dict__\n",
      " |      dictionary for instance variables (if defined)\n",
      " |  \n",
      " |  __weakref__\n",
      " |      list of weak references to the object (if defined)\n",
      "\n"
     ]
    }
   ],
   "source": [
    "pipeline = KPipeline(lang_code='a')\n",
    "help(pipeline)"
   ]
  },
  {
   "cell_type": "code",
   "execution_count": null,
   "id": "61c617ef-6963-4ee2-b594-c921c0e07da2",
   "metadata": {},
   "outputs": [],
   "source": []
  },
  {
   "cell_type": "code",
   "execution_count": null,
   "id": "e5befd01-baae-4b2c-9b6b-425eac571171",
   "metadata": {},
   "outputs": [],
   "source": []
  },
  {
   "cell_type": "code",
   "execution_count": null,
   "id": "bab24960-2310-4833-85b5-f54323ddb77e",
   "metadata": {},
   "outputs": [],
   "source": []
  }
 ],
 "metadata": {
  "kernelspec": {
   "display_name": "Python 3 (ipykernel)",
   "language": "python",
   "name": "python3"
  },
  "language_info": {
   "codemirror_mode": {
    "name": "ipython",
    "version": 3
   },
   "file_extension": ".py",
   "mimetype": "text/x-python",
   "name": "python",
   "nbconvert_exporter": "python",
   "pygments_lexer": "ipython3",
   "version": "3.10.11"
  }
 },
 "nbformat": 4,
 "nbformat_minor": 5
}
