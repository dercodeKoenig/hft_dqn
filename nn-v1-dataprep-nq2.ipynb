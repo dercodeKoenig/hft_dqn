{
 "cells": [
  {
   "cell_type": "code",
   "execution_count": 1,
   "id": "8cd3c6d2",
   "metadata": {
    "execution": {
     "iopub.execute_input": "2025-04-03T17:44:52.695866Z",
     "iopub.status.busy": "2025-04-03T17:44:52.695421Z",
     "iopub.status.idle": "2025-04-03T18:19:22.979799Z",
     "shell.execute_reply": "2025-04-03T18:19:22.978270Z"
    },
    "id": "9U6tVN6sLzUw",
    "papermill": {
     "duration": 2070.297561,
     "end_time": "2025-04-03T18:19:22.989494",
     "exception": false,
     "start_time": "2025-04-03T17:44:52.691933",
     "status": "completed"
    },
    "tags": []
   },
   "outputs": [
    {
     "name": "stdout",
     "output_type": "stream",
     "text": [
      "loading /kaggle/input/us-futures-1-minute-candlesticks/NQ_2\n"
     ]
    }
   ],
   "source": [
    "!cp /kaggle/input/nn-utils/* .\n",
    "\n",
    "\n",
    "\n",
    "import os\n",
    "from MultiTimeframeCandleManager import *\n",
    "from datetime import datetime, timedelta\n",
    "from collections import deque\n",
    "import numpy as np\n",
    "from tqdm import tqdm\n",
    "import copy\n",
    "import tensorflow as tf\n",
    "import random\n",
    "from save_and_load import *\n",
    "from Candle import Candle\n",
    "import matplotlib.pyplot as plt\n",
    "\n",
    "\n",
    "def make_train_data(candles_file):\n",
    "    candles = obj_load(candles_file)\n",
    "    \n",
    "    train_data = []\n",
    "    \n",
    "    m = MultiTimeframeCandleManager()\n",
    "\n",
    "    index = 0\n",
    "\n",
    "    batch_index = 0\n",
    "    \n",
    "    for _ in range(10000):\n",
    "        ret = m.push_m1_candle(candles[index])\n",
    "        index += 1\n",
    "    \n",
    "    while True:\n",
    "        if index >= len(candles)-21:\n",
    "            break\n",
    "            \n",
    "        ret = m.push_m1_candle(candles[index])\n",
    "        midnight_open, midnight_opening_range_high,midnight_opening_range_low, pdas, current_close, current_time, charts = ret\n",
    "    \n",
    "    \n",
    "        avg_candle_range = np.mean([ i.h - i.l for i in list(charts[2])])\n",
    "    #avg_candle_range\n",
    "    \n",
    "        slv = avg_candle_range * 2\n",
    "        tpv = avg_candle_range * 6\n",
    "        c = m.m1_candles[-1].c\n",
    "    \n",
    "        slshort = c + slv\n",
    "        tpshort = c - tpv\n",
    "        sllong = c - slv\n",
    "        tplong = c + tpv\n",
    "    \n",
    "        short_stop = False\n",
    "        long_stop = False\n",
    "        short_hit = False\n",
    "        long_hit = False\n",
    "    \n",
    "        for index_forward in range(index+1, index+20):\n",
    "            next_candle = candles[index_forward]\n",
    "            ncl = next_candle.l\n",
    "            nch = next_candle.h\n",
    "    \n",
    "            if short_hit == False and ncl < sllong:\n",
    "                long_stop = True\n",
    "            if long_hit == False and nch > slshort:\n",
    "                short_stop = True\n",
    "    \n",
    "            if short_stop == False and ncl < tpshort:\n",
    "                short_hit = True\n",
    "                break\n",
    "            if long_stop == False and nch > tplong:\n",
    "                long_hit = True\n",
    "                break\n",
    "    \n",
    "        #print(long_hit, short_hit, short_stop, long_stop)\n",
    "    \n",
    "        x = ret_to_scaled_inputs(ret)\n",
    "        y = 0\n",
    "        if long_hit:\n",
    "            y=1\n",
    "        if short_hit:\n",
    "            y=-1\n",
    "    \n",
    "        train_data.append((x,y))\n",
    "\n",
    "        if len(train_data) >= 1000000:\n",
    "            obj_save(train_data, candles_file.split(\"/\")[-1]+\"_train_\"+str(batch_index))\n",
    "            batch_index+=1\n",
    "            train_data = []\n",
    "    \n",
    "        index += 1\n",
    "\n",
    "    if len(train_data) > 0:\n",
    "            obj_save(train_data, candles_file.split(\"/\")[-1]+\"_train_\"+str(batch_index))\n",
    "\n",
    "    \n",
    "\n",
    "files = [\"NQ_2\", \"ES_2\", \"YM_2\"]\n",
    "file = files[0]\n",
    "make_train_data(\"/kaggle/input/us-futures-1-minute-candlesticks/\"+file)"
   ]
  },
  {
   "cell_type": "code",
   "execution_count": null,
   "id": "82a89219",
   "metadata": {
    "id": "GCcmIJvPL0y5",
    "outputId": "664610e3-0087-495f-fa18-f276f64136a8",
    "papermill": {
     "duration": 0.002353,
     "end_time": "2025-04-03T18:19:23.009492",
     "exception": false,
     "start_time": "2025-04-03T18:19:23.007139",
     "status": "completed"
    },
    "tags": []
   },
   "outputs": [],
   "source": []
  },
  {
   "cell_type": "code",
   "execution_count": null,
   "id": "753a745d",
   "metadata": {
    "id": "HMgxpPSeL2Ux",
    "outputId": "da51eaf7-285e-473d-af6d-e79c11ac93b2",
    "papermill": {
     "duration": 0.00174,
     "end_time": "2025-04-03T18:19:23.013474",
     "exception": false,
     "start_time": "2025-04-03T18:19:23.011734",
     "status": "completed"
    },
    "tags": []
   },
   "outputs": [],
   "source": []
  },
  {
   "cell_type": "code",
   "execution_count": null,
   "id": "6359ae28",
   "metadata": {
    "id": "dvJb5smzL7tu",
    "papermill": {
     "duration": 0.001673,
     "end_time": "2025-04-03T18:19:23.017146",
     "exception": false,
     "start_time": "2025-04-03T18:19:23.015473",
     "status": "completed"
    },
    "tags": []
   },
   "outputs": [],
   "source": []
  },
  {
   "cell_type": "code",
   "execution_count": null,
   "id": "18192c95",
   "metadata": {
    "papermill": {
     "duration": 0.001655,
     "end_time": "2025-04-03T18:19:23.020765",
     "exception": false,
     "start_time": "2025-04-03T18:19:23.019110",
     "status": "completed"
    },
    "tags": []
   },
   "outputs": [],
   "source": []
  }
 ],
 "metadata": {
  "accelerator": "GPU",
  "colab": {
   "gpuType": "T4",
   "provenance": []
  },
  "kaggle": {
   "accelerator": "none",
   "dataSources": [
    {
     "datasetId": 6523824,
     "sourceId": 10621662,
     "sourceType": "datasetVersion"
    },
    {
     "datasetId": 7014370,
     "sourceId": 11229834,
     "sourceType": "datasetVersion"
    }
   ],
   "dockerImageVersionId": 30918,
   "isGpuEnabled": false,
   "isInternetEnabled": true,
   "language": "python",
   "sourceType": "notebook"
  },
  "kernelspec": {
   "display_name": "Python 3",
   "language": "python",
   "name": "python3"
  },
  "language_info": {
   "codemirror_mode": {
    "name": "ipython",
    "version": 3
   },
   "file_extension": ".py",
   "mimetype": "text/x-python",
   "name": "python",
   "nbconvert_exporter": "python",
   "pygments_lexer": "ipython3",
   "version": "3.10.12"
  },
  "papermill": {
   "default_parameters": {},
   "duration": 2075.619987,
   "end_time": "2025-04-03T18:19:25.655523",
   "environment_variables": {},
   "exception": null,
   "input_path": "__notebook__.ipynb",
   "output_path": "__notebook__.ipynb",
   "parameters": {},
   "start_time": "2025-04-03T17:44:50.035536",
   "version": "2.6.0"
  }
 },
 "nbformat": 4,
 "nbformat_minor": 5
}
