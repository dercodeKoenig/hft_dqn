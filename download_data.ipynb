{
 "cells": [
  {
   "cell_type": "code",
   "execution_count": null,
   "id": "beb261dc-697e-4cbf-8752-8130a7bc002e",
   "metadata": {},
   "outputs": [],
   "source": []
  },
  {
   "cell_type": "code",
   "execution_count": 1,
   "id": "368696ce-055b-48bb-9095-44198e830490",
   "metadata": {},
   "outputs": [
    {
     "data": {
      "text/plain": [
       "True"
      ]
     },
     "execution_count": 1,
     "metadata": {},
     "output_type": "execute_result"
    }
   ],
   "source": [
    "import MetaTrader5 as mt5\n",
    "from datetime import datetime, timedelta\n",
    "import time\n",
    "from mt5_tools import *\n",
    "from Candle import Candle\n",
    "from save_and_load import *\n",
    "from tqdm import tqdm\n",
    "\n",
    "# Initialize MetaTrader 5\n",
    "def initialize_mt5():\n",
    "    if not mt5.initialize():\n",
    "        print(\"MT5 initialization failed\")\n",
    "        return False\n",
    "    return True\n",
    "\n",
    "\n",
    "\n",
    "initialize_mt5()"
   ]
  },
  {
   "cell_type": "code",
   "execution_count": null,
   "id": "62ebc341-182b-4cbb-b143-76c3222120e0",
   "metadata": {},
   "outputs": [],
   "source": [
    "#candles = get_prices(\"FUTNASDAQCONT\", mt5.TIMEFRAME_M1, 850000)\n",
    "candles = get_prices(\"FUTNASDAQCONT\", mt5.TIMEFRAME_M1, 4000000)\n",
    "\n",
    "# compute time offset\n",
    "last_time = None\n",
    "current_offset = 0\n",
    "\n",
    "for candle in tqdm(candles):\n",
    "\n",
    "    if last_time != None and candle.t - (last_time - timedelta(hours = current_offset))  > timedelta(minutes = 50):\n",
    "        target_hour = 18\n",
    "        current_offset = target_hour - candle.t.hour\n",
    "        if(current_offset > 12):\n",
    "            current_offset-=24\n",
    "\n",
    "\n",
    "    candle.t = candle.t + timedelta(hours = current_offset) \n",
    "    last_time = candle.t\n",
    "\n",
    "candles = candles[10:]\n",
    "\n",
    "obj_save(candles, \"NQ_2\")\n",
    "\n",
    "candles[0].t, candles[-1].t, len(candles)"
   ]
  },
  {
   "cell_type": "code",
   "execution_count": null,
   "id": "7b987472-6574-4f1d-b08f-43281cb8e7fc",
   "metadata": {},
   "outputs": [],
   "source": [
    "candles = get_prices(\"FUTSP500CONT\", mt5.TIMEFRAME_M1, 4000000)\n",
    "\n",
    "# compute time offset\n",
    "last_time = None\n",
    "current_offset = 0\n",
    "\n",
    "for candle in tqdm(candles):\n",
    "\n",
    "    if last_time != None and candle.t - (last_time - timedelta(hours = current_offset))  > timedelta(minutes = 50):\n",
    "        target_hour = 18\n",
    "        current_offset = target_hour - candle.t.hour\n",
    "        if(current_offset > 12):\n",
    "            current_offset-=24\n",
    "\n",
    "\n",
    "    candle.t = candle.t + timedelta(hours = current_offset) \n",
    "    last_time = candle.t\n",
    "\n",
    "candles = candles[10:]\n",
    "\n",
    "obj_save(candles, \"ES_2\")\n",
    "\n",
    "candles[0].t, candles[-1].t, len(candles)"
   ]
  },
  {
   "cell_type": "code",
   "execution_count": null,
   "id": "2642c563-05bf-4d18-bc7c-400a2bc6c823",
   "metadata": {},
   "outputs": [],
   "source": [
    "candles = get_prices(\"FUTDOWCONT\", mt5.TIMEFRAME_M1, 4000000)\n",
    "\n",
    "# compute time offset\n",
    "last_time = None\n",
    "current_offset = 0\n",
    "\n",
    "for candle in tqdm(candles):\n",
    "\n",
    "    if last_time != None and candle.t - (last_time - timedelta(hours = current_offset))  > timedelta(minutes = 50):\n",
    "        target_hour = 18\n",
    "        current_offset = target_hour - candle.t.hour\n",
    "        if(current_offset > 12):\n",
    "            current_offset-=24\n",
    "\n",
    "\n",
    "    candle.t = candle.t + timedelta(hours = current_offset) \n",
    "    last_time = candle.t\n",
    "\n",
    "candles = candles[10:]\n",
    "\n",
    "obj_save(candles, \"YM_2\")\n",
    "\n",
    "candles[0].t, candles[-1].t, len(candles)"
   ]
  },
  {
   "cell_type": "code",
   "execution_count": null,
   "id": "b160c5d0-e4e9-4f4e-9f1f-2c3c7674e8b8",
   "metadata": {},
   "outputs": [],
   "source": [
    "candles = get_prices(\"FUTGBPCONT\", mt5.TIMEFRAME_M1, 2000000)\n",
    "\n",
    "# compute time offset\n",
    "last_time = None\n",
    "current_offset = 0\n",
    "\n",
    "for candle in tqdm(candles):\n",
    "\n",
    "    if last_time != None and candle.t - (last_time - timedelta(hours = current_offset))  > timedelta(minutes = 50):\n",
    "        target_hour = 18\n",
    "        current_offset = target_hour - candle.t.hour\n",
    "        if(current_offset > 12):\n",
    "            current_offset-=24\n",
    "\n",
    "\n",
    "    candle.t = candle.t + timedelta(hours = current_offset) \n",
    "    last_time = candle.t\n",
    "\n",
    "\n",
    "obj_save(candles, \"GBPUSD_2\")\n",
    "\n",
    "candles[0].t, candles[-1].t, len(candles)"
   ]
  },
  {
   "cell_type": "code",
   "execution_count": null,
   "id": "271ac4c4-a9cb-44a1-893d-d2db85e4a062",
   "metadata": {},
   "outputs": [],
   "source": [
    "candles = get_prices(\"ALLFUTED\", mt5.TIMEFRAME_M1, 2000000)\n",
    "\n",
    "# compute time offset\n",
    "last_time = None\n",
    "current_offset = 0\n",
    "\n",
    "for candle in tqdm(candles):\n",
    "\n",
    "    if last_time != None and candle.t - (last_time - timedelta(hours = current_offset))  > timedelta(minutes = 50):\n",
    "        target_hour = 18\n",
    "        current_offset = target_hour - candle.t.hour\n",
    "        if(current_offset > 12):\n",
    "            current_offset-=24\n",
    "\n",
    "\n",
    "    candle.t = candle.t + timedelta(hours = current_offset) \n",
    "    last_time = candle.t\n",
    "\n",
    "\n",
    "obj_save(candles, \"EURUSD_2\")\n",
    "\n",
    "candles[0].t, candles[-1].t, len(candles)"
   ]
  },
  {
   "cell_type": "code",
   "execution_count": null,
   "id": "180693a5-6be0-4ca2-a04c-df8cb2e0a677",
   "metadata": {},
   "outputs": [],
   "source": []
  }
 ],
 "metadata": {
  "kernelspec": {
   "display_name": "Python 3 (ipykernel)",
   "language": "python",
   "name": "python3"
  },
  "language_info": {
   "codemirror_mode": {
    "name": "ipython",
    "version": 3
   },
   "file_extension": ".py",
   "mimetype": "text/x-python",
   "name": "python",
   "nbconvert_exporter": "python",
   "pygments_lexer": "ipython3",
   "version": "3.10.11"
  }
 },
 "nbformat": 4,
 "nbformat_minor": 5
}
