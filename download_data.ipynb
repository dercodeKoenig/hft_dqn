{
 "cells": [
  {
   "cell_type": "code",
   "execution_count": null,
   "id": "beb261dc-697e-4cbf-8752-8130a7bc002e",
   "metadata": {},
   "outputs": [],
   "source": []
  },
  {
   "cell_type": "code",
   "execution_count": 1,
   "id": "368696ce-055b-48bb-9095-44198e830490",
   "metadata": {},
   "outputs": [
    {
     "data": {
      "text/plain": [
       "100000"
      ]
     },
     "execution_count": 1,
     "metadata": {},
     "output_type": "execute_result"
    }
   ],
   "source": [
    "import MetaTrader5 as mt5\n",
    "from datetime import datetime, timedelta\n",
    "import time\n",
    "from mt5_tools import *\n",
    "from Candle import Candle\n",
    "from save_and_load import *\n",
    "\n",
    "# Initialize MetaTrader 5\n",
    "def initialize_mt5():\n",
    "    if not mt5.initialize():\n",
    "        print(\"MT5 initialization failed\")\n",
    "        return False\n",
    "    return True\n",
    "\n",
    "\n",
    "\n",
    "initialize_mt5()\n",
    "\n",
    "candles = get_prices(\"FUTNASDAQCONT\", mt5.TIMEFRAME_M1, 100000)\n",
    "len(candles)"
   ]
  },
  {
   "cell_type": "code",
   "execution_count": 2,
   "id": "62ebc341-182b-4cbb-b143-76c3222120e0",
   "metadata": {},
   "outputs": [
    {
     "data": {
      "text/plain": [
       "datetime.datetime(2025, 1, 17, 16, 29)"
      ]
     },
     "execution_count": 2,
     "metadata": {},
     "output_type": "execute_result"
    }
   ],
   "source": [
    "# compute time offset\n",
    "last_time = None\n",
    "current_offset = 0\n",
    "for candle in candles:\n",
    "\n",
    "    if last_time != None and candle.t - (last_time - timedelta(hours = current_offset))  > timedelta(minutes = 50):\n",
    "        target_hour = 18\n",
    "        current_offset = target_hour - candle.t.hour\n",
    "        if(current_offset > 12):\n",
    "            current_offset-=24\n",
    "\n",
    "\n",
    "    candle.t = candle.t + timedelta(hours = current_offset) \n",
    "    last_time = candle.t\n",
    "candles[-1].t"
   ]
  },
  {
   "cell_type": "code",
   "execution_count": 3,
   "id": "7b987472-6574-4f1d-b08f-43281cb8e7fc",
   "metadata": {},
   "outputs": [],
   "source": [
    "obj_save(candles, \"NQ_1\")"
   ]
  },
  {
   "cell_type": "code",
   "execution_count": null,
   "id": "2642c563-05bf-4d18-bc7c-400a2bc6c823",
   "metadata": {},
   "outputs": [],
   "source": []
  }
 ],
 "metadata": {
  "kernelspec": {
   "display_name": "Python 3 (ipykernel)",
   "language": "python",
   "name": "python3"
  },
  "language_info": {
   "codemirror_mode": {
    "name": "ipython",
    "version": 3
   },
   "file_extension": ".py",
   "mimetype": "text/x-python",
   "name": "python",
   "nbconvert_exporter": "python",
   "pygments_lexer": "ipython3",
   "version": "3.10.11"
  }
 },
 "nbformat": 4,
 "nbformat_minor": 5
}
