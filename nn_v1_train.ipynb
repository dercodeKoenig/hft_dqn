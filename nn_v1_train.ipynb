{
 "cells": [
  {
   "cell_type": "code",
   "execution_count": 1,
   "metadata": {
    "colab": {
     "base_uri": "https://localhost:8080/",
     "height": 880
    },
    "id": "XlBOj0g6Ki44",
    "outputId": "c82af6d5-6277-4173-9c6e-0106bbd98718"
   },
   "outputs": [
    {
     "name": "stdout",
     "output_type": "stream",
     "text": [
      "INFO:tensorflow:Deallocate tpu buffers before initializing tpu system.\n",
      "INFO:tensorflow:Initializing the TPU system: local\n",
      "INFO:tensorflow:Using MirroredStrategy with devices ('/job:localhost/replica:0/task:0/device:GPU:0',)\n",
      "Model: \"model\"\n",
      "__________________________________________________________________________________________________\n",
      " Layer (type)                   Output Shape         Param #     Connected to                     \n",
      "==================================================================================================\n",
      " input_5 (InputLayer)           [(None, 1)]          0           []                               \n",
      "                                                                                                  \n",
      " input_1 (InputLayer)           [(None, 60, 4)]      0           []                               \n",
      "                                                                                                  \n",
      " input_2 (InputLayer)           [(None, 60, 4)]      0           []                               \n",
      "                                                                                                  \n",
      " input_3 (InputLayer)           [(None, 60, 4)]      0           []                               \n",
      "                                                                                                  \n",
      " embedding (Embedding)          (None, 1, 8)         11520       ['input_5[0][0]']                \n",
      "                                                                                                  \n",
      " flatten_1 (Flatten)            (None, 240)          0           ['input_1[0][0]']                \n",
      "                                                                                                  \n",
      " flatten_2 (Flatten)            (None, 240)          0           ['input_2[0][0]']                \n",
      "                                                                                                  \n",
      " flatten_3 (Flatten)            (None, 240)          0           ['input_3[0][0]']                \n",
      "                                                                                                  \n",
      " input_4 (InputLayer)           [(None, 94)]         0           []                               \n",
      "                                                                                                  \n",
      " flatten (Flatten)              (None, 8)            0           ['embedding[0][0]']              \n",
      "                                                                                                  \n",
      " concatenate (Concatenate)      (None, 822)          0           ['flatten_1[0][0]',              \n",
      "                                                                  'flatten_2[0][0]',              \n",
      "                                                                  'flatten_3[0][0]',              \n",
      "                                                                  'input_4[0][0]',                \n",
      "                                                                  'flatten[0][0]']                \n",
      "                                                                                                  \n",
      " dense (Dense)                  (None, 256)          210688      ['concatenate[0][0]']            \n",
      "                                                                                                  \n",
      " leaky_re_lu (LeakyReLU)        (None, 256)          0           ['dense[0][0]',                  \n",
      "                                                                  'dense_1[0][0]',                \n",
      "                                                                  'dense_2[0][0]',                \n",
      "                                                                  'dense_3[0][0]']                \n",
      "                                                                                                  \n",
      " dense_1 (Dense)                (None, 256)          65792       ['leaky_re_lu[0][0]']            \n",
      "                                                                                                  \n",
      " dense_2 (Dense)                (None, 256)          65792       ['leaky_re_lu[1][0]']            \n",
      "                                                                                                  \n",
      " dense_3 (Dense)                (None, 256)          65792       ['leaky_re_lu[2][0]']            \n",
      "                                                                                                  \n",
      " dense_4 (Dense)                (None, 1)            257         ['leaky_re_lu[3][0]']            \n",
      "                                                                                                  \n",
      "==================================================================================================\n",
      "Total params: 419,841\n",
      "Trainable params: 419,841\n",
      "Non-trainable params: 0\n",
      "__________________________________________________________________________________________________\n"
     ]
    }
   ],
   "source": [
    "\n",
    "import time\n",
    "start_time = time.time()\n",
    "import os\n",
    "from MultiTimeframeCandleManager import *\n",
    "from datetime import datetime, timedelta\n",
    "from collections import deque\n",
    "import numpy as np\n",
    "from tqdm import tqdm\n",
    "import copy\n",
    "import tensorflow as tf\n",
    "import random\n",
    "from save_and_load import *\n",
    "from Candle import Candle\n",
    "import matplotlib.pyplot as plt\n",
    "#from tensorflow.keras import mixed_precision\n",
    "#mixed_precision.set_global_policy('mixed_float16')\n",
    "\n",
    "\n",
    "# In[6]:\n",
    "\n",
    "\n",
    "try:\n",
    "    cluster_resolver = tf.distribute.cluster_resolver.TPUClusterResolver(tpu=\"local\")\n",
    "    tf.config.experimental_connect_to_cluster(cluster_resolver)\n",
    "    tf.tpu.experimental.initialize_tpu_system(cluster_resolver)\n",
    "    strategy = tf.distribute.TPUStrategy(cluster_resolver)\n",
    "    print(\"use tpu strategy\")\n",
    "except:\n",
    "    strategy = tf.distribute.MirroredStrategy()\n",
    "strategy\n",
    "\n",
    "\n",
    "\n",
    "with strategy.scope():\n",
    "#if True:\n",
    "\n",
    "  lrelu = tf.keras.layers.LeakyReLU(0.05)\n",
    "\n",
    "\n",
    "  chart_m15 = tf.keras.layers.Input(shape = (60,4))\n",
    "  chart_m5 = tf.keras.layers.Input(shape = (60,4))\n",
    "  chart_m1 = tf.keras.layers.Input(shape = (60,4))\n",
    "\n",
    "  pdas = tf.keras.layers.Input(shape = (3*3+3*3+1+12*5+5*3,))\n",
    "\n",
    "  #current_position = tf.keras.layers.Input(shape = (3,))\n",
    "\n",
    "  minutes = tf.keras.layers.Input(shape = (1,))\n",
    "  minutes_embed = tf.keras.layers.Embedding(input_dim=60*24, output_dim=8)(minutes)\n",
    "  minutes_embed_flat = tf.keras.layers.Flatten()(minutes_embed)\n",
    "\n",
    "  f15 = tf.keras.layers.Flatten()(chart_m15)\n",
    "  f5 = tf.keras.layers.Flatten()(chart_m5)\n",
    "  f1 = tf.keras.layers.Flatten()(chart_m1)\n",
    "\n",
    "  #c = tf.keras.layers.Concatenate()([f15, f5, f1, pdas, minutes_embed_flat, current_position, scaled_open_profit])\n",
    "  c = tf.keras.layers.Concatenate()([f15, f5, f1, pdas, minutes_embed_flat])\n",
    "\n",
    "  d = tf.keras.layers.Dense(256)(c)\n",
    "  d = lrelu(d)\n",
    "  d = tf.keras.layers.Dense(256)(d)\n",
    "  d = lrelu(d)\n",
    "  d = tf.keras.layers.Dense(256)(d)\n",
    "  d = lrelu(d)\n",
    "  d = tf.keras.layers.Dense(256)(d)\n",
    "  d = lrelu(d)\n",
    "\n",
    "\n",
    "  output = tf.keras.layers.Dense(1, activation=\"tanh\")(d)\n",
    "\n",
    "  model = tf.keras.Model(inputs = [chart_m15, chart_m5, chart_m1, pdas, minutes], outputs = output)\n",
    "\n",
    "  optimizer = tf.keras.optimizers.Adam(learning_rate = 0.000001)\n",
    "\n",
    "\n",
    "\n",
    "model.summary()\n"
   ]
  },
  {
   "cell_type": "code",
   "execution_count": 2,
   "metadata": {
    "colab": {
     "base_uri": "https://localhost:8080/"
    },
    "id": "TnSD3LALKp_a",
    "outputId": "705d86f6-563d-4391-e79f-10e7319204cd"
   },
   "outputs": [
    {
     "name": "stdout",
     "output_type": "stream",
     "text": [
      "loading NQ_2\n"
     ]
    }
   ],
   "source": [
    "candles = obj_load(\"NQ_2\")"
   ]
  },
  {
   "cell_type": "code",
   "execution_count": 3,
   "metadata": {
    "colab": {
     "base_uri": "https://localhost:8080/"
    },
    "id": "idHijsZTLVXT",
    "outputId": "979c062f-dc31-4410-b535-048fa700f34f"
   },
   "outputs": [
    {
     "name": "stderr",
     "output_type": "stream",
     "text": [
      "100%|████████████████████████████████████████████████████████████████████████| 100000/100000 [01:01<00:00, 1614.95it/s]\n"
     ]
    }
   ],
   "source": [
    "m = MultiTimeframeCandleManager()\n",
    "\n",
    "train_data = []\n",
    "\n",
    "index = 0\n",
    "\n",
    "for _ in range(10000):\n",
    "    ret = m.push_m1_candle(candles[index])\n",
    "    index += 1\n",
    "\n",
    "#for _ in tqdm(range(len(candles)-20)):\n",
    "for _ in tqdm(range(100000)):\n",
    "    ret = m.push_m1_candle(candles[index])\n",
    "    midnight_open, midnight_opening_range_high,midnight_opening_range_low, pdas, current_close, current_time, charts = ret\n",
    "\n",
    "\n",
    "    avg_candle_range = np.mean([ i.h - i.l for i in list(charts[2])])\n",
    "#avg_candle_range\n",
    "\n",
    "    slv = avg_candle_range * 3\n",
    "    tpv = avg_candle_range * 6\n",
    "    c = m.m1_candles[-1].c\n",
    "\n",
    "    slshort = c + slv\n",
    "    tpshort = c - tpv\n",
    "    sllong = c - slv\n",
    "    tplong = c + tpv\n",
    "\n",
    "    short_stop = False\n",
    "    long_stop = False\n",
    "    short_hit = False\n",
    "    long_hit = False\n",
    "\n",
    "    for index_forward in range(index+1, index+20):\n",
    "        next_candle = candles[index_forward]\n",
    "        ncl = next_candle.l\n",
    "        nch = next_candle.h\n",
    "\n",
    "        if short_hit == False and ncl < sllong:\n",
    "            long_stop = True\n",
    "        if long_hit == False and nch > slshort:\n",
    "            short_stop = True\n",
    "\n",
    "        if short_stop == False and ncl < tpshort:\n",
    "            short_hit = True\n",
    "        if long_stop == False and nch > tplong:\n",
    "            long_hit = True\n",
    "\n",
    "    #print(long_hit, short_hit, short_stop, long_stop)\n",
    "\n",
    "    x = ret_to_scaled_inputs(ret)\n",
    "    y = 0\n",
    "    if long_hit:\n",
    "        y=1\n",
    "    if short_hit:\n",
    "        y=-1\n",
    "\n",
    "    train_data.append((x,y))\n",
    "\n",
    "    index += 1"
   ]
  },
  {
   "cell_type": "code",
   "execution_count": 4,
   "metadata": {
    "colab": {
     "base_uri": "https://localhost:8080/",
     "height": 430
    },
    "id": "YkWLsbU2LuLf",
    "outputId": "66afb6d9-3124-4209-dc80-7290c7b698a3"
   },
   "outputs": [
    {
     "data": {
      "image/png": "[encoded data removed]",
      "text/plain": [
       "<Figure size 640x480 with 1 Axes>"
      ]
     },
     "metadata": {},
     "output_type": "display_data"
    }
   ],
   "source": [
    "def plot_candles(candles):\n",
    "    for index in range(len(candles)):\n",
    "        candle = candles[index]\n",
    "        c = \"green\" if candle.c > candle.o else \"black\"\n",
    "        plt.plot([index, index], [candle.l, candle.h], linewidth=1, color = \"black\")\n",
    "        plt.plot([index, index], [candle.c, candle.o], linewidth=3, color = c)\n",
    "plot_candles(list(m.m1_candles))\n"
   ]
  },
  {
   "cell_type": "code",
   "execution_count": 5,
   "metadata": {
    "id": "9U6tVN6sLzUw"
   },
   "outputs": [],
   "source": [
    "\n",
    "tf.function(jit_compile=False) # my gpu does not support this\n",
    "def tstep(data):\n",
    "    x, y = data\n",
    "\n",
    "    with tf.GradientTape() as t:\n",
    "        model_return = model(x, training=True)\n",
    "        #print(y, model_return)\n",
    "        loss = tf.math.square(y - model_return)\n",
    "        #print(loss)\n",
    "        loss = tf.reduce_mean(loss)\n",
    "\n",
    "\n",
    "    gradient = t.gradient(loss, model.trainable_variables)\n",
    "    optimizer.apply_gradients(zip(gradient, model.trainable_variables))\n",
    "\n",
    "    return loss\n",
    "\n",
    "\n",
    "# In[14]:\n",
    "\n",
    "batch_size = 512\n",
    "\n",
    "train_index = 0\n",
    "def get_data(_):\n",
    "    global train_index\n",
    "    train_sample = [train_data[i] for i in range(train_index, train_index + batch_size)]\n",
    "    train_index += batch_size\n",
    "    if train_index + batch_size >= len(train_data):\n",
    "        train_index = 0\n",
    "\n",
    "    # Extract multiple input features\n",
    "    states = [x[0] for x in train_sample]  # Extract input features (list of lists)\n",
    "    states_array = [\n",
    "        np.array([sample[i] for sample in states], dtype=\"float32\") for i in range(len(states[0]))\n",
    "    ]  # Convert each input feature to an array\n",
    "\n",
    "    # Convert to TensorFlow tensors\n",
    "    states_tensor = [tf.convert_to_tensor(arr) for arr in states_array]\n",
    "\n",
    "    # Extract targets and convert to tensor\n",
    "    targets = np.array([x[1] for x in train_sample], dtype=\"float32\")\n",
    "    targets_tensor = tf.convert_to_tensor(targets)\n",
    "\n",
    "    return states_tensor, targets_tensor  # Return tuple (list of tensors, labels tensor)\n"
   ]
  },
  {
   "cell_type": "code",
   "execution_count": 9,
   "metadata": {
    "colab": {
     "base_uri": "https://localhost:8080/"
    },
    "id": "GCcmIJvPL0y5",
    "outputId": "ef8905c0-dad5-4979-e30f-2c524f9517ed"
   },
   "outputs": [],
   "source": [
    "try:\n",
    "    model.load_weights(\"model.weights.h5\")\n",
    "except Exception as e:\n",
    "    print(e)"
   ]
  },
  {
   "cell_type": "code",
   "execution_count": 7,
   "metadata": {
    "colab": {
     "base_uri": "https://localhost:8080/",
     "height": 448
    },
    "id": "HMgxpPSeL2Ux",
    "outputId": "8030e5d1-d1ec-4c4a-d91d-87247062c821"
   },
   "outputs": [
    {
     "data": {
      "image/png": "[encoded data removed]",
      "text/plain": [
       "<Figure size 640x480 with 1 Axes>"
      ]
     },
     "metadata": {},
     "output_type": "display_data"
    }
   ],
   "source": [
    "@tf.function\n",
    "def run(data):\n",
    "    loss = strategy.reduce(tf.distribute.ReduceOp.MEAN, strategy.run(tstep, args = (data,)), axis = None)\n",
    "    return loss\n",
    "\n",
    "import IPython\n",
    "\n",
    "loss_lt = []\n",
    "\n",
    "for _ in range(50):\n",
    "    losses_st = []\n",
    "    for _ in tqdm(range(1000)):\n",
    "        distributed_data = (strategy.experimental_distribute_values_from_function(get_data))\n",
    "        loss = run(distributed_data)\n",
    "        #print(loss)\n",
    "        losses_st.append(loss)\n",
    "\n",
    "    loss_lt.append(np.mean(losses_st))\n",
    "\n",
    "    IPython.display.clear_output()\n",
    "    plt.plot(loss_lt)\n",
    "    plt.show()\n"
   ]
  },
  {
   "cell_type": "code",
   "execution_count": 8,
   "metadata": {
    "id": "msJPA1xLZQ5H"
   },
   "outputs": [
    {
     "name": "stdout",
     "output_type": "stream",
     "text": [
      "WARNING:tensorflow:Compiled the loaded model, but the compiled metrics have yet to be built. `model.compile_metrics` will be empty until you train or evaluate the model.\n"
     ]
    }
   ],
   "source": [
    "model.save_weights(\"model.weights.h5\")\n",
    "model.save(\"model.keras\")"
   ]
  },
  {
   "cell_type": "code",
   "execution_count": null,
   "metadata": {
    "id": "gmqHRWM1ZZPT"
   },
   "outputs": [],
   "source": []
  }
 ],
 "metadata": {
  "accelerator": "GPU",
  "colab": {
   "gpuType": "T4",
   "provenance": []
  },
  "kernelspec": {
   "display_name": "Python 3 (ipykernel)",
   "language": "python",
   "name": "python3"
  },
  "language_info": {
   "codemirror_mode": {
    "name": "ipython",
    "version": 3
   },
   "file_extension": ".py",
   "mimetype": "text/x-python",
   "name": "python",
   "nbconvert_exporter": "python",
   "pygments_lexer": "ipython3",
   "version": "3.10.11"
  }
 },
 "nbformat": 4,
 "nbformat_minor": 4
}
