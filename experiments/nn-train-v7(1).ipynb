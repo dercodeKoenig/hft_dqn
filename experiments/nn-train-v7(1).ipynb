{
 "cells": [
  {
   "cell_type": "code",
   "execution_count": 1,
   "id": "7f0382ec",
   "metadata": {
    "_cell_guid": "b1076dfc-b9ad-4769-8c92-a6c4dae69d19",
    "_uuid": "8f2839f25d086af736a60e9eeb907d3b93b6e0e5",
    "execution": {
     "iopub.execute_input": "2025-04-14T11:26:10.328756Z",
     "iopub.status.busy": "2025-04-14T11:26:10.328555Z",
     "iopub.status.idle": "2025-04-14T11:26:25.672725Z",
     "shell.execute_reply": "2025-04-14T11:26:25.667797Z"
    },
    "papermill": {
     "duration": 15.353708,
     "end_time": "2025-04-14T11:26:25.675836",
     "exception": false,
     "start_time": "2025-04-14T11:26:10.322128",
     "status": "completed"
    },
    "tags": []
   },
   "outputs": [
    {
     "name": "stdout",
     "output_type": "stream",
     "text": [
      "Cloning into 'hft_dqn'...\r\n"
     ]
    },
    {
     "name": "stdout",
     "output_type": "stream",
     "text": [
      "remote: Enumerating objects: 791, done.\u001b[K\r\n",
      "remote: Counting objects:   1% (1/92)\u001b[K\r",
      "remote: Counting objects:   2% (2/92)\u001b[K\r",
      "remote: Counting objects:   3% (3/92)\u001b[K\r",
      "remote: Counting objects:   4% (4/92)\u001b[K\r",
      "remote: Counting objects:   5% (5/92)\u001b[K\r",
      "remote: Counting objects:   6% (6/92)\u001b[K\r",
      "remote: Counting objects:   7% (7/92)\u001b[K\r",
      "remote: Counting objects:   8% (8/92)\u001b[K\r",
      "remote: Counting objects:   9% (9/92)\u001b[K\r",
      "remote: Counting objects:  10% (10/92)\u001b[K\r",
      "remote: Counting objects:  11% (11/92)\u001b[K\r",
      "remote: Counting objects:  13% (12/92)\u001b[K\r",
      "remote: Counting objects:  14% (13/92)\u001b[K\r",
      "remote: Counting objects:  15% (14/92)\u001b[K\r",
      "remote: Counting objects:  16% (15/92)\u001b[K\r",
      "remote: Counting objects:  17% (16/92)\u001b[K\r",
      "remote: Counting objects:  18% (17/92)\u001b[K\r",
      "remote: Counting objects:  19% (18/92)\u001b[K\r",
      "remote: Counting objects:  20% (19/92)\u001b[K\r",
      "remote: Counting objects:  21% (20/92)\u001b[K\r",
      "remote: Counting objects:  22% (21/92)\u001b[K\r",
      "remote: Counting objects:  23% (22/92)\u001b[K\r",
      "remote: Counting objects:  25% (23/92)\u001b[K\r",
      "remote: Counting objects:  26% (24/92)\u001b[K\r",
      "remote: Counting objects:  27% (25/92)\u001b[K\r",
      "remote: Counting objects:  28% (26/92)\u001b[K\r",
      "remote: Counting objects:  29% (27/92)\u001b[K\r",
      "remote: Counting objects:  30% (28/92)\u001b[K\r",
      "remote: Counting objects:  31% (29/92)\u001b[K\r",
      "remote: Counting objects:  32% (30/92)\u001b[K\r",
      "remote: Counting objects:  33% (31/92)\u001b[K\r",
      "remote: Counting objects:  34% (32/92)\u001b[K\r",
      "remote: Counting objects:  35% (33/92)\u001b[K\r",
      "remote: Counting objects:  36% (34/92)\u001b[K\r",
      "remote: Counting objects:  38% (35/92)\u001b[K\r",
      "remote: Counting objects:  39% (36/92)\u001b[K\r",
      "remote: Counting objects:  40% (37/92)\u001b[K\r",
      "remote: Counting objects:  41% (38/92)\u001b[K\r",
      "remote: Counting objects:  42% (39/92)\u001b[K\r",
      "remote: Counting objects:  43% (40/92)\u001b[K\r",
      "remote: Counting objects:  44% (41/92)\u001b[K\r",
      "remote: Counting objects:  45% (42/92)\u001b[K\r",
      "remote: Counting objects:  46% (43/92)\u001b[K\r",
      "remote: Counting objects:  47% (44/92)\u001b[K\r",
      "remote: Counting objects:  48% (45/92)\u001b[K\r",
      "remote: Counting objects:  50% (46/92)\u001b[K\r",
      "remote: Counting objects:  51% (47/92)\u001b[K\r",
      "remote: Counting objects:  52% (48/92)\u001b[K\r",
      "remote: Counting objects:  53% (49/92)\u001b[K\r",
      "remote: Counting objects:  54% (50/92)\u001b[K\r",
      "remote: Counting objects:  55% (51/92)\u001b[K\r",
      "remote: Counting objects:  56% (52/92)\u001b[K\r",
      "remote: Counting objects:  57% (53/92)\u001b[K\r",
      "remote: Counting objects:  58% (54/92)\u001b[K\r",
      "remote: Counting objects:  59% (55/92)\u001b[K\r",
      "remote: Counting objects:  60% (56/92)\u001b[K\r",
      "remote: Counting objects:  61% (57/92)\u001b[K\r",
      "remote: Counting objects:  63% (58/92)\u001b[K\r",
      "remote: Counting objects:  64% (59/92)\u001b[K\r",
      "remote: Counting objects:  65% (60/92)\u001b[K\r",
      "remote: Counting objects:  66% (61/92)\u001b[K\r",
      "remote: Counting objects:  67% (62/92)\u001b[K\r",
      "remote: Counting objects:  68% (63/92)\u001b[K\r",
      "remote: Counting objects:  69% (64/92)\u001b[K\r",
      "remote: Counting objects:  70% (65/92)\u001b[K\r",
      "remote: Counting objects:  71% (66/92)\u001b[K\r",
      "remote: Counting objects:  72% (67/92)\u001b[K\r",
      "remote: Counting objects:  73% (68/92)\u001b[K\r",
      "remote: Counting objects:  75% (69/92)\u001b[K\r",
      "remote: Counting objects:  76% (70/92)\u001b[K\r",
      "remote: Counting objects:  77% (71/92)\u001b[K\r",
      "remote: Counting objects:  78% (72/92)\u001b[K\r",
      "remote: Counting objects:  79% (73/92)\u001b[K\r",
      "remote: Counting objects:  80% (74/92)\u001b[K\r",
      "remote: Counting objects:  81% (75/92)\u001b[K\r",
      "remote: Counting objects:  82% (76/92)\u001b[K\r",
      "remote: Counting objects:  83% (77/92)\u001b[K\r",
      "remote: Counting objects:  84% (78/92)\u001b[K\r",
      "remote: Counting objects:  85% (79/92)\u001b[K\r",
      "remote: Counting objects:  86% (80/92)\u001b[K\r",
      "remote: Counting objects:  88% (81/92)\u001b[K\r",
      "remote: Counting objects:  89% (82/92)\u001b[K\r",
      "remote: Counting objects:  90% (83/92)\u001b[K\r",
      "remote: Counting objects:  91% (84/92)\u001b[K\r",
      "remote: Counting objects:  92% (85/92)\u001b[K\r",
      "remote: Counting objects:  93% (86/92)\u001b[K\r",
      "remote: Counting objects:  94% (87/92)\u001b[K\r",
      "remote: Counting objects:  95% (88/92)\u001b[K\r",
      "remote: Counting objects:  96% (89/92)\u001b[K\r",
      "remote: Counting objects:  97% (90/92)\u001b[K\r",
      "remote: Counting objects:  98% (91/92)\u001b[K\r",
      "remote: Counting objects: 100% (92/92)\u001b[K\r",
      "remote: Counting objects: 100% (92/92), done.\u001b[K\r\n",
      "remote: Compressing objects:   2% (1/42)\u001b[K\r",
      "remote: Compressing objects:   4% (2/42)\u001b[K\r",
      "remote: Compressing objects:   7% (3/42)\u001b[K\r",
      "remote: Compressing objects:   9% (4/42)\u001b[K\r",
      "remote: Compressing objects:  11% (5/42)\u001b[K\r",
      "remote: Compressing objects:  14% (6/42)\u001b[K\r",
      "remote: Compressing objects:  16% (7/42)\u001b[K\r"
     ]
    },
    {
     "name": "stdout",
     "output_type": "stream",
     "text": [
      "remote: Compressing objects:  19% (8/42)\u001b[K\r",
      "remote: Compressing objects:  21% (9/42)\u001b[K\r",
      "remote: Compressing objects:  23% (10/42)\u001b[K\r",
      "remote: Compressing objects:  26% (11/42)\u001b[K\r",
      "remote: Compressing objects:  28% (12/42)\u001b[K\r",
      "remote: Compressing objects:  30% (13/42)\u001b[K\r",
      "remote: Compressing objects:  33% (14/42)\u001b[K\r",
      "remote: Compressing objects:  35% (15/42)\u001b[K\r",
      "remote: Compressing objects:  38% (16/42)\u001b[K\r",
      "remote: Compressing objects:  40% (17/42)\u001b[K\r",
      "remote: Compressing objects:  42% (18/42)\u001b[K\r",
      "remote: Compressing objects:  45% (19/42)\u001b[K\r",
      "remote: Compressing objects:  47% (20/42)\u001b[K\r",
      "remote: Compressing objects:  50% (21/42)\u001b[K\r",
      "remote: Compressing objects:  52% (22/42)\u001b[K\r",
      "remote: Compressing objects:  54% (23/42)\u001b[K\r",
      "remote: Compressing objects:  57% (24/42)\u001b[K\r",
      "remote: Compressing objects:  59% (25/42)\u001b[K\r",
      "remote: Compressing objects:  61% (26/42)\u001b[K\r",
      "remote: Compressing objects:  64% (27/42)\u001b[K\r",
      "remote: Compressing objects:  66% (28/42)\u001b[K\r",
      "remote: Compressing objects:  69% (29/42)\u001b[K\r",
      "remote: Compressing objects:  71% (30/42)\u001b[K\r",
      "remote: Compressing objects:  73% (31/42)\u001b[K\r",
      "remote: Compressing objects:  76% (32/42)\u001b[K\r",
      "remote: Compressing objects:  78% (33/42)\u001b[K\r",
      "remote: Compressing objects:  80% (34/42)\u001b[K\r",
      "remote: Compressing objects:  83% (35/42)\u001b[K\r",
      "remote: Compressing objects:  85% (36/42)\u001b[K\r",
      "remote: Compressing objects:  88% (37/42)\u001b[K\r",
      "remote: Compressing objects:  90% (38/42)\u001b[K\r",
      "remote: Compressing objects:  92% (39/42)\u001b[K\r",
      "remote: Compressing objects:  95% (40/42)\u001b[K\r",
      "remote: Compressing objects:  97% (41/42)\u001b[K\r",
      "remote: Compressing objects: 100% (42/42)\u001b[K\r",
      "remote: Compressing objects: 100% (42/42), done.\u001b[K\r\n",
      "Receiving objects:   0% (1/791)\r",
      "Receiving objects:   1% (8/791)\r"
     ]
    },
    {
     "name": "stdout",
     "output_type": "stream",
     "text": [
      "Receiving objects:   2% (16/791)\r"
     ]
    },
    {
     "name": "stdout",
     "output_type": "stream",
     "text": [
      "Receiving objects:   3% (24/791)\r"
     ]
    },
    {
     "name": "stdout",
     "output_type": "stream",
     "text": [
      "Receiving objects:   4% (32/791)\r",
      "Receiving objects:   5% (40/791)\r",
      "Receiving objects:   6% (48/791)\r",
      "Receiving objects:   7% (56/791)\r"
     ]
    },
    {
     "name": "stdout",
     "output_type": "stream",
     "text": [
      "Receiving objects:   7% (61/791), 25.32 MiB | 25.31 MiB/s\r"
     ]
    },
    {
     "name": "stdout",
     "output_type": "stream",
     "text": [
      "Receiving objects:   8% (64/791), 25.32 MiB | 25.31 MiB/s\r",
      "Receiving objects:   9% (72/791), 25.32 MiB | 25.31 MiB/s\r",
      "Receiving objects:  10% (80/791), 25.32 MiB | 25.31 MiB/s\r",
      "Receiving objects:  11% (88/791), 25.32 MiB | 25.31 MiB/s\r"
     ]
    },
    {
     "name": "stdout",
     "output_type": "stream",
     "text": [
      "Receiving objects:  12% (95/791), 25.32 MiB | 25.31 MiB/s\r",
      "Receiving objects:  13% (103/791), 25.32 MiB | 25.31 MiB/s\r",
      "Receiving objects:  14% (111/791), 25.32 MiB | 25.31 MiB/s\r",
      "Receiving objects:  15% (119/791), 25.32 MiB | 25.31 MiB/s\r",
      "Receiving objects:  16% (127/791), 25.32 MiB | 25.31 MiB/s\r"
     ]
    },
    {
     "name": "stdout",
     "output_type": "stream",
     "text": [
      "Receiving objects:  17% (135/791), 41.25 MiB | 27.49 MiB/s\r"
     ]
    },
    {
     "name": "stdout",
     "output_type": "stream",
     "text": [
      "Receiving objects:  17% (141/791), 54.37 MiB | 27.18 MiB/s\r"
     ]
    },
    {
     "name": "stdout",
     "output_type": "stream",
     "text": [
      "Receiving objects:  18% (143/791), 54.37 MiB | 27.18 MiB/s\r",
      "Receiving objects:  19% (151/791), 54.37 MiB | 27.18 MiB/s\r",
      "Receiving objects:  20% (159/791), 54.37 MiB | 27.18 MiB/s\r",
      "Receiving objects:  21% (167/791), 54.37 MiB | 27.18 MiB/s\r"
     ]
    },
    {
     "name": "stdout",
     "output_type": "stream",
     "text": [
      "Receiving objects:  22% (175/791), 54.37 MiB | 27.18 MiB/s\r",
      "Receiving objects:  23% (182/791), 54.37 MiB | 27.18 MiB/s\r",
      "Receiving objects:  24% (190/791), 54.37 MiB | 27.18 MiB/s\r",
      "Receiving objects:  25% (198/791), 54.37 MiB | 27.18 MiB/s\r",
      "Receiving objects:  26% (206/791), 54.37 MiB | 27.18 MiB/s\r",
      "Receiving objects:  27% (214/791), 54.37 MiB | 27.18 MiB/s\r",
      "Receiving objects:  28% (222/791), 54.37 MiB | 27.18 MiB/s\r"
     ]
    },
    {
     "name": "stdout",
     "output_type": "stream",
     "text": [
      "Receiving objects:  29% (230/791), 80.04 MiB | 32.01 MiB/s\r",
      "Receiving objects:  30% (238/791), 80.04 MiB | 32.01 MiB/s\r"
     ]
    },
    {
     "name": "stdout",
     "output_type": "stream",
     "text": [
      "Receiving objects:  31% (246/791), 80.04 MiB | 32.01 MiB/s\r",
      "Receiving objects:  32% (254/791), 80.04 MiB | 32.01 MiB/s\r"
     ]
    },
    {
     "name": "stdout",
     "output_type": "stream",
     "text": [
      "Receiving objects:  32% (260/791), 98.40 MiB | 32.80 MiB/s\r"
     ]
    },
    {
     "name": "stdout",
     "output_type": "stream",
     "text": [
      "Receiving objects:  33% (262/791), 98.40 MiB | 32.80 MiB/s\r"
     ]
    },
    {
     "name": "stdout",
     "output_type": "stream",
     "text": [
      "Receiving objects:  34% (269/791), 98.40 MiB | 32.80 MiB/s\r"
     ]
    },
    {
     "name": "stdout",
     "output_type": "stream",
     "text": [
      "Receiving objects:  35% (277/791), 98.40 MiB | 32.80 MiB/s\r"
     ]
    },
    {
     "name": "stdout",
     "output_type": "stream",
     "text": [
      "Receiving objects:  36% (285/791), 98.40 MiB | 32.80 MiB/s\r"
     ]
    },
    {
     "name": "stdout",
     "output_type": "stream",
     "text": [
      "Receiving objects:  37% (293/791), 119.05 MiB | 34.01 MiB/s\r"
     ]
    },
    {
     "name": "stdout",
     "output_type": "stream",
     "text": [
      "Receiving objects:  37% (297/791), 139.21 MiB | 34.74 MiB/s\r"
     ]
    },
    {
     "name": "stdout",
     "output_type": "stream",
     "text": [
      "Receiving objects:  38% (301/791), 139.21 MiB | 34.74 MiB/s\r"
     ]
    },
    {
     "name": "stdout",
     "output_type": "stream",
     "text": [
      "Receiving objects:  39% (309/791), 139.21 MiB | 34.74 MiB/s\r"
     ]
    },
    {
     "name": "stdout",
     "output_type": "stream",
     "text": [
      "Receiving objects:  40% (317/791), 139.21 MiB | 34.74 MiB/s\r"
     ]
    },
    {
     "name": "stdout",
     "output_type": "stream",
     "text": [
      "Receiving objects:  41% (325/791), 139.21 MiB | 34.74 MiB/s\r",
      "Receiving objects:  42% (333/791), 139.21 MiB | 34.74 MiB/s\r"
     ]
    },
    {
     "name": "stdout",
     "output_type": "stream",
     "text": [
      "Receiving objects:  43% (341/791), 159.73 MiB | 35.44 MiB/s\r"
     ]
    },
    {
     "name": "stdout",
     "output_type": "stream",
     "text": [
      "Receiving objects:  43% (344/791), 180.70 MiB | 36.15 MiB/s\r"
     ]
    },
    {
     "name": "stdout",
     "output_type": "stream",
     "text": [
      "Receiving objects:  44% (349/791), 180.70 MiB | 36.15 MiB/s\r",
      "Receiving objects:  45% (356/791), 180.70 MiB | 36.15 MiB/s\r"
     ]
    },
    {
     "name": "stdout",
     "output_type": "stream",
     "text": [
      "Receiving objects:  46% (364/791), 201.85 MiB | 39.09 MiB/s\r"
     ]
    },
    {
     "name": "stdout",
     "output_type": "stream",
     "text": [
      "Receiving objects:  46% (368/791), 223.38 MiB | 40.34 MiB/s\r"
     ]
    },
    {
     "name": "stdout",
     "output_type": "stream",
     "text": [
      "Receiving objects:  47% (372/791), 223.38 MiB | 40.34 MiB/s\r"
     ]
    },
    {
     "name": "stdout",
     "output_type": "stream",
     "text": [
      "Receiving objects:  48% (380/791), 244.17 MiB | 42.04 MiB/s\r"
     ]
    },
    {
     "name": "stdout",
     "output_type": "stream",
     "text": [
      "Receiving objects:  48% (387/791), 265.78 MiB | 41.14 MiB/s\r"
     ]
    },
    {
     "name": "stdout",
     "output_type": "stream",
     "text": [
      "Receiving objects:  49% (388/791), 265.78 MiB | 41.14 MiB/s\r"
     ]
    },
    {
     "name": "stdout",
     "output_type": "stream",
     "text": [
      "Receiving objects:  50% (396/791), 265.78 MiB | 41.14 MiB/s\r"
     ]
    },
    {
     "name": "stdout",
     "output_type": "stream",
     "text": [
      "Receiving objects:  51% (404/791), 287.18 MiB | 41.76 MiB/s\r"
     ]
    },
    {
     "name": "stdout",
     "output_type": "stream",
     "text": [
      "Receiving objects:  52% (412/791), 287.18 MiB | 41.76 MiB/s\r"
     ]
    },
    {
     "name": "stdout",
     "output_type": "stream",
     "text": [
      "Receiving objects:  52% (419/791), 309.16 MiB | 41.90 MiB/s\r"
     ]
    },
    {
     "name": "stdout",
     "output_type": "stream",
     "text": [
      "Receiving objects:  53% (420/791), 309.16 MiB | 41.90 MiB/s\r"
     ]
    },
    {
     "name": "stdout",
     "output_type": "stream",
     "text": [
      "Receiving objects:  54% (428/791), 309.16 MiB | 41.90 MiB/s\r"
     ]
    },
    {
     "name": "stdout",
     "output_type": "stream",
     "text": [
      "Receiving objects:  55% (436/791), 309.16 MiB | 41.90 MiB/s\r",
      "Receiving objects:  56% (443/791), 309.16 MiB | 41.90 MiB/s\r",
      "Receiving objects:  57% (451/791), 309.16 MiB | 41.90 MiB/s\r",
      "Receiving objects:  58% (459/791), 309.16 MiB | 41.90 MiB/s\r",
      "Receiving objects:  59% (467/791), 309.16 MiB | 41.90 MiB/s\r",
      "Receiving objects:  60% (475/791), 309.16 MiB | 41.90 MiB/s\r",
      "Receiving objects:  61% (483/791), 309.16 MiB | 41.90 MiB/s\r",
      "Receiving objects:  62% (491/791), 309.16 MiB | 41.90 MiB/s\r",
      "Receiving objects:  63% (499/791), 309.16 MiB | 41.90 MiB/s\r",
      "Receiving objects:  64% (507/791), 309.16 MiB | 41.90 MiB/s\r",
      "Receiving objects:  65% (515/791), 309.16 MiB | 41.90 MiB/s\r",
      "Receiving objects:  66% (523/791), 309.16 MiB | 41.90 MiB/s\r",
      "Receiving objects:  67% (530/791), 309.16 MiB | 41.90 MiB/s\r",
      "Receiving objects:  68% (538/791), 309.16 MiB | 41.90 MiB/s\r",
      "Receiving objects:  69% (546/791), 309.16 MiB | 41.90 MiB/s\r",
      "Receiving objects:  70% (554/791), 309.16 MiB | 41.90 MiB/s\r",
      "Receiving objects:  71% (562/791), 309.16 MiB | 41.90 MiB/s\r",
      "Receiving objects:  72% (570/791), 309.16 MiB | 41.90 MiB/s\r"
     ]
    },
    {
     "name": "stdout",
     "output_type": "stream",
     "text": [
      "Receiving objects:  72% (574/791), 351.88 MiB | 42.42 MiB/s\r"
     ]
    },
    {
     "name": "stdout",
     "output_type": "stream",
     "text": [
      "Receiving objects:  73% (578/791), 373.84 MiB | 42.61 MiB/s\r",
      "Receiving objects:  74% (586/791), 373.84 MiB | 42.61 MiB/s\r",
      "Receiving objects:  75% (594/791), 373.84 MiB | 42.61 MiB/s\r",
      "Receiving objects:  76% (602/791), 373.84 MiB | 42.61 MiB/s\r"
     ]
    },
    {
     "name": "stdout",
     "output_type": "stream",
     "text": [
      "Receiving objects:  77% (610/791), 373.84 MiB | 42.61 MiB/s\r",
      "Receiving objects:  78% (617/791), 373.84 MiB | 42.61 MiB/s\r"
     ]
    },
    {
     "name": "stdout",
     "output_type": "stream",
     "text": [
      "Receiving objects:  79% (625/791), 373.84 MiB | 42.61 MiB/s\r",
      "Receiving objects:  80% (633/791), 373.84 MiB | 42.61 MiB/s\r",
      "Receiving objects:  81% (641/791), 373.84 MiB | 42.61 MiB/s\r",
      "Receiving objects:  82% (649/791), 373.84 MiB | 42.61 MiB/s\r",
      "Receiving objects:  83% (657/791), 373.84 MiB | 42.61 MiB/s\r",
      "Receiving objects:  84% (665/791), 373.84 MiB | 42.61 MiB/s\r",
      "Receiving objects:  85% (673/791), 373.84 MiB | 42.61 MiB/s\r",
      "Receiving objects:  86% (681/791), 373.84 MiB | 42.61 MiB/s\r",
      "Receiving objects:  87% (689/791), 373.84 MiB | 42.61 MiB/s\r",
      "Receiving objects:  88% (697/791), 373.84 MiB | 42.61 MiB/s\r",
      "Receiving objects:  89% (704/791), 373.84 MiB | 42.61 MiB/s\r",
      "Receiving objects:  90% (712/791), 373.84 MiB | 42.61 MiB/s\r",
      "Receiving objects:  91% (720/791), 373.84 MiB | 42.61 MiB/s\r",
      "Receiving objects:  92% (728/791), 373.84 MiB | 42.61 MiB/s\r",
      "Receiving objects:  93% (736/791), 373.84 MiB | 42.61 MiB/s\r",
      "Receiving objects:  94% (744/791), 373.84 MiB | 42.61 MiB/s\r",
      "Receiving objects:  95% (752/791), 373.84 MiB | 42.61 MiB/s\r",
      "Receiving objects:  96% (760/791), 373.84 MiB | 42.61 MiB/s\r"
     ]
    },
    {
     "name": "stdout",
     "output_type": "stream",
     "text": [
      "Receiving objects:  97% (768/791), 373.84 MiB | 42.61 MiB/s\r",
      "Receiving objects:  98% (776/791), 373.84 MiB | 42.61 MiB/s\r",
      "Receiving objects:  99% (784/791), 373.84 MiB | 42.61 MiB/s\r",
      "remote: Total 791 (delta 59), reused 75 (delta 49), pack-reused 699 (from 1)\u001b[K\r\n",
      "Receiving objects: 100% (791/791), 373.84 MiB | 42.61 MiB/s\r",
      "Receiving objects: 100% (791/791), 378.92 MiB | 39.00 MiB/s, done.\r\n",
      "Resolving deltas:   0% (0/452)\r",
      "Resolving deltas:   1% (5/452)\r",
      "Resolving deltas:   2% (10/452)\r",
      "Resolving deltas:   3% (14/452)\r",
      "Resolving deltas:   4% (21/452)\r",
      "Resolving deltas:   5% (24/452)\r",
      "Resolving deltas:   6% (30/452)\r",
      "Resolving deltas:   7% (32/452)\r",
      "Resolving deltas:   8% (37/452)\r",
      "Resolving deltas:   9% (41/452)\r",
      "Resolving deltas:  10% (47/452)\r",
      "Resolving deltas:  11% (50/452)\r",
      "Resolving deltas:  12% (58/452)\r",
      "Resolving deltas:  13% (59/452)\r",
      "Resolving deltas:  15% (68/452)\r",
      "Resolving deltas:  16% (73/452)\r",
      "Resolving deltas:  17% (77/452)\r",
      "Resolving deltas:  18% (82/452)\r",
      "Resolving deltas:  19% (86/452)\r",
      "Resolving deltas:  20% (91/452)\r",
      "Resolving deltas:  21% (96/452)\r",
      "Resolving deltas:  22% (100/452)\r",
      "Resolving deltas:  23% (104/452)\r",
      "Resolving deltas:  24% (109/452)\r",
      "Resolving deltas:  25% (113/452)\r",
      "Resolving deltas:  26% (122/452)\r",
      "Resolving deltas:  27% (124/452)\r",
      "Resolving deltas:  28% (127/452)\r",
      "Resolving deltas:  29% (133/452)\r",
      "Resolving deltas:  30% (136/452)\r",
      "Resolving deltas:  31% (141/452)\r",
      "Resolving deltas:  32% (145/452)\r",
      "Resolving deltas:  33% (150/452)\r",
      "Resolving deltas:  34% (154/452)\r",
      "Resolving deltas:  35% (160/452)\r",
      "Resolving deltas:  36% (163/452)\r",
      "Resolving deltas:  37% (168/452)\r",
      "Resolving deltas:  38% (174/452)\r",
      "Resolving deltas:  39% (177/452)\r",
      "Resolving deltas:  40% (181/452)\r",
      "Resolving deltas:  41% (187/452)\r",
      "Resolving deltas:  42% (190/452)\r",
      "Resolving deltas:  43% (195/452)\r",
      "Resolving deltas:  44% (199/452)\r",
      "Resolving deltas:  45% (204/452)\r",
      "Resolving deltas:  46% (208/452)\r",
      "Resolving deltas:  48% (217/452)\r",
      "Resolving deltas:  49% (223/452)\r",
      "Resolving deltas:  50% (226/452)\r",
      "Resolving deltas:  51% (231/452)\r",
      "Resolving deltas:  52% (236/452)\r",
      "Resolving deltas:  53% (240/452)\r",
      "Resolving deltas:  54% (245/452)\r",
      "Resolving deltas:  57% (258/452)\r",
      "Resolving deltas:  58% (263/452)\r",
      "Resolving deltas:  59% (270/452)\r",
      "Resolving deltas:  60% (272/452)\r",
      "Resolving deltas:  61% (276/452)\r",
      "Resolving deltas:  62% (281/452)\r",
      "Resolving deltas:  63% (285/452)\r",
      "Resolving deltas:  65% (297/452)\r",
      "Resolving deltas:  66% (299/452)\r",
      "Resolving deltas:  67% (303/452)\r",
      "Resolving deltas:  68% (308/452)\r",
      "Resolving deltas:  69% (312/452)\r",
      "Resolving deltas:  70% (317/452)\r",
      "Resolving deltas:  71% (321/452)\r",
      "Resolving deltas:  72% (326/452)\r",
      "Resolving deltas:  73% (331/452)\r",
      "Resolving deltas:  74% (338/452)\r",
      "Resolving deltas:  75% (339/452)\r",
      "Resolving deltas:  76% (344/452)\r",
      "Resolving deltas:  77% (349/452)\r",
      "Resolving deltas:  78% (353/452)\r",
      "Resolving deltas:  79% (358/452)\r",
      "Resolving deltas:  80% (363/452)\r",
      "Resolving deltas:  81% (367/452)\r",
      "Resolving deltas:  82% (371/452)\r",
      "Resolving deltas:  83% (376/452)\r",
      "Resolving deltas:  84% (380/452)\r",
      "Resolving deltas:  85% (386/452)\r",
      "Resolving deltas:  86% (389/452)\r",
      "Resolving deltas:  87% (394/452)\r",
      "Resolving deltas:  88% (398/452)\r",
      "Resolving deltas:  89% (403/452)\r",
      "Resolving deltas:  90% (407/452)\r",
      "Resolving deltas:  91% (413/452)\r",
      "Resolving deltas:  92% (416/452)\r",
      "Resolving deltas:  93% (421/452)\r"
     ]
    },
    {
     "name": "stdout",
     "output_type": "stream",
     "text": [
      "Resolving deltas:  94% (425/452)\r"
     ]
    },
    {
     "name": "stdout",
     "output_type": "stream",
     "text": [
      "Resolving deltas:  95% (430/452)\r"
     ]
    },
    {
     "name": "stdout",
     "output_type": "stream",
     "text": [
      "Resolving deltas:  96% (434/452)\r"
     ]
    },
    {
     "name": "stdout",
     "output_type": "stream",
     "text": [
      "Resolving deltas:  96% (436/452)\r"
     ]
    },
    {
     "name": "stdout",
     "output_type": "stream",
     "text": [
      "Resolving deltas:  97% (439/452)\r"
     ]
    },
    {
     "name": "stdout",
     "output_type": "stream",
     "text": [
      "Resolving deltas:  97% (440/452)\r"
     ]
    },
    {
     "name": "stdout",
     "output_type": "stream",
     "text": [
      "Resolving deltas:  98% (443/452)\r"
     ]
    },
    {
     "name": "stdout",
     "output_type": "stream",
     "text": [
      "Resolving deltas:  99% (448/452)\r"
     ]
    },
    {
     "name": "stdout",
     "output_type": "stream",
     "text": [
      "Resolving deltas: 100% (452/452)\r",
      "Resolving deltas: 100% (452/452), done.\r\n"
     ]
    }
   ],
   "source": [
    "!git clone https://github.com/dercodeKoenig/hft_dqn\n",
    "!mv hft_dqn/*.py .\n",
    "!rm -r hft_dqn"
   ]
  },
  {
   "cell_type": "code",
   "execution_count": 2,
   "id": "901245aa",
   "metadata": {
    "execution": {
     "iopub.execute_input": "2025-04-14T11:26:25.694266Z",
     "iopub.status.busy": "2025-04-14T11:26:25.694006Z",
     "iopub.status.idle": "2025-04-14T11:26:51.794657Z",
     "shell.execute_reply": "2025-04-14T11:26:51.788020Z"
    },
    "papermill": {
     "duration": 26.115224,
     "end_time": "2025-04-14T11:26:51.798137",
     "exception": false,
     "start_time": "2025-04-14T11:26:25.682913",
     "status": "completed"
    },
    "tags": []
   },
   "outputs": [
    {
     "name": "stderr",
     "output_type": "stream",
     "text": [
      "WARNING: Logging before InitGoogle() is written to STDERR\n",
      "E0000 00:00:1744629992.559077      74 common_lib.cc:612] Could not set metric server port: INVALID_ARGUMENT: Could not find SliceBuilder port 8471 in any of the 0 ports provided in `tpu_process_addresses`=\"local\"\n",
      "=== Source Location Trace: === \n",
      "learning/45eac/tfrc/runtime/common_lib.cc:230\n"
     ]
    }
   ],
   "source": [
    "import threading\n",
    "import queue\n",
    "import time\n",
    "start_time = time.time()\n",
    "import os\n",
    "from MultiTimeframeCandleManager import *\n",
    "from datetime import datetime, timedelta\n",
    "from collections import deque\n",
    "import numpy as np\n",
    "from tqdm import tqdm\n",
    "import copy\n",
    "import tensorflow as tf\n",
    "import random\n",
    "from save_and_load import *\n",
    "from Candle import Candle\n",
    "import matplotlib.pyplot as plt\n",
    "from tensorflow.keras.layers import (\n",
    "        Input, Lambda, Concatenate, Dense, Embedding, Dropout, LSTM, \n",
    "        MultiHeadAttention, LayerNormalization, LeakyReLU, GlobalAveragePooling1D\n",
    "    )\n",
    "#from tensorflow.keras import mixed_precision\n",
    "#mixed_precision.set_global_policy('mixed_float16')\n",
    "\n",
    "start_time = time.time()\n",
    "\n",
    "tpu_mode = True"
   ]
  },
  {
   "cell_type": "code",
   "execution_count": 3,
   "id": "d40f8cf7",
   "metadata": {
    "execution": {
     "iopub.execute_input": "2025-04-14T11:26:51.815419Z",
     "iopub.status.busy": "2025-04-14T11:26:51.814794Z",
     "iopub.status.idle": "2025-04-14T11:37:40.026456Z",
     "shell.execute_reply": "2025-04-14T11:37:40.019151Z"
    },
    "papermill": {
     "duration": 648.225605,
     "end_time": "2025-04-14T11:37:40.030339",
     "exception": false,
     "start_time": "2025-04-14T11:26:51.804734",
     "status": "completed"
    },
    "tags": []
   },
   "outputs": [
    {
     "name": "stdout",
     "output_type": "stream",
     "text": [
      "['/kaggle/input/nn-v1-dataprep-nq2/NQ_2_train_2', '/kaggle/input/nn-v1-dataprep-nq2/NQ_2_train_3', '/kaggle/input/nn-v1-dataprep-nq2/NQ_2_train_1', '/kaggle/input/nn-v1-dataprep-nq2/NQ_2_train_0', '/kaggle/input/nn-v1-dataprep-es2/ES_2_train_0', '/kaggle/input/nn-v1-dataprep-es2/ES_2_train_1', '/kaggle/input/nn-v1-dataprep-es2/ES_2_train_3', '/kaggle/input/nn-v1-dataprep-es2/ES_2_train_2', '/kaggle/input/nn-v1-dataprep-ym2/YM_2_train_0', '/kaggle/input/nn-v1-dataprep-ym2/YM_2_train_3', '/kaggle/input/nn-v1-dataprep-ym2/YM_2_train_2', '/kaggle/input/nn-v1-dataprep-ym2/YM_2_train_1', '/kaggle/input/nn-v1-dataprep-eu2/EURUSD_2_train_0', '/kaggle/input/nn-v1-dataprep-eu2/EURUSD_2_train_1', '/kaggle/input/nn-v1-dataprep-gb2/GBPUSD_2_train_0', '/kaggle/input/nn-v1-dataprep-gb2/GBPUSD_2_train_1']\n",
      "loading /kaggle/input/nn-v1-dataprep-nq2/NQ_2_train_2\n"
     ]
    },
    {
     "name": "stdout",
     "output_type": "stream",
     "text": [
      "loading /kaggle/input/nn-v1-dataprep-nq2/NQ_2_train_3\n"
     ]
    },
    {
     "name": "stdout",
     "output_type": "stream",
     "text": [
      "loading /kaggle/input/nn-v1-dataprep-nq2/NQ_2_train_1\n"
     ]
    },
    {
     "name": "stdout",
     "output_type": "stream",
     "text": [
      "loading /kaggle/input/nn-v1-dataprep-nq2/NQ_2_train_0\n"
     ]
    },
    {
     "name": "stdout",
     "output_type": "stream",
     "text": [
      "loading /kaggle/input/nn-v1-dataprep-es2/ES_2_train_0\n"
     ]
    },
    {
     "name": "stdout",
     "output_type": "stream",
     "text": [
      "loading /kaggle/input/nn-v1-dataprep-es2/ES_2_train_1\n"
     ]
    },
    {
     "name": "stdout",
     "output_type": "stream",
     "text": [
      "loading /kaggle/input/nn-v1-dataprep-es2/ES_2_train_3\n"
     ]
    },
    {
     "name": "stdout",
     "output_type": "stream",
     "text": [
      "loading /kaggle/input/nn-v1-dataprep-es2/ES_2_train_2\n"
     ]
    },
    {
     "name": "stdout",
     "output_type": "stream",
     "text": [
      "loading /kaggle/input/nn-v1-dataprep-ym2/YM_2_train_0\n"
     ]
    },
    {
     "name": "stdout",
     "output_type": "stream",
     "text": [
      "loading /kaggle/input/nn-v1-dataprep-ym2/YM_2_train_3\n"
     ]
    },
    {
     "name": "stdout",
     "output_type": "stream",
     "text": [
      "loading /kaggle/input/nn-v1-dataprep-ym2/YM_2_train_2\n"
     ]
    },
    {
     "name": "stdout",
     "output_type": "stream",
     "text": [
      "loading /kaggle/input/nn-v1-dataprep-ym2/YM_2_train_1\n"
     ]
    },
    {
     "name": "stdout",
     "output_type": "stream",
     "text": [
      "loading /kaggle/input/nn-v1-dataprep-eu2/EURUSD_2_train_0\n"
     ]
    },
    {
     "name": "stdout",
     "output_type": "stream",
     "text": [
      "loading /kaggle/input/nn-v1-dataprep-eu2/EURUSD_2_train_1\n"
     ]
    },
    {
     "name": "stdout",
     "output_type": "stream",
     "text": [
      "loading /kaggle/input/nn-v1-dataprep-gb2/GBPUSD_2_train_0\n"
     ]
    },
    {
     "name": "stdout",
     "output_type": "stream",
     "text": [
      "loading /kaggle/input/nn-v1-dataprep-gb2/GBPUSD_2_train_1\n"
     ]
    },
    {
     "name": "stdout",
     "output_type": "stream",
     "text": [
      "info about y distribution:\n"
     ]
    },
    {
     "name": "stdout",
     "output_type": "stream",
     "text": [
      "raw distribution: 1455683 1373637 11289934\n",
      "relative distribution: 0.1030991439066115 0.09728821366907912 0.7996126424243094\n"
     ]
    }
   ],
   "source": [
    "\n",
    "\n",
    "train_data = []\n",
    "\n",
    "data_dirs = [\n",
    "    \"/kaggle/input/nn-v1-dataprep-nq2\",\n",
    "    \"/kaggle/input/nn-v1-dataprep-es2\",\n",
    "    \"/kaggle/input/nn-v1-dataprep-ym2\",\n",
    "    \"/kaggle/input/nn-v1-dataprep-eu2\",\n",
    "    \"/kaggle/input/nn-v1-dataprep-gb2\",\n",
    "]\n",
    "data_files= []\n",
    "for d in data_dirs:\n",
    "    subfiles = os.listdir(d)\n",
    "    for f in subfiles:\n",
    "        if \"_train_\" in f and \"_2\" in f:\n",
    "            data_files.append(os.path.join(d,f))\n",
    "print(data_files)\n",
    "\n",
    "data_index = 0\n",
    "def load_new_data():\n",
    "    global data_index\n",
    "    data_index+=1\n",
    "    if data_index >= len(data_files):\n",
    "        data_index = 0\n",
    "\n",
    "    file = data_files[data_index]\n",
    "    data = obj_load(file)\n",
    "    return data\n",
    "    \n",
    "\n",
    "data_queue = queue.Queue(maxsize=1)\n",
    "\n",
    "def data_loader():\n",
    "    \"\"\"Background thread that continuously loads data into the queue.\"\"\"\n",
    "    while True:\n",
    "        # Only load new data if there is room in the queue.\n",
    "        if data_queue.qsize() < data_queue.maxsize:\n",
    "            new_data = load_new_data()\n",
    "            print(\"new data loaded!\")\n",
    "            data_queue.put(new_data)\n",
    "        else:\n",
    "            # Sleep briefly to avoid busy waiting.\n",
    "            time.sleep(1)\n",
    "\n",
    "# Start the data loader thread as a daemon so it exits when the main program ends.\n",
    "if not tpu_mode:\n",
    "    loader_thread = threading.Thread(target=data_loader, daemon=True)\n",
    "    loader_thread.daemon = True\n",
    "    loader_thread.start()\n",
    "\n",
    "    # because it does not load all, enter distribution by hand:\n",
    "    c0, c1, c2 = 1454111, 1372224, 11281837\n",
    "\n",
    "# or load all data at once if it fits in memory\n",
    "else:\n",
    "    train_data=[]\n",
    "    for file in data_files:\n",
    "                    data = obj_load(file)\n",
    "                    train_data.extend(data)\n",
    "                    #break\n",
    "        #break\n",
    "\n",
    "    random.shuffle(train_data)\n",
    "    \n",
    "   # info about class distribution\n",
    "    c0 = 0\n",
    "    c1 = 0\n",
    "    c2 = 0\n",
    "    print(\"info about y distribution:\")\n",
    "    for x,y in train_data:\n",
    "            if y == -1:\n",
    "                c0+=1\n",
    "            if y == 1:\n",
    "                c1+=1\n",
    "            if y == 0:\n",
    "                c2+=1\n",
    "print(\"raw distribution:\", c0,c1,c2)\n",
    "l = c0+c1+c2\n",
    "print(\"relative distribution:\", c0/l,c1/l,c2/l)\n"
   ]
  },
  {
   "cell_type": "code",
   "execution_count": 4,
   "id": "50e50e83",
   "metadata": {
    "execution": {
     "iopub.execute_input": "2025-04-14T11:37:40.074336Z",
     "iopub.status.busy": "2025-04-14T11:37:40.074075Z",
     "iopub.status.idle": "2025-04-14T11:37:40.199416Z",
     "shell.execute_reply": "2025-04-14T11:37:40.195337Z"
    },
    "papermill": {
     "duration": 0.164614,
     "end_time": "2025-04-14T11:37:40.202151",
     "exception": false,
     "start_time": "2025-04-14T11:37:40.037537",
     "status": "completed"
    },
    "tags": []
   },
   "outputs": [],
   "source": [
    "\n",
    "## TODO: maybe split back to 3x60 before final lstm?\n",
    "\n",
    "\n",
    "def make_model():\n",
    "    dropout_rate = 0.05  # adjust as needed\n",
    "\n",
    "     ### Define helper to process a chart input (shape: (60,5))\n",
    "    def process_chart(chart_input, name):\n",
    "        # Separate OHLC (first 4 columns) and time (5th column)\n",
    "        ohlc = Lambda(lambda x: tf.clip_by_value(x[:, :, :4], -1000.0, 1000.0), name=f'{name}_clip_ohlc')(chart_input)\n",
    "        t = Lambda(lambda x: x[:, :, 4], name=f'{name}_extract_time')(chart_input)\n",
    "        # Wrap tf.cast in a Lambda so that it's applied as a Keras operation\n",
    "        t_int = Lambda(lambda x: tf.cast(x, tf.int32), name=f'{name}_cast_time')(t)\n",
    "        # Embed the per-candle time (assumes integer inputs; adjust input_dim as appropriate)\n",
    "        t_embed = Embedding(input_dim=60*24, output_dim=8, name=f'{name}_t_embed')(t_int)\n",
    "        # Concatenate OHLC (4 dims) with the embedded time (8 dims) => result shape: (60, 12)\n",
    "        return Concatenate(name=f'{name}_concat')([ohlc, t_embed])\n",
    "    \n",
    "    ### Inputs\n",
    "    # Each chart now is (60,5): OHLC + per-candle time\n",
    "    chart_m15 = Input(shape=(60,5), name='chart_m15')\n",
    "    chart_m5  = Input(shape=(60,5), name='chart_m5')\n",
    "    chart_m1  = Input(shape=(60,5), name='chart_m1')\n",
    "    \n",
    "    # PDAs input (same as before) and clip it (do not clip minutes here)\n",
    "    pdas = Input(shape=(3*3 + 3*3 + 1 + 12*5 + 5*3,), name='pdas')\n",
    "    pdas = Lambda(lambda x: tf.clip_by_value(x, -1000.0, 1000.0), name='clip_pdas')(pdas)\n",
    "    \n",
    "    # Global minutes input remains\n",
    "    minutes = Input(shape=(1,), name='minutes')\n",
    "    minutes_embed = Embedding(input_dim=60*24, output_dim=8, name='global_minutes_embed')(minutes)  # shape (batch, 1, 8)\n",
    "    \n",
    "    ### Process each chart\n",
    "    m15_processed = process_chart(chart_m15, 'm15')\n",
    "    m5_processed  = process_chart(chart_m5, 'm5')\n",
    "    m1_processed  = process_chart(chart_m1, 'm1')\n",
    "\n",
    "    m15_with_tf = Concatenate(axis=-1, name='m15_with_tf')([\n",
    "        m15_processed,\n",
    "        Lambda(lambda x: tf.tile(tf.reshape(tf.constant([1., 0., 0.], dtype=tf.float32), (1, 1, 3)), \n",
    "                                 [tf.shape(x)[0], tf.shape(x)[1], 1]),\n",
    "               name='m15_timeframe')(m15_processed)\n",
    "    ])\n",
    "    \n",
    "    m5_with_tf = Concatenate(axis=-1, name='m5_with_tf')([\n",
    "        m5_processed,\n",
    "        Lambda(lambda x: tf.tile(tf.reshape(tf.constant([0., 1., 0.], dtype=tf.float32), (1, 1, 3)), \n",
    "                                 [tf.shape(x)[0], tf.shape(x)[1], 1]),\n",
    "               name='m5_timeframe')(m5_processed)\n",
    "    ])\n",
    "    \n",
    "    m1_with_tf = Concatenate(axis=-1, name='m1_with_tf')([\n",
    "        m1_processed,\n",
    "        Lambda(lambda x: tf.tile(tf.reshape(tf.constant([0., 0., 1.], dtype=tf.float32), (1, 1, 3)), \n",
    "                                 [tf.shape(x)[0], tf.shape(x)[1], 1]),\n",
    "               name='m1_timeframe')(m1_processed)\n",
    "    ])\n",
    "    \n",
    "    # Concatenate the charts along the time axis: resulting in shape (batch, 180, feature_dim)\n",
    "    combined_charts = Concatenate(axis=1, name='charts_concat')([m15_with_tf, m5_with_tf, m1_with_tf])\n",
    "    # At this point, each time step has 12 features (4 from OHLC + 8 from time embed)\n",
    "    \n",
    "    ### Repeat pdas and global minutes so they are added to every candle\n",
    "    # Repeat PDAs to get shape (batch, 180, pdas_dim)\n",
    "    pdas_repeated = Lambda(\n",
    "        lambda x: tf.repeat(tf.expand_dims(x, axis=1), repeats=180, axis=1),\n",
    "        name='pdas_repeated')(pdas)\n",
    "\n",
    "    # Concat the charts with the repeated PDAs and minutes\n",
    "    combined_sequence = Concatenate(axis=-1, name='combined_sequence')(\n",
    "        [combined_charts, pdas_repeated]\n",
    "    )\n",
    "    # Now, if combined_charts has 12 features, pdas has, say, 94 dims, and global minutes 8 dims,\n",
    "    # each time step will have 12 + 94 = 106 features.\n",
    "    \n",
    "    ### Define a transformer encoder block (like in a Transformer encoder)\n",
    "    def transformer_encoder(inputs, head_dim, num_heads, ff_dim, dropout_rate, name):\n",
    "        # Multi-head self-attention\n",
    "        attn_output = MultiHeadAttention(num_heads=num_heads, key_dim=head_dim, name=f'{name}_mha')(inputs, inputs)\n",
    "        attn_output = Dropout(dropout_rate, name=f'{name}_attn_dropout')(attn_output)\n",
    "        #out1 = LayerNormalization(epsilon=1e-6, name=f'{name}_attn_ln')(inputs + attn_output)\n",
    "        out1 = inputs + attn_output\n",
    "        # Feed-forward network\n",
    "        ffn_output = Dense(ff_dim, activation='relu', name=f'{name}_ffn_dense1')(out1)\n",
    "        ffn_output = Dense(inputs.shape[-1], name=f'{name}_ffn_dense2')(ffn_output)\n",
    "        ffn_output = Dropout(dropout_rate, name=f'{name}_ffn_dropout')(ffn_output)\n",
    "        #out2 = LayerNormalization(epsilon=1e-6, name=f'{name}_ffn_ln')(out1 + ffn_output)\n",
    "        out2 = out1 + ffn_output\n",
    "        return out2\n",
    "    \n",
    "    ### Apply transformer layers\n",
    "    x = combined_sequence\n",
    "    # convert the concat ohlc+t+pda to vector\n",
    "    x = Dense(1024)(x)\n",
    "    x = LeakyReLU(0.05)(x)\n",
    "    x = Dense(4096)(x)\n",
    "    x = LeakyReLU(0.05)(x)\n",
    "    x = Dense(4096)(x)\n",
    "    x = LeakyReLU(0.05)(x)\n",
    "    x = Dense(128)(x)\n",
    "    x = LeakyReLU(0.05)(x)\n",
    "\n",
    "\n",
    "    # Feature dim after your Dense layers\n",
    "    feature_dim = 128\n",
    "    \n",
    "    # Define learnable CLS token\n",
    "    cls_token = tf.Variable(\n",
    "        initial_value=tf.random.normal(shape=(1, 1, feature_dim)),\n",
    "        trainable=True,\n",
    "        name=\"cls_token\"\n",
    "    )\n",
    "    \n",
    "    # Wrap it in a Lambda so it works with batch size\n",
    "    def prepend_cls(x):\n",
    "        batch_size = tf.shape(x)[0]\n",
    "        cls_broadcasted = tf.tile(cls_token, [batch_size, 1, 1])  # shape: (batch, 1, feature_dim)\n",
    "        return tf.concat([cls_broadcasted, x], axis=1)\n",
    "    \n",
    "    x = Lambda(prepend_cls, name=\"prepend_cls_token\")(x)\n",
    "\n",
    "    \n",
    "    x = transformer_encoder(x, head_dim=256, num_heads=32, ff_dim=512, dropout_rate=dropout_rate, name='trans_enc1')\n",
    "    x = transformer_encoder(x, head_dim=256, num_heads=32, ff_dim=512, dropout_rate=dropout_rate, name='trans_enc2')\n",
    "    x = transformer_encoder(x, head_dim=256, num_heads=32, ff_dim=512, dropout_rate=dropout_rate, name='trans_enc3')\n",
    "    x = transformer_encoder(x, head_dim=256, num_heads=32, ff_dim=512, dropout_rate=dropout_rate, name='trans_enc4')\n",
    "    x = transformer_encoder(x, head_dim=256, num_heads=32, ff_dim=512, dropout_rate=dropout_rate, name='trans_enc5')\n",
    "    x = transformer_encoder(x, head_dim=256, num_heads=32, ff_dim=512, dropout_rate=dropout_rate, name='trans_enc6')\n",
    "    x = transformer_encoder(x, head_dim=256, num_heads=32, ff_dim=512, dropout_rate=dropout_rate, name='trans_enc7')\n",
    "    x = Lambda(lambda t: t[:, 0, :], name=\"extract_cls\")(x)\n",
    "\n",
    "    \n",
    "    ### Summarize the sequence with an LSTM layer\n",
    "    #lstm_out = LSTM(1024, return_sequences=False, name='final_lstm')(x)\n",
    "    #x = tf.keras.layers.Flatten(name=\"flat\")(x)\n",
    "    \n",
    "    \n",
    "    ### Final dense tower\n",
    "    d = Dense(4096, name='dense1')(x)\n",
    "    d = LeakyReLU(0.05)(d)\n",
    "    d = Dropout(0.1)(d)  # slightly increased dropout rate (tweak as needed)\n",
    "    \n",
    "    d = Dense(4096, name='dense2')(d)\n",
    "    d = LeakyReLU(0.05)(d)\n",
    "    d = Dropout(0.1)(d)\n",
    "    \n",
    "    d = Dense(4096, name='dense3')(d)\n",
    "    d = LeakyReLU(0.05)(d)\n",
    "    d = Dropout(0.1)(d)\n",
    "    \n",
    "    d = Dense(4096, name='dense4')(d)\n",
    "    d = LeakyReLU(0.05)(d)\n",
    "    d = Dropout(0.1)(d)\n",
    "\n",
    "    ### Add Tanh before the softmax to stabilize the output\n",
    "    d = Dense(1024, activation='tanh', name='pre_softmax_tanh')(d)  #\n",
    "    \n",
    "    ### Final output layer (3-class softmax)\n",
    "    output = Dense(3, activation=\"softmax\", dtype=\"float32\", name='output')(d)\n",
    "    \n",
    "    ### Create and compile model\n",
    "    model = tf.keras.Model(\n",
    "        inputs=[chart_m15, chart_m5, chart_m1, pdas, minutes],\n",
    "        outputs=output\n",
    "    )\n",
    "\n",
    "    return model"
   ]
  },
  {
   "cell_type": "code",
   "execution_count": 5,
   "id": "91e7ef22",
   "metadata": {
    "execution": {
     "iopub.execute_input": "2025-04-14T11:37:40.218875Z",
     "iopub.status.busy": "2025-04-14T11:37:40.218589Z",
     "iopub.status.idle": "2025-04-14T11:38:09.097059Z",
     "shell.execute_reply": "2025-04-14T11:38:09.092033Z"
    },
    "papermill": {
     "duration": 28.890308,
     "end_time": "2025-04-14T11:38:09.099311",
     "exception": false,
     "start_time": "2025-04-14T11:37:40.209003",
     "status": "completed"
    },
    "tags": []
   },
   "outputs": [
    {
     "name": "stdout",
     "output_type": "stream",
     "text": [
      "INFO:tensorflow:Deallocate tpu buffers before initializing tpu system.\n"
     ]
    },
    {
     "name": "stdout",
     "output_type": "stream",
     "text": [
      "INFO:tensorflow:Initializing the TPU system: local\n"
     ]
    },
    {
     "name": "stderr",
     "output_type": "stream",
     "text": [
      "WARNING: All log messages before absl::InitializeLog() is called are written to STDERR\n",
      "I0000 00:00:1744630684.066755      74 service.cc:148] XLA service 0x5b18dac3cbd0 initialized for platform TPU (this does not guarantee that XLA will be used). Devices:\n",
      "I0000 00:00:1744630684.066806      74 service.cc:156]   StreamExecutor device (0): TPU, 2a886c8\n",
      "I0000 00:00:1744630684.066810      74 service.cc:156]   StreamExecutor device (1): TPU, 2a886c8\n",
      "I0000 00:00:1744630684.066813      74 service.cc:156]   StreamExecutor device (2): TPU, 2a886c8\n",
      "I0000 00:00:1744630684.066816      74 service.cc:156]   StreamExecutor device (3): TPU, 2a886c8\n",
      "I0000 00:00:1744630684.066819      74 service.cc:156]   StreamExecutor device (4): TPU, 2a886c8\n",
      "I0000 00:00:1744630684.066822      74 service.cc:156]   StreamExecutor device (5): TPU, 2a886c8\n"
     ]
    },
    {
     "name": "stderr",
     "output_type": "stream",
     "text": [
      "I0000 00:00:1744630684.066824      74 service.cc:156]   StreamExecutor device (6): TPU, 2a886c8\n",
      "I0000 00:00:1744630684.066827      74 service.cc:156]   StreamExecutor device (7): TPU, 2a886c8\n"
     ]
    },
    {
     "name": "stdout",
     "output_type": "stream",
     "text": [
      "INFO:tensorflow:Finished initializing TPU system.\n"
     ]
    },
    {
     "name": "stdout",
     "output_type": "stream",
     "text": [
      "INFO:tensorflow:Found TPU system:\n"
     ]
    },
    {
     "name": "stdout",
     "output_type": "stream",
     "text": [
      "INFO:tensorflow:*** Num TPU Cores: 8\n"
     ]
    },
    {
     "name": "stdout",
     "output_type": "stream",
     "text": [
      "INFO:tensorflow:*** Num TPU Workers: 1\n"
     ]
    },
    {
     "name": "stdout",
     "output_type": "stream",
     "text": [
      "INFO:tensorflow:*** Num TPU Cores Per Worker: 8\n"
     ]
    },
    {
     "name": "stdout",
     "output_type": "stream",
     "text": [
      "INFO:tensorflow:*** Available Device: _DeviceAttributes(/job:localhost/replica:0/task:0/device:CPU:0, CPU, 0, 0)\n"
     ]
    },
    {
     "name": "stdout",
     "output_type": "stream",
     "text": [
      "INFO:tensorflow:*** Available Device: _DeviceAttributes(/job:localhost/replica:0/task:0/device:TPU:0, TPU, 0, 0)\n"
     ]
    },
    {
     "name": "stdout",
     "output_type": "stream",
     "text": [
      "INFO:tensorflow:*** Available Device: _DeviceAttributes(/job:localhost/replica:0/task:0/device:TPU:1, TPU, 0, 0)\n"
     ]
    },
    {
     "name": "stdout",
     "output_type": "stream",
     "text": [
      "INFO:tensorflow:*** Available Device: _DeviceAttributes(/job:localhost/replica:0/task:0/device:TPU:2, TPU, 0, 0)\n"
     ]
    },
    {
     "name": "stdout",
     "output_type": "stream",
     "text": [
      "INFO:tensorflow:*** Available Device: _DeviceAttributes(/job:localhost/replica:0/task:0/device:TPU:3, TPU, 0, 0)\n"
     ]
    },
    {
     "name": "stdout",
     "output_type": "stream",
     "text": [
      "INFO:tensorflow:*** Available Device: _DeviceAttributes(/job:localhost/replica:0/task:0/device:TPU:4, TPU, 0, 0)\n"
     ]
    },
    {
     "name": "stdout",
     "output_type": "stream",
     "text": [
      "INFO:tensorflow:*** Available Device: _DeviceAttributes(/job:localhost/replica:0/task:0/device:TPU:5, TPU, 0, 0)\n"
     ]
    },
    {
     "name": "stdout",
     "output_type": "stream",
     "text": [
      "INFO:tensorflow:*** Available Device: _DeviceAttributes(/job:localhost/replica:0/task:0/device:TPU:6, TPU, 0, 0)\n"
     ]
    },
    {
     "name": "stdout",
     "output_type": "stream",
     "text": [
      "INFO:tensorflow:*** Available Device: _DeviceAttributes(/job:localhost/replica:0/task:0/device:TPU:7, TPU, 0, 0)\n"
     ]
    },
    {
     "name": "stdout",
     "output_type": "stream",
     "text": [
      "INFO:tensorflow:*** Available Device: _DeviceAttributes(/job:localhost/replica:0/task:0/device:TPU_SYSTEM:0, TPU_SYSTEM, 0, 0)\n"
     ]
    }
   ],
   "source": [
    "if tpu_mode:\n",
    "        cluster_resolver = tf.distribute.cluster_resolver.TPUClusterResolver(tpu=\"local\")\n",
    "        tf.config.experimental_connect_to_cluster(cluster_resolver)\n",
    "        tf.tpu.experimental.initialize_tpu_system(cluster_resolver)\n",
    "        strategy = tf.distribute.TPUStrategy(cluster_resolver)\n",
    "        #strategy = tf.distribute.MirroredStrategy()    "
   ]
  },
  {
   "cell_type": "code",
   "execution_count": 6,
   "id": "7754bd4e",
   "metadata": {
    "execution": {
     "iopub.execute_input": "2025-04-14T11:38:09.119449Z",
     "iopub.status.busy": "2025-04-14T11:38:09.119203Z",
     "iopub.status.idle": "2025-04-14T11:38:17.990557Z",
     "shell.execute_reply": "2025-04-14T11:38:17.985853Z"
    },
    "papermill": {
     "duration": 8.885301,
     "end_time": "2025-04-14T11:38:17.993051",
     "exception": false,
     "start_time": "2025-04-14T11:38:09.107750",
     "status": "completed"
    },
    "tags": []
   },
   "outputs": [
    {
     "name": "stderr",
     "output_type": "stream",
     "text": [
      "I0000 00:00:1744630689.194316      74 device_compiler.h:188] Compiled cluster using XLA!  This line is logged at most once for the lifetime of the process.\n"
     ]
    },
    {
     "data": {
      "text/html": [
       "<pre style=\"white-space:pre;overflow-x:auto;line-height:normal;font-family:Menlo,'DejaVu Sans Mono',consolas,'Courier New',monospace\"><span style=\"font-weight: bold\">Model: \"functional\"</span>\n",
       "</pre>\n"
      ],
      "text/plain": [
       "\u001b[1mModel: \"functional\"\u001b[0m\n"
      ]
     },
     "metadata": {},
     "output_type": "display_data"
    },
    {
     "data": {
      "text/html": [
       "<pre style=\"white-space:pre;overflow-x:auto;line-height:normal;font-family:Menlo,'DejaVu Sans Mono',consolas,'Courier New',monospace\">┏━━━━━━━━━━━━━━━━━━━━━┳━━━━━━━━━━━━━━━━━━━┳━━━━━━━━━━━━┳━━━━━━━━━━━━━━━━━━━┓\n",
       "┃<span style=\"font-weight: bold\"> Layer (type)        </span>┃<span style=\"font-weight: bold\"> Output Shape      </span>┃<span style=\"font-weight: bold\">    Param # </span>┃<span style=\"font-weight: bold\"> Connected to      </span>┃\n",
       "┡━━━━━━━━━━━━━━━━━━━━━╇━━━━━━━━━━━━━━━━━━━╇━━━━━━━━━━━━╇━━━━━━━━━━━━━━━━━━━┩\n",
       "│ chart_m15           │ (<span style=\"color: #00d7ff; text-decoration-color: #00d7ff\">None</span>, <span style=\"color: #00af00; text-decoration-color: #00af00\">60</span>, <span style=\"color: #00af00; text-decoration-color: #00af00\">5</span>)     │          <span style=\"color: #00af00; text-decoration-color: #00af00\">0</span> │ -                 │\n",
       "│ (<span style=\"color: #0087ff; text-decoration-color: #0087ff\">InputLayer</span>)        │                   │            │                   │\n",
       "├─────────────────────┼───────────────────┼────────────┼───────────────────┤\n",
       "│ chart_m5            │ (<span style=\"color: #00d7ff; text-decoration-color: #00d7ff\">None</span>, <span style=\"color: #00af00; text-decoration-color: #00af00\">60</span>, <span style=\"color: #00af00; text-decoration-color: #00af00\">5</span>)     │          <span style=\"color: #00af00; text-decoration-color: #00af00\">0</span> │ -                 │\n",
       "│ (<span style=\"color: #0087ff; text-decoration-color: #0087ff\">InputLayer</span>)        │                   │            │                   │\n",
       "├─────────────────────┼───────────────────┼────────────┼───────────────────┤\n",
       "│ chart_m1            │ (<span style=\"color: #00d7ff; text-decoration-color: #00d7ff\">None</span>, <span style=\"color: #00af00; text-decoration-color: #00af00\">60</span>, <span style=\"color: #00af00; text-decoration-color: #00af00\">5</span>)     │          <span style=\"color: #00af00; text-decoration-color: #00af00\">0</span> │ -                 │\n",
       "│ (<span style=\"color: #0087ff; text-decoration-color: #0087ff\">InputLayer</span>)        │                   │            │                   │\n",
       "├─────────────────────┼───────────────────┼────────────┼───────────────────┤\n",
       "│ m15_extract_time    │ (<span style=\"color: #00d7ff; text-decoration-color: #00d7ff\">None</span>, <span style=\"color: #00af00; text-decoration-color: #00af00\">60</span>)        │          <span style=\"color: #00af00; text-decoration-color: #00af00\">0</span> │ chart_m15[<span style=\"color: #00af00; text-decoration-color: #00af00\">1</span>][<span style=\"color: #00af00; text-decoration-color: #00af00\">0</span>]   │\n",
       "│ (<span style=\"color: #0087ff; text-decoration-color: #0087ff\">Lambda</span>)            │                   │            │                   │\n",
       "├─────────────────────┼───────────────────┼────────────┼───────────────────┤\n",
       "│ m5_extract_time     │ (<span style=\"color: #00d7ff; text-decoration-color: #00d7ff\">None</span>, <span style=\"color: #00af00; text-decoration-color: #00af00\">60</span>)        │          <span style=\"color: #00af00; text-decoration-color: #00af00\">0</span> │ chart_m5[<span style=\"color: #00af00; text-decoration-color: #00af00\">1</span>][<span style=\"color: #00af00; text-decoration-color: #00af00\">0</span>]    │\n",
       "│ (<span style=\"color: #0087ff; text-decoration-color: #0087ff\">Lambda</span>)            │                   │            │                   │\n",
       "├─────────────────────┼───────────────────┼────────────┼───────────────────┤\n",
       "│ m1_extract_time     │ (<span style=\"color: #00d7ff; text-decoration-color: #00d7ff\">None</span>, <span style=\"color: #00af00; text-decoration-color: #00af00\">60</span>)        │          <span style=\"color: #00af00; text-decoration-color: #00af00\">0</span> │ chart_m1[<span style=\"color: #00af00; text-decoration-color: #00af00\">1</span>][<span style=\"color: #00af00; text-decoration-color: #00af00\">0</span>]    │\n",
       "│ (<span style=\"color: #0087ff; text-decoration-color: #0087ff\">Lambda</span>)            │                   │            │                   │\n",
       "├─────────────────────┼───────────────────┼────────────┼───────────────────┤\n",
       "│ m15_cast_time       │ (<span style=\"color: #00d7ff; text-decoration-color: #00d7ff\">None</span>, <span style=\"color: #00af00; text-decoration-color: #00af00\">60</span>)        │          <span style=\"color: #00af00; text-decoration-color: #00af00\">0</span> │ m15_extract_time… │\n",
       "│ (<span style=\"color: #0087ff; text-decoration-color: #0087ff\">Lambda</span>)            │                   │            │                   │\n",
       "├─────────────────────┼───────────────────┼────────────┼───────────────────┤\n",
       "│ m5_cast_time        │ (<span style=\"color: #00d7ff; text-decoration-color: #00d7ff\">None</span>, <span style=\"color: #00af00; text-decoration-color: #00af00\">60</span>)        │          <span style=\"color: #00af00; text-decoration-color: #00af00\">0</span> │ m5_extract_time[<span style=\"color: #00af00; text-decoration-color: #00af00\">…</span> │\n",
       "│ (<span style=\"color: #0087ff; text-decoration-color: #0087ff\">Lambda</span>)            │                   │            │                   │\n",
       "├─────────────────────┼───────────────────┼────────────┼───────────────────┤\n",
       "│ m1_cast_time        │ (<span style=\"color: #00d7ff; text-decoration-color: #00d7ff\">None</span>, <span style=\"color: #00af00; text-decoration-color: #00af00\">60</span>)        │          <span style=\"color: #00af00; text-decoration-color: #00af00\">0</span> │ m1_extract_time[<span style=\"color: #00af00; text-decoration-color: #00af00\">…</span> │\n",
       "│ (<span style=\"color: #0087ff; text-decoration-color: #0087ff\">Lambda</span>)            │                   │            │                   │\n",
       "├─────────────────────┼───────────────────┼────────────┼───────────────────┤\n",
       "│ m15_clip_ohlc       │ (<span style=\"color: #00d7ff; text-decoration-color: #00d7ff\">None</span>, <span style=\"color: #00af00; text-decoration-color: #00af00\">60</span>, <span style=\"color: #00af00; text-decoration-color: #00af00\">4</span>)     │          <span style=\"color: #00af00; text-decoration-color: #00af00\">0</span> │ chart_m15[<span style=\"color: #00af00; text-decoration-color: #00af00\">1</span>][<span style=\"color: #00af00; text-decoration-color: #00af00\">0</span>]   │\n",
       "│ (<span style=\"color: #0087ff; text-decoration-color: #0087ff\">Lambda</span>)            │                   │            │                   │\n",
       "├─────────────────────┼───────────────────┼────────────┼───────────────────┤\n",
       "│ m15_t_embed         │ (<span style=\"color: #00d7ff; text-decoration-color: #00d7ff\">None</span>, <span style=\"color: #00af00; text-decoration-color: #00af00\">60</span>, <span style=\"color: #00af00; text-decoration-color: #00af00\">8</span>)     │     <span style=\"color: #00af00; text-decoration-color: #00af00\">11,520</span> │ m15_cast_time[<span style=\"color: #00af00; text-decoration-color: #00af00\">1</span>]… │\n",
       "│ (<span style=\"color: #0087ff; text-decoration-color: #0087ff\">Embedding</span>)         │                   │            │                   │\n",
       "├─────────────────────┼───────────────────┼────────────┼───────────────────┤\n",
       "│ m5_clip_ohlc        │ (<span style=\"color: #00d7ff; text-decoration-color: #00d7ff\">None</span>, <span style=\"color: #00af00; text-decoration-color: #00af00\">60</span>, <span style=\"color: #00af00; text-decoration-color: #00af00\">4</span>)     │          <span style=\"color: #00af00; text-decoration-color: #00af00\">0</span> │ chart_m5[<span style=\"color: #00af00; text-decoration-color: #00af00\">1</span>][<span style=\"color: #00af00; text-decoration-color: #00af00\">0</span>]    │\n",
       "│ (<span style=\"color: #0087ff; text-decoration-color: #0087ff\">Lambda</span>)            │                   │            │                   │\n",
       "├─────────────────────┼───────────────────┼────────────┼───────────────────┤\n",
       "│ m5_t_embed          │ (<span style=\"color: #00d7ff; text-decoration-color: #00d7ff\">None</span>, <span style=\"color: #00af00; text-decoration-color: #00af00\">60</span>, <span style=\"color: #00af00; text-decoration-color: #00af00\">8</span>)     │     <span style=\"color: #00af00; text-decoration-color: #00af00\">11,520</span> │ m5_cast_time[<span style=\"color: #00af00; text-decoration-color: #00af00\">1</span>][<span style=\"color: #00af00; text-decoration-color: #00af00\">…</span> │\n",
       "│ (<span style=\"color: #0087ff; text-decoration-color: #0087ff\">Embedding</span>)         │                   │            │                   │\n",
       "├─────────────────────┼───────────────────┼────────────┼───────────────────┤\n",
       "│ m1_clip_ohlc        │ (<span style=\"color: #00d7ff; text-decoration-color: #00d7ff\">None</span>, <span style=\"color: #00af00; text-decoration-color: #00af00\">60</span>, <span style=\"color: #00af00; text-decoration-color: #00af00\">4</span>)     │          <span style=\"color: #00af00; text-decoration-color: #00af00\">0</span> │ chart_m1[<span style=\"color: #00af00; text-decoration-color: #00af00\">1</span>][<span style=\"color: #00af00; text-decoration-color: #00af00\">0</span>]    │\n",
       "│ (<span style=\"color: #0087ff; text-decoration-color: #0087ff\">Lambda</span>)            │                   │            │                   │\n",
       "├─────────────────────┼───────────────────┼────────────┼───────────────────┤\n",
       "│ m1_t_embed          │ (<span style=\"color: #00d7ff; text-decoration-color: #00d7ff\">None</span>, <span style=\"color: #00af00; text-decoration-color: #00af00\">60</span>, <span style=\"color: #00af00; text-decoration-color: #00af00\">8</span>)     │     <span style=\"color: #00af00; text-decoration-color: #00af00\">11,520</span> │ m1_cast_time[<span style=\"color: #00af00; text-decoration-color: #00af00\">1</span>][<span style=\"color: #00af00; text-decoration-color: #00af00\">…</span> │\n",
       "│ (<span style=\"color: #0087ff; text-decoration-color: #0087ff\">Embedding</span>)         │                   │            │                   │\n",
       "├─────────────────────┼───────────────────┼────────────┼───────────────────┤\n",
       "│ m15_concat          │ (<span style=\"color: #00d7ff; text-decoration-color: #00d7ff\">None</span>, <span style=\"color: #00af00; text-decoration-color: #00af00\">60</span>, <span style=\"color: #00af00; text-decoration-color: #00af00\">12</span>)    │          <span style=\"color: #00af00; text-decoration-color: #00af00\">0</span> │ m15_clip_ohlc[<span style=\"color: #00af00; text-decoration-color: #00af00\">1</span>]… │\n",
       "│ (<span style=\"color: #0087ff; text-decoration-color: #0087ff\">Concatenate</span>)       │                   │            │ m15_t_embed[<span style=\"color: #00af00; text-decoration-color: #00af00\">1</span>][<span style=\"color: #00af00; text-decoration-color: #00af00\">0</span>] │\n",
       "├─────────────────────┼───────────────────┼────────────┼───────────────────┤\n",
       "│ m5_concat           │ (<span style=\"color: #00d7ff; text-decoration-color: #00d7ff\">None</span>, <span style=\"color: #00af00; text-decoration-color: #00af00\">60</span>, <span style=\"color: #00af00; text-decoration-color: #00af00\">12</span>)    │          <span style=\"color: #00af00; text-decoration-color: #00af00\">0</span> │ m5_clip_ohlc[<span style=\"color: #00af00; text-decoration-color: #00af00\">1</span>][<span style=\"color: #00af00; text-decoration-color: #00af00\">…</span> │\n",
       "│ (<span style=\"color: #0087ff; text-decoration-color: #0087ff\">Concatenate</span>)       │                   │            │ m5_t_embed[<span style=\"color: #00af00; text-decoration-color: #00af00\">1</span>][<span style=\"color: #00af00; text-decoration-color: #00af00\">0</span>]  │\n",
       "├─────────────────────┼───────────────────┼────────────┼───────────────────┤\n",
       "│ m1_concat           │ (<span style=\"color: #00d7ff; text-decoration-color: #00d7ff\">None</span>, <span style=\"color: #00af00; text-decoration-color: #00af00\">60</span>, <span style=\"color: #00af00; text-decoration-color: #00af00\">12</span>)    │          <span style=\"color: #00af00; text-decoration-color: #00af00\">0</span> │ m1_clip_ohlc[<span style=\"color: #00af00; text-decoration-color: #00af00\">1</span>][<span style=\"color: #00af00; text-decoration-color: #00af00\">…</span> │\n",
       "│ (<span style=\"color: #0087ff; text-decoration-color: #0087ff\">Concatenate</span>)       │                   │            │ m1_t_embed[<span style=\"color: #00af00; text-decoration-color: #00af00\">1</span>][<span style=\"color: #00af00; text-decoration-color: #00af00\">0</span>]  │\n",
       "├─────────────────────┼───────────────────┼────────────┼───────────────────┤\n",
       "│ m15_timeframe       │ (<span style=\"color: #00d7ff; text-decoration-color: #00d7ff\">None</span>, <span style=\"color: #00af00; text-decoration-color: #00af00\">60</span>, <span style=\"color: #00af00; text-decoration-color: #00af00\">3</span>)     │          <span style=\"color: #00af00; text-decoration-color: #00af00\">0</span> │ m15_concat[<span style=\"color: #00af00; text-decoration-color: #00af00\">1</span>][<span style=\"color: #00af00; text-decoration-color: #00af00\">0</span>]  │\n",
       "│ (<span style=\"color: #0087ff; text-decoration-color: #0087ff\">Lambda</span>)            │                   │            │                   │\n",
       "├─────────────────────┼───────────────────┼────────────┼───────────────────┤\n",
       "│ m5_timeframe        │ (<span style=\"color: #00d7ff; text-decoration-color: #00d7ff\">None</span>, <span style=\"color: #00af00; text-decoration-color: #00af00\">60</span>, <span style=\"color: #00af00; text-decoration-color: #00af00\">3</span>)     │          <span style=\"color: #00af00; text-decoration-color: #00af00\">0</span> │ m5_concat[<span style=\"color: #00af00; text-decoration-color: #00af00\">1</span>][<span style=\"color: #00af00; text-decoration-color: #00af00\">0</span>]   │\n",
       "│ (<span style=\"color: #0087ff; text-decoration-color: #0087ff\">Lambda</span>)            │                   │            │                   │\n",
       "├─────────────────────┼───────────────────┼────────────┼───────────────────┤\n",
       "│ m1_timeframe        │ (<span style=\"color: #00d7ff; text-decoration-color: #00d7ff\">None</span>, <span style=\"color: #00af00; text-decoration-color: #00af00\">60</span>, <span style=\"color: #00af00; text-decoration-color: #00af00\">3</span>)     │          <span style=\"color: #00af00; text-decoration-color: #00af00\">0</span> │ m1_concat[<span style=\"color: #00af00; text-decoration-color: #00af00\">1</span>][<span style=\"color: #00af00; text-decoration-color: #00af00\">0</span>]   │\n",
       "│ (<span style=\"color: #0087ff; text-decoration-color: #0087ff\">Lambda</span>)            │                   │            │                   │\n",
       "├─────────────────────┼───────────────────┼────────────┼───────────────────┤\n",
       "│ m15_with_tf         │ (<span style=\"color: #00d7ff; text-decoration-color: #00d7ff\">None</span>, <span style=\"color: #00af00; text-decoration-color: #00af00\">60</span>, <span style=\"color: #00af00; text-decoration-color: #00af00\">15</span>)    │          <span style=\"color: #00af00; text-decoration-color: #00af00\">0</span> │ m15_concat[<span style=\"color: #00af00; text-decoration-color: #00af00\">1</span>][<span style=\"color: #00af00; text-decoration-color: #00af00\">0</span>], │\n",
       "│ (<span style=\"color: #0087ff; text-decoration-color: #0087ff\">Concatenate</span>)       │                   │            │ m15_timeframe[<span style=\"color: #00af00; text-decoration-color: #00af00\">1</span>]… │\n",
       "├─────────────────────┼───────────────────┼────────────┼───────────────────┤\n",
       "│ m5_with_tf          │ (<span style=\"color: #00d7ff; text-decoration-color: #00d7ff\">None</span>, <span style=\"color: #00af00; text-decoration-color: #00af00\">60</span>, <span style=\"color: #00af00; text-decoration-color: #00af00\">15</span>)    │          <span style=\"color: #00af00; text-decoration-color: #00af00\">0</span> │ m5_concat[<span style=\"color: #00af00; text-decoration-color: #00af00\">1</span>][<span style=\"color: #00af00; text-decoration-color: #00af00\">0</span>],  │\n",
       "│ (<span style=\"color: #0087ff; text-decoration-color: #0087ff\">Concatenate</span>)       │                   │            │ m5_timeframe[<span style=\"color: #00af00; text-decoration-color: #00af00\">1</span>][<span style=\"color: #00af00; text-decoration-color: #00af00\">…</span> │\n",
       "├─────────────────────┼───────────────────┼────────────┼───────────────────┤\n",
       "│ m1_with_tf          │ (<span style=\"color: #00d7ff; text-decoration-color: #00d7ff\">None</span>, <span style=\"color: #00af00; text-decoration-color: #00af00\">60</span>, <span style=\"color: #00af00; text-decoration-color: #00af00\">15</span>)    │          <span style=\"color: #00af00; text-decoration-color: #00af00\">0</span> │ m1_concat[<span style=\"color: #00af00; text-decoration-color: #00af00\">1</span>][<span style=\"color: #00af00; text-decoration-color: #00af00\">0</span>],  │\n",
       "│ (<span style=\"color: #0087ff; text-decoration-color: #0087ff\">Concatenate</span>)       │                   │            │ m1_timeframe[<span style=\"color: #00af00; text-decoration-color: #00af00\">1</span>][<span style=\"color: #00af00; text-decoration-color: #00af00\">…</span> │\n",
       "├─────────────────────┼───────────────────┼────────────┼───────────────────┤\n",
       "│ keras_tensor_2CLONE │ (<span style=\"color: #00d7ff; text-decoration-color: #00d7ff\">None</span>, <span style=\"color: #00af00; text-decoration-color: #00af00\">94</span>)        │          <span style=\"color: #00af00; text-decoration-color: #00af00\">0</span> │ -                 │\n",
       "│ (<span style=\"color: #0087ff; text-decoration-color: #0087ff\">InputLayer</span>)        │                   │            │                   │\n",
       "├─────────────────────┼───────────────────┼────────────┼───────────────────┤\n",
       "│ charts_concat       │ (<span style=\"color: #00d7ff; text-decoration-color: #00d7ff\">None</span>, <span style=\"color: #00af00; text-decoration-color: #00af00\">180</span>, <span style=\"color: #00af00; text-decoration-color: #00af00\">15</span>)   │          <span style=\"color: #00af00; text-decoration-color: #00af00\">0</span> │ m15_with_tf[<span style=\"color: #00af00; text-decoration-color: #00af00\">1</span>][<span style=\"color: #00af00; text-decoration-color: #00af00\">0</span>… │\n",
       "│ (<span style=\"color: #0087ff; text-decoration-color: #0087ff\">Concatenate</span>)       │                   │            │ m5_with_tf[<span style=\"color: #00af00; text-decoration-color: #00af00\">1</span>][<span style=\"color: #00af00; text-decoration-color: #00af00\">0</span>], │\n",
       "│                     │                   │            │ m1_with_tf[<span style=\"color: #00af00; text-decoration-color: #00af00\">1</span>][<span style=\"color: #00af00; text-decoration-color: #00af00\">0</span>]  │\n",
       "├─────────────────────┼───────────────────┼────────────┼───────────────────┤\n",
       "│ pdas_repeated       │ (<span style=\"color: #00d7ff; text-decoration-color: #00d7ff\">None</span>, <span style=\"color: #00af00; text-decoration-color: #00af00\">180</span>, <span style=\"color: #00af00; text-decoration-color: #00af00\">94</span>)   │          <span style=\"color: #00af00; text-decoration-color: #00af00\">0</span> │ keras_tensor_2CL… │\n",
       "│ (<span style=\"color: #0087ff; text-decoration-color: #0087ff\">Lambda</span>)            │                   │            │                   │\n",
       "├─────────────────────┼───────────────────┼────────────┼───────────────────┤\n",
       "│ combined_sequence   │ (<span style=\"color: #00d7ff; text-decoration-color: #00d7ff\">None</span>, <span style=\"color: #00af00; text-decoration-color: #00af00\">180</span>, <span style=\"color: #00af00; text-decoration-color: #00af00\">109</span>)  │          <span style=\"color: #00af00; text-decoration-color: #00af00\">0</span> │ charts_concat[<span style=\"color: #00af00; text-decoration-color: #00af00\">1</span>]… │\n",
       "│ (<span style=\"color: #0087ff; text-decoration-color: #0087ff\">Concatenate</span>)       │                   │            │ pdas_repeated[<span style=\"color: #00af00; text-decoration-color: #00af00\">1</span>]… │\n",
       "├─────────────────────┼───────────────────┼────────────┼───────────────────┤\n",
       "│ dense (<span style=\"color: #0087ff; text-decoration-color: #0087ff\">Dense</span>)       │ (<span style=\"color: #00d7ff; text-decoration-color: #00d7ff\">None</span>, <span style=\"color: #00af00; text-decoration-color: #00af00\">180</span>, <span style=\"color: #00af00; text-decoration-color: #00af00\">1024</span>) │    <span style=\"color: #00af00; text-decoration-color: #00af00\">112,640</span> │ combined_sequenc… │\n",
       "├─────────────────────┼───────────────────┼────────────┼───────────────────┤\n",
       "│ leaky_re_lu         │ (<span style=\"color: #00d7ff; text-decoration-color: #00d7ff\">None</span>, <span style=\"color: #00af00; text-decoration-color: #00af00\">180</span>, <span style=\"color: #00af00; text-decoration-color: #00af00\">1024</span>) │          <span style=\"color: #00af00; text-decoration-color: #00af00\">0</span> │ dense[<span style=\"color: #00af00; text-decoration-color: #00af00\">1</span>][<span style=\"color: #00af00; text-decoration-color: #00af00\">0</span>]       │\n",
       "│ (<span style=\"color: #0087ff; text-decoration-color: #0087ff\">LeakyReLU</span>)         │                   │            │                   │\n",
       "├─────────────────────┼───────────────────┼────────────┼───────────────────┤\n",
       "│ dense_1 (<span style=\"color: #0087ff; text-decoration-color: #0087ff\">Dense</span>)     │ (<span style=\"color: #00d7ff; text-decoration-color: #00d7ff\">None</span>, <span style=\"color: #00af00; text-decoration-color: #00af00\">180</span>, <span style=\"color: #00af00; text-decoration-color: #00af00\">4096</span>) │  <span style=\"color: #00af00; text-decoration-color: #00af00\">4,198,400</span> │ leaky_re_lu[<span style=\"color: #00af00; text-decoration-color: #00af00\">1</span>][<span style=\"color: #00af00; text-decoration-color: #00af00\">0</span>] │\n",
       "├─────────────────────┼───────────────────┼────────────┼───────────────────┤\n",
       "│ leaky_re_lu_1       │ (<span style=\"color: #00d7ff; text-decoration-color: #00d7ff\">None</span>, <span style=\"color: #00af00; text-decoration-color: #00af00\">180</span>, <span style=\"color: #00af00; text-decoration-color: #00af00\">4096</span>) │          <span style=\"color: #00af00; text-decoration-color: #00af00\">0</span> │ dense_1[<span style=\"color: #00af00; text-decoration-color: #00af00\">1</span>][<span style=\"color: #00af00; text-decoration-color: #00af00\">0</span>]     │\n",
       "│ (<span style=\"color: #0087ff; text-decoration-color: #0087ff\">LeakyReLU</span>)         │                   │            │                   │\n",
       "├─────────────────────┼───────────────────┼────────────┼───────────────────┤\n",
       "│ dense_2 (<span style=\"color: #0087ff; text-decoration-color: #0087ff\">Dense</span>)     │ (<span style=\"color: #00d7ff; text-decoration-color: #00d7ff\">None</span>, <span style=\"color: #00af00; text-decoration-color: #00af00\">180</span>, <span style=\"color: #00af00; text-decoration-color: #00af00\">4096</span>) │ <span style=\"color: #00af00; text-decoration-color: #00af00\">16,781,312</span> │ leaky_re_lu_1[<span style=\"color: #00af00; text-decoration-color: #00af00\">1</span>]… │\n",
       "├─────────────────────┼───────────────────┼────────────┼───────────────────┤\n",
       "│ leaky_re_lu_2       │ (<span style=\"color: #00d7ff; text-decoration-color: #00d7ff\">None</span>, <span style=\"color: #00af00; text-decoration-color: #00af00\">180</span>, <span style=\"color: #00af00; text-decoration-color: #00af00\">4096</span>) │          <span style=\"color: #00af00; text-decoration-color: #00af00\">0</span> │ dense_2[<span style=\"color: #00af00; text-decoration-color: #00af00\">1</span>][<span style=\"color: #00af00; text-decoration-color: #00af00\">0</span>]     │\n",
       "│ (<span style=\"color: #0087ff; text-decoration-color: #0087ff\">LeakyReLU</span>)         │                   │            │                   │\n",
       "├─────────────────────┼───────────────────┼────────────┼───────────────────┤\n",
       "│ dense_3 (<span style=\"color: #0087ff; text-decoration-color: #0087ff\">Dense</span>)     │ (<span style=\"color: #00d7ff; text-decoration-color: #00d7ff\">None</span>, <span style=\"color: #00af00; text-decoration-color: #00af00\">180</span>, <span style=\"color: #00af00; text-decoration-color: #00af00\">128</span>)  │    <span style=\"color: #00af00; text-decoration-color: #00af00\">524,416</span> │ leaky_re_lu_2[<span style=\"color: #00af00; text-decoration-color: #00af00\">1</span>]… │\n",
       "├─────────────────────┼───────────────────┼────────────┼───────────────────┤\n",
       "│ leaky_re_lu_3       │ (<span style=\"color: #00d7ff; text-decoration-color: #00d7ff\">None</span>, <span style=\"color: #00af00; text-decoration-color: #00af00\">180</span>, <span style=\"color: #00af00; text-decoration-color: #00af00\">128</span>)  │          <span style=\"color: #00af00; text-decoration-color: #00af00\">0</span> │ dense_3[<span style=\"color: #00af00; text-decoration-color: #00af00\">1</span>][<span style=\"color: #00af00; text-decoration-color: #00af00\">0</span>]     │\n",
       "│ (<span style=\"color: #0087ff; text-decoration-color: #0087ff\">LeakyReLU</span>)         │                   │            │                   │\n",
       "├─────────────────────┼───────────────────┼────────────┼───────────────────┤\n",
       "│ prepend_cls_token   │ (<span style=\"color: #00d7ff; text-decoration-color: #00d7ff\">None</span>, <span style=\"color: #00af00; text-decoration-color: #00af00\">181</span>, <span style=\"color: #00af00; text-decoration-color: #00af00\">128</span>)  │          <span style=\"color: #00af00; text-decoration-color: #00af00\">0</span> │ leaky_re_lu_3[<span style=\"color: #00af00; text-decoration-color: #00af00\">1</span>]… │\n",
       "│ (<span style=\"color: #0087ff; text-decoration-color: #0087ff\">Lambda</span>)            │                   │            │                   │\n",
       "├─────────────────────┼───────────────────┼────────────┼───────────────────┤\n",
       "│ trans_enc1_mha      │ (<span style=\"color: #00d7ff; text-decoration-color: #00d7ff\">None</span>, <span style=\"color: #00af00; text-decoration-color: #00af00\">181</span>, <span style=\"color: #00af00; text-decoration-color: #00af00\">128</span>)  │  <span style=\"color: #00af00; text-decoration-color: #00af00\">4,219,008</span> │ prepend_cls_toke… │\n",
       "│ (<span style=\"color: #0087ff; text-decoration-color: #0087ff\">MultiHeadAttentio…</span> │                   │            │ prepend_cls_toke… │\n",
       "├─────────────────────┼───────────────────┼────────────┼───────────────────┤\n",
       "│ trans_enc1_attn_dr… │ (<span style=\"color: #00d7ff; text-decoration-color: #00d7ff\">None</span>, <span style=\"color: #00af00; text-decoration-color: #00af00\">181</span>, <span style=\"color: #00af00; text-decoration-color: #00af00\">128</span>)  │          <span style=\"color: #00af00; text-decoration-color: #00af00\">0</span> │ trans_enc1_mha[<span style=\"color: #00af00; text-decoration-color: #00af00\">1</span>… │\n",
       "│ (<span style=\"color: #0087ff; text-decoration-color: #0087ff\">Dropout</span>)           │                   │            │                   │\n",
       "├─────────────────────┼───────────────────┼────────────┼───────────────────┤\n",
       "│ add (<span style=\"color: #0087ff; text-decoration-color: #0087ff\">Add</span>)           │ (<span style=\"color: #00d7ff; text-decoration-color: #00d7ff\">None</span>, <span style=\"color: #00af00; text-decoration-color: #00af00\">181</span>, <span style=\"color: #00af00; text-decoration-color: #00af00\">128</span>)  │          <span style=\"color: #00af00; text-decoration-color: #00af00\">0</span> │ prepend_cls_toke… │\n",
       "│                     │                   │            │ trans_enc1_attn_… │\n",
       "├─────────────────────┼───────────────────┼────────────┼───────────────────┤\n",
       "│ trans_enc1_ffn_den… │ (<span style=\"color: #00d7ff; text-decoration-color: #00d7ff\">None</span>, <span style=\"color: #00af00; text-decoration-color: #00af00\">181</span>, <span style=\"color: #00af00; text-decoration-color: #00af00\">512</span>)  │     <span style=\"color: #00af00; text-decoration-color: #00af00\">66,048</span> │ add[<span style=\"color: #00af00; text-decoration-color: #00af00\">1</span>][<span style=\"color: #00af00; text-decoration-color: #00af00\">0</span>]         │\n",
       "│ (<span style=\"color: #0087ff; text-decoration-color: #0087ff\">Dense</span>)             │                   │            │                   │\n",
       "├─────────────────────┼───────────────────┼────────────┼───────────────────┤\n",
       "│ trans_enc1_ffn_den… │ (<span style=\"color: #00d7ff; text-decoration-color: #00d7ff\">None</span>, <span style=\"color: #00af00; text-decoration-color: #00af00\">181</span>, <span style=\"color: #00af00; text-decoration-color: #00af00\">128</span>)  │     <span style=\"color: #00af00; text-decoration-color: #00af00\">65,664</span> │ trans_enc1_ffn_d… │\n",
       "│ (<span style=\"color: #0087ff; text-decoration-color: #0087ff\">Dense</span>)             │                   │            │                   │\n",
       "├─────────────────────┼───────────────────┼────────────┼───────────────────┤\n",
       "│ trans_enc1_ffn_dro… │ (<span style=\"color: #00d7ff; text-decoration-color: #00d7ff\">None</span>, <span style=\"color: #00af00; text-decoration-color: #00af00\">181</span>, <span style=\"color: #00af00; text-decoration-color: #00af00\">128</span>)  │          <span style=\"color: #00af00; text-decoration-color: #00af00\">0</span> │ trans_enc1_ffn_d… │\n",
       "│ (<span style=\"color: #0087ff; text-decoration-color: #0087ff\">Dropout</span>)           │                   │            │                   │\n",
       "├─────────────────────┼───────────────────┼────────────┼───────────────────┤\n",
       "│ add_1 (<span style=\"color: #0087ff; text-decoration-color: #0087ff\">Add</span>)         │ (<span style=\"color: #00d7ff; text-decoration-color: #00d7ff\">None</span>, <span style=\"color: #00af00; text-decoration-color: #00af00\">181</span>, <span style=\"color: #00af00; text-decoration-color: #00af00\">128</span>)  │          <span style=\"color: #00af00; text-decoration-color: #00af00\">0</span> │ add[<span style=\"color: #00af00; text-decoration-color: #00af00\">1</span>][<span style=\"color: #00af00; text-decoration-color: #00af00\">0</span>],        │\n",
       "│                     │                   │            │ trans_enc1_ffn_d… │\n",
       "├─────────────────────┼───────────────────┼────────────┼───────────────────┤\n",
       "│ trans_enc2_mha      │ (<span style=\"color: #00d7ff; text-decoration-color: #00d7ff\">None</span>, <span style=\"color: #00af00; text-decoration-color: #00af00\">181</span>, <span style=\"color: #00af00; text-decoration-color: #00af00\">128</span>)  │  <span style=\"color: #00af00; text-decoration-color: #00af00\">4,219,008</span> │ add_1[<span style=\"color: #00af00; text-decoration-color: #00af00\">1</span>][<span style=\"color: #00af00; text-decoration-color: #00af00\">0</span>],      │\n",
       "│ (<span style=\"color: #0087ff; text-decoration-color: #0087ff\">MultiHeadAttentio…</span> │                   │            │ add_1[<span style=\"color: #00af00; text-decoration-color: #00af00\">1</span>][<span style=\"color: #00af00; text-decoration-color: #00af00\">0</span>]       │\n",
       "├─────────────────────┼───────────────────┼────────────┼───────────────────┤\n",
       "│ trans_enc2_attn_dr… │ (<span style=\"color: #00d7ff; text-decoration-color: #00d7ff\">None</span>, <span style=\"color: #00af00; text-decoration-color: #00af00\">181</span>, <span style=\"color: #00af00; text-decoration-color: #00af00\">128</span>)  │          <span style=\"color: #00af00; text-decoration-color: #00af00\">0</span> │ trans_enc2_mha[<span style=\"color: #00af00; text-decoration-color: #00af00\">1</span>… │\n",
       "│ (<span style=\"color: #0087ff; text-decoration-color: #0087ff\">Dropout</span>)           │                   │            │                   │\n",
       "├─────────────────────┼───────────────────┼────────────┼───────────────────┤\n",
       "│ add_2 (<span style=\"color: #0087ff; text-decoration-color: #0087ff\">Add</span>)         │ (<span style=\"color: #00d7ff; text-decoration-color: #00d7ff\">None</span>, <span style=\"color: #00af00; text-decoration-color: #00af00\">181</span>, <span style=\"color: #00af00; text-decoration-color: #00af00\">128</span>)  │          <span style=\"color: #00af00; text-decoration-color: #00af00\">0</span> │ add_1[<span style=\"color: #00af00; text-decoration-color: #00af00\">1</span>][<span style=\"color: #00af00; text-decoration-color: #00af00\">0</span>],      │\n",
       "│                     │                   │            │ trans_enc2_attn_… │\n",
       "├─────────────────────┼───────────────────┼────────────┼───────────────────┤\n",
       "│ trans_enc2_ffn_den… │ (<span style=\"color: #00d7ff; text-decoration-color: #00d7ff\">None</span>, <span style=\"color: #00af00; text-decoration-color: #00af00\">181</span>, <span style=\"color: #00af00; text-decoration-color: #00af00\">512</span>)  │     <span style=\"color: #00af00; text-decoration-color: #00af00\">66,048</span> │ add_2[<span style=\"color: #00af00; text-decoration-color: #00af00\">1</span>][<span style=\"color: #00af00; text-decoration-color: #00af00\">0</span>]       │\n",
       "│ (<span style=\"color: #0087ff; text-decoration-color: #0087ff\">Dense</span>)             │                   │            │                   │\n",
       "├─────────────────────┼───────────────────┼────────────┼───────────────────┤\n",
       "│ trans_enc2_ffn_den… │ (<span style=\"color: #00d7ff; text-decoration-color: #00d7ff\">None</span>, <span style=\"color: #00af00; text-decoration-color: #00af00\">181</span>, <span style=\"color: #00af00; text-decoration-color: #00af00\">128</span>)  │     <span style=\"color: #00af00; text-decoration-color: #00af00\">65,664</span> │ trans_enc2_ffn_d… │\n",
       "│ (<span style=\"color: #0087ff; text-decoration-color: #0087ff\">Dense</span>)             │                   │            │                   │\n",
       "├─────────────────────┼───────────────────┼────────────┼───────────────────┤\n",
       "│ trans_enc2_ffn_dro… │ (<span style=\"color: #00d7ff; text-decoration-color: #00d7ff\">None</span>, <span style=\"color: #00af00; text-decoration-color: #00af00\">181</span>, <span style=\"color: #00af00; text-decoration-color: #00af00\">128</span>)  │          <span style=\"color: #00af00; text-decoration-color: #00af00\">0</span> │ trans_enc2_ffn_d… │\n",
       "│ (<span style=\"color: #0087ff; text-decoration-color: #0087ff\">Dropout</span>)           │                   │            │                   │\n",
       "├─────────────────────┼───────────────────┼────────────┼───────────────────┤\n",
       "│ add_3 (<span style=\"color: #0087ff; text-decoration-color: #0087ff\">Add</span>)         │ (<span style=\"color: #00d7ff; text-decoration-color: #00d7ff\">None</span>, <span style=\"color: #00af00; text-decoration-color: #00af00\">181</span>, <span style=\"color: #00af00; text-decoration-color: #00af00\">128</span>)  │          <span style=\"color: #00af00; text-decoration-color: #00af00\">0</span> │ add_2[<span style=\"color: #00af00; text-decoration-color: #00af00\">1</span>][<span style=\"color: #00af00; text-decoration-color: #00af00\">0</span>],      │\n",
       "│                     │                   │            │ trans_enc2_ffn_d… │\n",
       "├─────────────────────┼───────────────────┼────────────┼───────────────────┤\n",
       "│ trans_enc3_mha      │ (<span style=\"color: #00d7ff; text-decoration-color: #00d7ff\">None</span>, <span style=\"color: #00af00; text-decoration-color: #00af00\">181</span>, <span style=\"color: #00af00; text-decoration-color: #00af00\">128</span>)  │  <span style=\"color: #00af00; text-decoration-color: #00af00\">4,219,008</span> │ add_3[<span style=\"color: #00af00; text-decoration-color: #00af00\">1</span>][<span style=\"color: #00af00; text-decoration-color: #00af00\">0</span>],      │\n",
       "│ (<span style=\"color: #0087ff; text-decoration-color: #0087ff\">MultiHeadAttentio…</span> │                   │            │ add_3[<span style=\"color: #00af00; text-decoration-color: #00af00\">1</span>][<span style=\"color: #00af00; text-decoration-color: #00af00\">0</span>]       │\n",
       "├─────────────────────┼───────────────────┼────────────┼───────────────────┤\n",
       "│ trans_enc3_attn_dr… │ (<span style=\"color: #00d7ff; text-decoration-color: #00d7ff\">None</span>, <span style=\"color: #00af00; text-decoration-color: #00af00\">181</span>, <span style=\"color: #00af00; text-decoration-color: #00af00\">128</span>)  │          <span style=\"color: #00af00; text-decoration-color: #00af00\">0</span> │ trans_enc3_mha[<span style=\"color: #00af00; text-decoration-color: #00af00\">1</span>… │\n",
       "│ (<span style=\"color: #0087ff; text-decoration-color: #0087ff\">Dropout</span>)           │                   │            │                   │\n",
       "├─────────────────────┼───────────────────┼────────────┼───────────────────┤\n",
       "│ add_4 (<span style=\"color: #0087ff; text-decoration-color: #0087ff\">Add</span>)         │ (<span style=\"color: #00d7ff; text-decoration-color: #00d7ff\">None</span>, <span style=\"color: #00af00; text-decoration-color: #00af00\">181</span>, <span style=\"color: #00af00; text-decoration-color: #00af00\">128</span>)  │          <span style=\"color: #00af00; text-decoration-color: #00af00\">0</span> │ add_3[<span style=\"color: #00af00; text-decoration-color: #00af00\">1</span>][<span style=\"color: #00af00; text-decoration-color: #00af00\">0</span>],      │\n",
       "│                     │                   │            │ trans_enc3_attn_… │\n",
       "├─────────────────────┼───────────────────┼────────────┼───────────────────┤\n",
       "│ trans_enc3_ffn_den… │ (<span style=\"color: #00d7ff; text-decoration-color: #00d7ff\">None</span>, <span style=\"color: #00af00; text-decoration-color: #00af00\">181</span>, <span style=\"color: #00af00; text-decoration-color: #00af00\">512</span>)  │     <span style=\"color: #00af00; text-decoration-color: #00af00\">66,048</span> │ add_4[<span style=\"color: #00af00; text-decoration-color: #00af00\">1</span>][<span style=\"color: #00af00; text-decoration-color: #00af00\">0</span>]       │\n",
       "│ (<span style=\"color: #0087ff; text-decoration-color: #0087ff\">Dense</span>)             │                   │            │                   │\n",
       "├─────────────────────┼───────────────────┼────────────┼───────────────────┤\n",
       "│ trans_enc3_ffn_den… │ (<span style=\"color: #00d7ff; text-decoration-color: #00d7ff\">None</span>, <span style=\"color: #00af00; text-decoration-color: #00af00\">181</span>, <span style=\"color: #00af00; text-decoration-color: #00af00\">128</span>)  │     <span style=\"color: #00af00; text-decoration-color: #00af00\">65,664</span> │ trans_enc3_ffn_d… │\n",
       "│ (<span style=\"color: #0087ff; text-decoration-color: #0087ff\">Dense</span>)             │                   │            │                   │\n",
       "├─────────────────────┼───────────────────┼────────────┼───────────────────┤\n",
       "│ trans_enc3_ffn_dro… │ (<span style=\"color: #00d7ff; text-decoration-color: #00d7ff\">None</span>, <span style=\"color: #00af00; text-decoration-color: #00af00\">181</span>, <span style=\"color: #00af00; text-decoration-color: #00af00\">128</span>)  │          <span style=\"color: #00af00; text-decoration-color: #00af00\">0</span> │ trans_enc3_ffn_d… │\n",
       "│ (<span style=\"color: #0087ff; text-decoration-color: #0087ff\">Dropout</span>)           │                   │            │                   │\n",
       "├─────────────────────┼───────────────────┼────────────┼───────────────────┤\n",
       "│ add_5 (<span style=\"color: #0087ff; text-decoration-color: #0087ff\">Add</span>)         │ (<span style=\"color: #00d7ff; text-decoration-color: #00d7ff\">None</span>, <span style=\"color: #00af00; text-decoration-color: #00af00\">181</span>, <span style=\"color: #00af00; text-decoration-color: #00af00\">128</span>)  │          <span style=\"color: #00af00; text-decoration-color: #00af00\">0</span> │ add_4[<span style=\"color: #00af00; text-decoration-color: #00af00\">1</span>][<span style=\"color: #00af00; text-decoration-color: #00af00\">0</span>],      │\n",
       "│                     │                   │            │ trans_enc3_ffn_d… │\n",
       "├─────────────────────┼───────────────────┼────────────┼───────────────────┤\n",
       "│ trans_enc4_mha      │ (<span style=\"color: #00d7ff; text-decoration-color: #00d7ff\">None</span>, <span style=\"color: #00af00; text-decoration-color: #00af00\">181</span>, <span style=\"color: #00af00; text-decoration-color: #00af00\">128</span>)  │  <span style=\"color: #00af00; text-decoration-color: #00af00\">4,219,008</span> │ add_5[<span style=\"color: #00af00; text-decoration-color: #00af00\">1</span>][<span style=\"color: #00af00; text-decoration-color: #00af00\">0</span>],      │\n",
       "│ (<span style=\"color: #0087ff; text-decoration-color: #0087ff\">MultiHeadAttentio…</span> │                   │            │ add_5[<span style=\"color: #00af00; text-decoration-color: #00af00\">1</span>][<span style=\"color: #00af00; text-decoration-color: #00af00\">0</span>]       │\n",
       "├─────────────────────┼───────────────────┼────────────┼───────────────────┤\n",
       "│ trans_enc4_attn_dr… │ (<span style=\"color: #00d7ff; text-decoration-color: #00d7ff\">None</span>, <span style=\"color: #00af00; text-decoration-color: #00af00\">181</span>, <span style=\"color: #00af00; text-decoration-color: #00af00\">128</span>)  │          <span style=\"color: #00af00; text-decoration-color: #00af00\">0</span> │ trans_enc4_mha[<span style=\"color: #00af00; text-decoration-color: #00af00\">1</span>… │\n",
       "│ (<span style=\"color: #0087ff; text-decoration-color: #0087ff\">Dropout</span>)           │                   │            │                   │\n",
       "├─────────────────────┼───────────────────┼────────────┼───────────────────┤\n",
       "│ add_6 (<span style=\"color: #0087ff; text-decoration-color: #0087ff\">Add</span>)         │ (<span style=\"color: #00d7ff; text-decoration-color: #00d7ff\">None</span>, <span style=\"color: #00af00; text-decoration-color: #00af00\">181</span>, <span style=\"color: #00af00; text-decoration-color: #00af00\">128</span>)  │          <span style=\"color: #00af00; text-decoration-color: #00af00\">0</span> │ add_5[<span style=\"color: #00af00; text-decoration-color: #00af00\">1</span>][<span style=\"color: #00af00; text-decoration-color: #00af00\">0</span>],      │\n",
       "│                     │                   │            │ trans_enc4_attn_… │\n",
       "├─────────────────────┼───────────────────┼────────────┼───────────────────┤\n",
       "│ trans_enc4_ffn_den… │ (<span style=\"color: #00d7ff; text-decoration-color: #00d7ff\">None</span>, <span style=\"color: #00af00; text-decoration-color: #00af00\">181</span>, <span style=\"color: #00af00; text-decoration-color: #00af00\">512</span>)  │     <span style=\"color: #00af00; text-decoration-color: #00af00\">66,048</span> │ add_6[<span style=\"color: #00af00; text-decoration-color: #00af00\">1</span>][<span style=\"color: #00af00; text-decoration-color: #00af00\">0</span>]       │\n",
       "│ (<span style=\"color: #0087ff; text-decoration-color: #0087ff\">Dense</span>)             │                   │            │                   │\n",
       "├─────────────────────┼───────────────────┼────────────┼───────────────────┤\n",
       "│ trans_enc4_ffn_den… │ (<span style=\"color: #00d7ff; text-decoration-color: #00d7ff\">None</span>, <span style=\"color: #00af00; text-decoration-color: #00af00\">181</span>, <span style=\"color: #00af00; text-decoration-color: #00af00\">128</span>)  │     <span style=\"color: #00af00; text-decoration-color: #00af00\">65,664</span> │ trans_enc4_ffn_d… │\n",
       "│ (<span style=\"color: #0087ff; text-decoration-color: #0087ff\">Dense</span>)             │                   │            │                   │\n",
       "├─────────────────────┼───────────────────┼────────────┼───────────────────┤\n",
       "│ trans_enc4_ffn_dro… │ (<span style=\"color: #00d7ff; text-decoration-color: #00d7ff\">None</span>, <span style=\"color: #00af00; text-decoration-color: #00af00\">181</span>, <span style=\"color: #00af00; text-decoration-color: #00af00\">128</span>)  │          <span style=\"color: #00af00; text-decoration-color: #00af00\">0</span> │ trans_enc4_ffn_d… │\n",
       "│ (<span style=\"color: #0087ff; text-decoration-color: #0087ff\">Dropout</span>)           │                   │            │                   │\n",
       "├─────────────────────┼───────────────────┼────────────┼───────────────────┤\n",
       "│ add_7 (<span style=\"color: #0087ff; text-decoration-color: #0087ff\">Add</span>)         │ (<span style=\"color: #00d7ff; text-decoration-color: #00d7ff\">None</span>, <span style=\"color: #00af00; text-decoration-color: #00af00\">181</span>, <span style=\"color: #00af00; text-decoration-color: #00af00\">128</span>)  │          <span style=\"color: #00af00; text-decoration-color: #00af00\">0</span> │ add_6[<span style=\"color: #00af00; text-decoration-color: #00af00\">1</span>][<span style=\"color: #00af00; text-decoration-color: #00af00\">0</span>],      │\n",
       "│                     │                   │            │ trans_enc4_ffn_d… │\n",
       "├─────────────────────┼───────────────────┼────────────┼───────────────────┤\n",
       "│ trans_enc5_mha      │ (<span style=\"color: #00d7ff; text-decoration-color: #00d7ff\">None</span>, <span style=\"color: #00af00; text-decoration-color: #00af00\">181</span>, <span style=\"color: #00af00; text-decoration-color: #00af00\">128</span>)  │  <span style=\"color: #00af00; text-decoration-color: #00af00\">4,219,008</span> │ add_7[<span style=\"color: #00af00; text-decoration-color: #00af00\">1</span>][<span style=\"color: #00af00; text-decoration-color: #00af00\">0</span>],      │\n",
       "│ (<span style=\"color: #0087ff; text-decoration-color: #0087ff\">MultiHeadAttentio…</span> │                   │            │ add_7[<span style=\"color: #00af00; text-decoration-color: #00af00\">1</span>][<span style=\"color: #00af00; text-decoration-color: #00af00\">0</span>]       │\n",
       "├─────────────────────┼───────────────────┼────────────┼───────────────────┤\n",
       "│ trans_enc5_attn_dr… │ (<span style=\"color: #00d7ff; text-decoration-color: #00d7ff\">None</span>, <span style=\"color: #00af00; text-decoration-color: #00af00\">181</span>, <span style=\"color: #00af00; text-decoration-color: #00af00\">128</span>)  │          <span style=\"color: #00af00; text-decoration-color: #00af00\">0</span> │ trans_enc5_mha[<span style=\"color: #00af00; text-decoration-color: #00af00\">1</span>… │\n",
       "│ (<span style=\"color: #0087ff; text-decoration-color: #0087ff\">Dropout</span>)           │                   │            │                   │\n",
       "├─────────────────────┼───────────────────┼────────────┼───────────────────┤\n",
       "│ add_8 (<span style=\"color: #0087ff; text-decoration-color: #0087ff\">Add</span>)         │ (<span style=\"color: #00d7ff; text-decoration-color: #00d7ff\">None</span>, <span style=\"color: #00af00; text-decoration-color: #00af00\">181</span>, <span style=\"color: #00af00; text-decoration-color: #00af00\">128</span>)  │          <span style=\"color: #00af00; text-decoration-color: #00af00\">0</span> │ add_7[<span style=\"color: #00af00; text-decoration-color: #00af00\">1</span>][<span style=\"color: #00af00; text-decoration-color: #00af00\">0</span>],      │\n",
       "│                     │                   │            │ trans_enc5_attn_… │\n",
       "├─────────────────────┼───────────────────┼────────────┼───────────────────┤\n",
       "│ trans_enc5_ffn_den… │ (<span style=\"color: #00d7ff; text-decoration-color: #00d7ff\">None</span>, <span style=\"color: #00af00; text-decoration-color: #00af00\">181</span>, <span style=\"color: #00af00; text-decoration-color: #00af00\">512</span>)  │     <span style=\"color: #00af00; text-decoration-color: #00af00\">66,048</span> │ add_8[<span style=\"color: #00af00; text-decoration-color: #00af00\">1</span>][<span style=\"color: #00af00; text-decoration-color: #00af00\">0</span>]       │\n",
       "│ (<span style=\"color: #0087ff; text-decoration-color: #0087ff\">Dense</span>)             │                   │            │                   │\n",
       "├─────────────────────┼───────────────────┼────────────┼───────────────────┤\n",
       "│ trans_enc5_ffn_den… │ (<span style=\"color: #00d7ff; text-decoration-color: #00d7ff\">None</span>, <span style=\"color: #00af00; text-decoration-color: #00af00\">181</span>, <span style=\"color: #00af00; text-decoration-color: #00af00\">128</span>)  │     <span style=\"color: #00af00; text-decoration-color: #00af00\">65,664</span> │ trans_enc5_ffn_d… │\n",
       "│ (<span style=\"color: #0087ff; text-decoration-color: #0087ff\">Dense</span>)             │                   │            │                   │\n",
       "├─────────────────────┼───────────────────┼────────────┼───────────────────┤\n",
       "│ trans_enc5_ffn_dro… │ (<span style=\"color: #00d7ff; text-decoration-color: #00d7ff\">None</span>, <span style=\"color: #00af00; text-decoration-color: #00af00\">181</span>, <span style=\"color: #00af00; text-decoration-color: #00af00\">128</span>)  │          <span style=\"color: #00af00; text-decoration-color: #00af00\">0</span> │ trans_enc5_ffn_d… │\n",
       "│ (<span style=\"color: #0087ff; text-decoration-color: #0087ff\">Dropout</span>)           │                   │            │                   │\n",
       "├─────────────────────┼───────────────────┼────────────┼───────────────────┤\n",
       "│ add_9 (<span style=\"color: #0087ff; text-decoration-color: #0087ff\">Add</span>)         │ (<span style=\"color: #00d7ff; text-decoration-color: #00d7ff\">None</span>, <span style=\"color: #00af00; text-decoration-color: #00af00\">181</span>, <span style=\"color: #00af00; text-decoration-color: #00af00\">128</span>)  │          <span style=\"color: #00af00; text-decoration-color: #00af00\">0</span> │ add_8[<span style=\"color: #00af00; text-decoration-color: #00af00\">1</span>][<span style=\"color: #00af00; text-decoration-color: #00af00\">0</span>],      │\n",
       "│                     │                   │            │ trans_enc5_ffn_d… │\n",
       "├─────────────────────┼───────────────────┼────────────┼───────────────────┤\n",
       "│ trans_enc6_mha      │ (<span style=\"color: #00d7ff; text-decoration-color: #00d7ff\">None</span>, <span style=\"color: #00af00; text-decoration-color: #00af00\">181</span>, <span style=\"color: #00af00; text-decoration-color: #00af00\">128</span>)  │  <span style=\"color: #00af00; text-decoration-color: #00af00\">4,219,008</span> │ add_9[<span style=\"color: #00af00; text-decoration-color: #00af00\">1</span>][<span style=\"color: #00af00; text-decoration-color: #00af00\">0</span>],      │\n",
       "│ (<span style=\"color: #0087ff; text-decoration-color: #0087ff\">MultiHeadAttentio…</span> │                   │            │ add_9[<span style=\"color: #00af00; text-decoration-color: #00af00\">1</span>][<span style=\"color: #00af00; text-decoration-color: #00af00\">0</span>]       │\n",
       "├─────────────────────┼───────────────────┼────────────┼───────────────────┤\n",
       "│ trans_enc6_attn_dr… │ (<span style=\"color: #00d7ff; text-decoration-color: #00d7ff\">None</span>, <span style=\"color: #00af00; text-decoration-color: #00af00\">181</span>, <span style=\"color: #00af00; text-decoration-color: #00af00\">128</span>)  │          <span style=\"color: #00af00; text-decoration-color: #00af00\">0</span> │ trans_enc6_mha[<span style=\"color: #00af00; text-decoration-color: #00af00\">1</span>… │\n",
       "│ (<span style=\"color: #0087ff; text-decoration-color: #0087ff\">Dropout</span>)           │                   │            │                   │\n",
       "├─────────────────────┼───────────────────┼────────────┼───────────────────┤\n",
       "│ add_10 (<span style=\"color: #0087ff; text-decoration-color: #0087ff\">Add</span>)        │ (<span style=\"color: #00d7ff; text-decoration-color: #00d7ff\">None</span>, <span style=\"color: #00af00; text-decoration-color: #00af00\">181</span>, <span style=\"color: #00af00; text-decoration-color: #00af00\">128</span>)  │          <span style=\"color: #00af00; text-decoration-color: #00af00\">0</span> │ add_9[<span style=\"color: #00af00; text-decoration-color: #00af00\">1</span>][<span style=\"color: #00af00; text-decoration-color: #00af00\">0</span>],      │\n",
       "│                     │                   │            │ trans_enc6_attn_… │\n",
       "├─────────────────────┼───────────────────┼────────────┼───────────────────┤\n",
       "│ trans_enc6_ffn_den… │ (<span style=\"color: #00d7ff; text-decoration-color: #00d7ff\">None</span>, <span style=\"color: #00af00; text-decoration-color: #00af00\">181</span>, <span style=\"color: #00af00; text-decoration-color: #00af00\">512</span>)  │     <span style=\"color: #00af00; text-decoration-color: #00af00\">66,048</span> │ add_10[<span style=\"color: #00af00; text-decoration-color: #00af00\">1</span>][<span style=\"color: #00af00; text-decoration-color: #00af00\">0</span>]      │\n",
       "│ (<span style=\"color: #0087ff; text-decoration-color: #0087ff\">Dense</span>)             │                   │            │                   │\n",
       "├─────────────────────┼───────────────────┼────────────┼───────────────────┤\n",
       "│ trans_enc6_ffn_den… │ (<span style=\"color: #00d7ff; text-decoration-color: #00d7ff\">None</span>, <span style=\"color: #00af00; text-decoration-color: #00af00\">181</span>, <span style=\"color: #00af00; text-decoration-color: #00af00\">128</span>)  │     <span style=\"color: #00af00; text-decoration-color: #00af00\">65,664</span> │ trans_enc6_ffn_d… │\n",
       "│ (<span style=\"color: #0087ff; text-decoration-color: #0087ff\">Dense</span>)             │                   │            │                   │\n",
       "├─────────────────────┼───────────────────┼────────────┼───────────────────┤\n",
       "│ trans_enc6_ffn_dro… │ (<span style=\"color: #00d7ff; text-decoration-color: #00d7ff\">None</span>, <span style=\"color: #00af00; text-decoration-color: #00af00\">181</span>, <span style=\"color: #00af00; text-decoration-color: #00af00\">128</span>)  │          <span style=\"color: #00af00; text-decoration-color: #00af00\">0</span> │ trans_enc6_ffn_d… │\n",
       "│ (<span style=\"color: #0087ff; text-decoration-color: #0087ff\">Dropout</span>)           │                   │            │                   │\n",
       "├─────────────────────┼───────────────────┼────────────┼───────────────────┤\n",
       "│ add_11 (<span style=\"color: #0087ff; text-decoration-color: #0087ff\">Add</span>)        │ (<span style=\"color: #00d7ff; text-decoration-color: #00d7ff\">None</span>, <span style=\"color: #00af00; text-decoration-color: #00af00\">181</span>, <span style=\"color: #00af00; text-decoration-color: #00af00\">128</span>)  │          <span style=\"color: #00af00; text-decoration-color: #00af00\">0</span> │ add_10[<span style=\"color: #00af00; text-decoration-color: #00af00\">1</span>][<span style=\"color: #00af00; text-decoration-color: #00af00\">0</span>],     │\n",
       "│                     │                   │            │ trans_enc6_ffn_d… │\n",
       "├─────────────────────┼───────────────────┼────────────┼───────────────────┤\n",
       "│ trans_enc7_mha      │ (<span style=\"color: #00d7ff; text-decoration-color: #00d7ff\">None</span>, <span style=\"color: #00af00; text-decoration-color: #00af00\">181</span>, <span style=\"color: #00af00; text-decoration-color: #00af00\">128</span>)  │  <span style=\"color: #00af00; text-decoration-color: #00af00\">4,219,008</span> │ add_11[<span style=\"color: #00af00; text-decoration-color: #00af00\">1</span>][<span style=\"color: #00af00; text-decoration-color: #00af00\">0</span>],     │\n",
       "│ (<span style=\"color: #0087ff; text-decoration-color: #0087ff\">MultiHeadAttentio…</span> │                   │            │ add_11[<span style=\"color: #00af00; text-decoration-color: #00af00\">1</span>][<span style=\"color: #00af00; text-decoration-color: #00af00\">0</span>]      │\n",
       "├─────────────────────┼───────────────────┼────────────┼───────────────────┤\n",
       "│ trans_enc7_attn_dr… │ (<span style=\"color: #00d7ff; text-decoration-color: #00d7ff\">None</span>, <span style=\"color: #00af00; text-decoration-color: #00af00\">181</span>, <span style=\"color: #00af00; text-decoration-color: #00af00\">128</span>)  │          <span style=\"color: #00af00; text-decoration-color: #00af00\">0</span> │ trans_enc7_mha[<span style=\"color: #00af00; text-decoration-color: #00af00\">1</span>… │\n",
       "│ (<span style=\"color: #0087ff; text-decoration-color: #0087ff\">Dropout</span>)           │                   │            │                   │\n",
       "├─────────────────────┼───────────────────┼────────────┼───────────────────┤\n",
       "│ add_12 (<span style=\"color: #0087ff; text-decoration-color: #0087ff\">Add</span>)        │ (<span style=\"color: #00d7ff; text-decoration-color: #00d7ff\">None</span>, <span style=\"color: #00af00; text-decoration-color: #00af00\">181</span>, <span style=\"color: #00af00; text-decoration-color: #00af00\">128</span>)  │          <span style=\"color: #00af00; text-decoration-color: #00af00\">0</span> │ add_11[<span style=\"color: #00af00; text-decoration-color: #00af00\">1</span>][<span style=\"color: #00af00; text-decoration-color: #00af00\">0</span>],     │\n",
       "│                     │                   │            │ trans_enc7_attn_… │\n",
       "├─────────────────────┼───────────────────┼────────────┼───────────────────┤\n",
       "│ trans_enc7_ffn_den… │ (<span style=\"color: #00d7ff; text-decoration-color: #00d7ff\">None</span>, <span style=\"color: #00af00; text-decoration-color: #00af00\">181</span>, <span style=\"color: #00af00; text-decoration-color: #00af00\">512</span>)  │     <span style=\"color: #00af00; text-decoration-color: #00af00\">66,048</span> │ add_12[<span style=\"color: #00af00; text-decoration-color: #00af00\">1</span>][<span style=\"color: #00af00; text-decoration-color: #00af00\">0</span>]      │\n",
       "│ (<span style=\"color: #0087ff; text-decoration-color: #0087ff\">Dense</span>)             │                   │            │                   │\n",
       "├─────────────────────┼───────────────────┼────────────┼───────────────────┤\n",
       "│ trans_enc7_ffn_den… │ (<span style=\"color: #00d7ff; text-decoration-color: #00d7ff\">None</span>, <span style=\"color: #00af00; text-decoration-color: #00af00\">181</span>, <span style=\"color: #00af00; text-decoration-color: #00af00\">128</span>)  │     <span style=\"color: #00af00; text-decoration-color: #00af00\">65,664</span> │ trans_enc7_ffn_d… │\n",
       "│ (<span style=\"color: #0087ff; text-decoration-color: #0087ff\">Dense</span>)             │                   │            │                   │\n",
       "├─────────────────────┼───────────────────┼────────────┼───────────────────┤\n",
       "│ trans_enc7_ffn_dro… │ (<span style=\"color: #00d7ff; text-decoration-color: #00d7ff\">None</span>, <span style=\"color: #00af00; text-decoration-color: #00af00\">181</span>, <span style=\"color: #00af00; text-decoration-color: #00af00\">128</span>)  │          <span style=\"color: #00af00; text-decoration-color: #00af00\">0</span> │ trans_enc7_ffn_d… │\n",
       "│ (<span style=\"color: #0087ff; text-decoration-color: #0087ff\">Dropout</span>)           │                   │            │                   │\n",
       "├─────────────────────┼───────────────────┼────────────┼───────────────────┤\n",
       "│ add_13 (<span style=\"color: #0087ff; text-decoration-color: #0087ff\">Add</span>)        │ (<span style=\"color: #00d7ff; text-decoration-color: #00d7ff\">None</span>, <span style=\"color: #00af00; text-decoration-color: #00af00\">181</span>, <span style=\"color: #00af00; text-decoration-color: #00af00\">128</span>)  │          <span style=\"color: #00af00; text-decoration-color: #00af00\">0</span> │ add_12[<span style=\"color: #00af00; text-decoration-color: #00af00\">1</span>][<span style=\"color: #00af00; text-decoration-color: #00af00\">0</span>],     │\n",
       "│                     │                   │            │ trans_enc7_ffn_d… │\n",
       "├─────────────────────┼───────────────────┼────────────┼───────────────────┤\n",
       "│ extract_cls         │ (<span style=\"color: #00d7ff; text-decoration-color: #00d7ff\">None</span>, <span style=\"color: #00af00; text-decoration-color: #00af00\">128</span>)       │          <span style=\"color: #00af00; text-decoration-color: #00af00\">0</span> │ add_13[<span style=\"color: #00af00; text-decoration-color: #00af00\">1</span>][<span style=\"color: #00af00; text-decoration-color: #00af00\">0</span>]      │\n",
       "│ (<span style=\"color: #0087ff; text-decoration-color: #0087ff\">Lambda</span>)            │                   │            │                   │\n",
       "├─────────────────────┼───────────────────┼────────────┼───────────────────┤\n",
       "│ dense1 (<span style=\"color: #0087ff; text-decoration-color: #0087ff\">Dense</span>)      │ (<span style=\"color: #00d7ff; text-decoration-color: #00d7ff\">None</span>, <span style=\"color: #00af00; text-decoration-color: #00af00\">4096</span>)      │    <span style=\"color: #00af00; text-decoration-color: #00af00\">528,384</span> │ extract_cls[<span style=\"color: #00af00; text-decoration-color: #00af00\">1</span>][<span style=\"color: #00af00; text-decoration-color: #00af00\">0</span>] │\n",
       "├─────────────────────┼───────────────────┼────────────┼───────────────────┤\n",
       "│ leaky_re_lu_4       │ (<span style=\"color: #00d7ff; text-decoration-color: #00d7ff\">None</span>, <span style=\"color: #00af00; text-decoration-color: #00af00\">4096</span>)      │          <span style=\"color: #00af00; text-decoration-color: #00af00\">0</span> │ dense1[<span style=\"color: #00af00; text-decoration-color: #00af00\">1</span>][<span style=\"color: #00af00; text-decoration-color: #00af00\">0</span>]      │\n",
       "│ (<span style=\"color: #0087ff; text-decoration-color: #0087ff\">LeakyReLU</span>)         │                   │            │                   │\n",
       "├─────────────────────┼───────────────────┼────────────┼───────────────────┤\n",
       "│ dropout_7 (<span style=\"color: #0087ff; text-decoration-color: #0087ff\">Dropout</span>) │ (<span style=\"color: #00d7ff; text-decoration-color: #00d7ff\">None</span>, <span style=\"color: #00af00; text-decoration-color: #00af00\">4096</span>)      │          <span style=\"color: #00af00; text-decoration-color: #00af00\">0</span> │ leaky_re_lu_4[<span style=\"color: #00af00; text-decoration-color: #00af00\">1</span>]… │\n",
       "├─────────────────────┼───────────────────┼────────────┼───────────────────┤\n",
       "│ dense2 (<span style=\"color: #0087ff; text-decoration-color: #0087ff\">Dense</span>)      │ (<span style=\"color: #00d7ff; text-decoration-color: #00d7ff\">None</span>, <span style=\"color: #00af00; text-decoration-color: #00af00\">4096</span>)      │ <span style=\"color: #00af00; text-decoration-color: #00af00\">16,781,312</span> │ dropout_7[<span style=\"color: #00af00; text-decoration-color: #00af00\">1</span>][<span style=\"color: #00af00; text-decoration-color: #00af00\">0</span>]   │\n",
       "├─────────────────────┼───────────────────┼────────────┼───────────────────┤\n",
       "│ leaky_re_lu_5       │ (<span style=\"color: #00d7ff; text-decoration-color: #00d7ff\">None</span>, <span style=\"color: #00af00; text-decoration-color: #00af00\">4096</span>)      │          <span style=\"color: #00af00; text-decoration-color: #00af00\">0</span> │ dense2[<span style=\"color: #00af00; text-decoration-color: #00af00\">1</span>][<span style=\"color: #00af00; text-decoration-color: #00af00\">0</span>]      │\n",
       "│ (<span style=\"color: #0087ff; text-decoration-color: #0087ff\">LeakyReLU</span>)         │                   │            │                   │\n",
       "├─────────────────────┼───────────────────┼────────────┼───────────────────┤\n",
       "│ dropout_8 (<span style=\"color: #0087ff; text-decoration-color: #0087ff\">Dropout</span>) │ (<span style=\"color: #00d7ff; text-decoration-color: #00d7ff\">None</span>, <span style=\"color: #00af00; text-decoration-color: #00af00\">4096</span>)      │          <span style=\"color: #00af00; text-decoration-color: #00af00\">0</span> │ leaky_re_lu_5[<span style=\"color: #00af00; text-decoration-color: #00af00\">1</span>]… │\n",
       "├─────────────────────┼───────────────────┼────────────┼───────────────────┤\n",
       "│ dense3 (<span style=\"color: #0087ff; text-decoration-color: #0087ff\">Dense</span>)      │ (<span style=\"color: #00d7ff; text-decoration-color: #00d7ff\">None</span>, <span style=\"color: #00af00; text-decoration-color: #00af00\">4096</span>)      │ <span style=\"color: #00af00; text-decoration-color: #00af00\">16,781,312</span> │ dropout_8[<span style=\"color: #00af00; text-decoration-color: #00af00\">1</span>][<span style=\"color: #00af00; text-decoration-color: #00af00\">0</span>]   │\n",
       "├─────────────────────┼───────────────────┼────────────┼───────────────────┤\n",
       "│ leaky_re_lu_6       │ (<span style=\"color: #00d7ff; text-decoration-color: #00d7ff\">None</span>, <span style=\"color: #00af00; text-decoration-color: #00af00\">4096</span>)      │          <span style=\"color: #00af00; text-decoration-color: #00af00\">0</span> │ dense3[<span style=\"color: #00af00; text-decoration-color: #00af00\">1</span>][<span style=\"color: #00af00; text-decoration-color: #00af00\">0</span>]      │\n",
       "│ (<span style=\"color: #0087ff; text-decoration-color: #0087ff\">LeakyReLU</span>)         │                   │            │                   │\n",
       "├─────────────────────┼───────────────────┼────────────┼───────────────────┤\n",
       "│ dropout_9 (<span style=\"color: #0087ff; text-decoration-color: #0087ff\">Dropout</span>) │ (<span style=\"color: #00d7ff; text-decoration-color: #00d7ff\">None</span>, <span style=\"color: #00af00; text-decoration-color: #00af00\">4096</span>)      │          <span style=\"color: #00af00; text-decoration-color: #00af00\">0</span> │ leaky_re_lu_6[<span style=\"color: #00af00; text-decoration-color: #00af00\">1</span>]… │\n",
       "├─────────────────────┼───────────────────┼────────────┼───────────────────┤\n",
       "│ dense4 (<span style=\"color: #0087ff; text-decoration-color: #0087ff\">Dense</span>)      │ (<span style=\"color: #00d7ff; text-decoration-color: #00d7ff\">None</span>, <span style=\"color: #00af00; text-decoration-color: #00af00\">4096</span>)      │ <span style=\"color: #00af00; text-decoration-color: #00af00\">16,781,312</span> │ dropout_9[<span style=\"color: #00af00; text-decoration-color: #00af00\">1</span>][<span style=\"color: #00af00; text-decoration-color: #00af00\">0</span>]   │\n",
       "├─────────────────────┼───────────────────┼────────────┼───────────────────┤\n",
       "│ leaky_re_lu_7       │ (<span style=\"color: #00d7ff; text-decoration-color: #00d7ff\">None</span>, <span style=\"color: #00af00; text-decoration-color: #00af00\">4096</span>)      │          <span style=\"color: #00af00; text-decoration-color: #00af00\">0</span> │ dense4[<span style=\"color: #00af00; text-decoration-color: #00af00\">1</span>][<span style=\"color: #00af00; text-decoration-color: #00af00\">0</span>]      │\n",
       "│ (<span style=\"color: #0087ff; text-decoration-color: #0087ff\">LeakyReLU</span>)         │                   │            │                   │\n",
       "├─────────────────────┼───────────────────┼────────────┼───────────────────┤\n",
       "│ dropout_10          │ (<span style=\"color: #00d7ff; text-decoration-color: #00d7ff\">None</span>, <span style=\"color: #00af00; text-decoration-color: #00af00\">4096</span>)      │          <span style=\"color: #00af00; text-decoration-color: #00af00\">0</span> │ leaky_re_lu_7[<span style=\"color: #00af00; text-decoration-color: #00af00\">1</span>]… │\n",
       "│ (<span style=\"color: #0087ff; text-decoration-color: #0087ff\">Dropout</span>)           │                   │            │                   │\n",
       "├─────────────────────┼───────────────────┼────────────┼───────────────────┤\n",
       "│ pre_softmax_tanh    │ (<span style=\"color: #00d7ff; text-decoration-color: #00d7ff\">None</span>, <span style=\"color: #00af00; text-decoration-color: #00af00\">1024</span>)      │  <span style=\"color: #00af00; text-decoration-color: #00af00\">4,195,328</span> │ dropout_10[<span style=\"color: #00af00; text-decoration-color: #00af00\">1</span>][<span style=\"color: #00af00; text-decoration-color: #00af00\">0</span>]  │\n",
       "│ (<span style=\"color: #0087ff; text-decoration-color: #0087ff\">Dense</span>)             │                   │            │                   │\n",
       "├─────────────────────┼───────────────────┼────────────┼───────────────────┤\n",
       "│ minutes             │ (<span style=\"color: #00d7ff; text-decoration-color: #00d7ff\">None</span>, <span style=\"color: #00af00; text-decoration-color: #00af00\">1</span>)         │          <span style=\"color: #00af00; text-decoration-color: #00af00\">0</span> │ -                 │\n",
       "│ (<span style=\"color: #0087ff; text-decoration-color: #0087ff\">InputLayer</span>)        │                   │            │                   │\n",
       "├─────────────────────┼───────────────────┼────────────┼───────────────────┤\n",
       "│ output (<span style=\"color: #0087ff; text-decoration-color: #0087ff\">Dense</span>)      │ (<span style=\"color: #00d7ff; text-decoration-color: #00d7ff\">None</span>, <span style=\"color: #00af00; text-decoration-color: #00af00\">3</span>)         │      <span style=\"color: #00af00; text-decoration-color: #00af00\">3,075</span> │ pre_softmax_tanh… │\n",
       "└─────────────────────┴───────────────────┴────────────┴───────────────────┘\n",
       "</pre>\n"
      ],
      "text/plain": [
       "┏━━━━━━━━━━━━━━━━━━━━━┳━━━━━━━━━━━━━━━━━━━┳━━━━━━━━━━━━┳━━━━━━━━━━━━━━━━━━━┓\n",
       "┃\u001b[1m \u001b[0m\u001b[1mLayer (type)       \u001b[0m\u001b[1m \u001b[0m┃\u001b[1m \u001b[0m\u001b[1mOutput Shape     \u001b[0m\u001b[1m \u001b[0m┃\u001b[1m \u001b[0m\u001b[1m   Param #\u001b[0m\u001b[1m \u001b[0m┃\u001b[1m \u001b[0m\u001b[1mConnected to     \u001b[0m\u001b[1m \u001b[0m┃\n",
       "┡━━━━━━━━━━━━━━━━━━━━━╇━━━━━━━━━━━━━━━━━━━╇━━━━━━━━━━━━╇━━━━━━━━━━━━━━━━━━━┩\n",
       "│ chart_m15           │ (\u001b[38;5;45mNone\u001b[0m, \u001b[38;5;34m60\u001b[0m, \u001b[38;5;34m5\u001b[0m)     │          \u001b[38;5;34m0\u001b[0m │ -                 │\n",
       "│ (\u001b[38;5;33mInputLayer\u001b[0m)        │                   │            │                   │\n",
       "├─────────────────────┼───────────────────┼────────────┼───────────────────┤\n",
       "│ chart_m5            │ (\u001b[38;5;45mNone\u001b[0m, \u001b[38;5;34m60\u001b[0m, \u001b[38;5;34m5\u001b[0m)     │          \u001b[38;5;34m0\u001b[0m │ -                 │\n",
       "│ (\u001b[38;5;33mInputLayer\u001b[0m)        │                   │            │                   │\n",
       "├─────────────────────┼───────────────────┼────────────┼───────────────────┤\n",
       "│ chart_m1            │ (\u001b[38;5;45mNone\u001b[0m, \u001b[38;5;34m60\u001b[0m, \u001b[38;5;34m5\u001b[0m)     │          \u001b[38;5;34m0\u001b[0m │ -                 │\n",
       "│ (\u001b[38;5;33mInputLayer\u001b[0m)        │                   │            │                   │\n",
       "├─────────────────────┼───────────────────┼────────────┼───────────────────┤\n",
       "│ m15_extract_time    │ (\u001b[38;5;45mNone\u001b[0m, \u001b[38;5;34m60\u001b[0m)        │          \u001b[38;5;34m0\u001b[0m │ chart_m15[\u001b[38;5;34m1\u001b[0m][\u001b[38;5;34m0\u001b[0m]   │\n",
       "│ (\u001b[38;5;33mLambda\u001b[0m)            │                   │            │                   │\n",
       "├─────────────────────┼───────────────────┼────────────┼───────────────────┤\n",
       "│ m5_extract_time     │ (\u001b[38;5;45mNone\u001b[0m, \u001b[38;5;34m60\u001b[0m)        │          \u001b[38;5;34m0\u001b[0m │ chart_m5[\u001b[38;5;34m1\u001b[0m][\u001b[38;5;34m0\u001b[0m]    │\n",
       "│ (\u001b[38;5;33mLambda\u001b[0m)            │                   │            │                   │\n",
       "├─────────────────────┼───────────────────┼────────────┼───────────────────┤\n",
       "│ m1_extract_time     │ (\u001b[38;5;45mNone\u001b[0m, \u001b[38;5;34m60\u001b[0m)        │          \u001b[38;5;34m0\u001b[0m │ chart_m1[\u001b[38;5;34m1\u001b[0m][\u001b[38;5;34m0\u001b[0m]    │\n",
       "│ (\u001b[38;5;33mLambda\u001b[0m)            │                   │            │                   │\n",
       "├─────────────────────┼───────────────────┼────────────┼───────────────────┤\n",
       "│ m15_cast_time       │ (\u001b[38;5;45mNone\u001b[0m, \u001b[38;5;34m60\u001b[0m)        │          \u001b[38;5;34m0\u001b[0m │ m15_extract_time… │\n",
       "│ (\u001b[38;5;33mLambda\u001b[0m)            │                   │            │                   │\n",
       "├─────────────────────┼───────────────────┼────────────┼───────────────────┤\n",
       "│ m5_cast_time        │ (\u001b[38;5;45mNone\u001b[0m, \u001b[38;5;34m60\u001b[0m)        │          \u001b[38;5;34m0\u001b[0m │ m5_extract_time[\u001b[38;5;34m…\u001b[0m │\n",
       "│ (\u001b[38;5;33mLambda\u001b[0m)            │                   │            │                   │\n",
       "├─────────────────────┼───────────────────┼────────────┼───────────────────┤\n",
       "│ m1_cast_time        │ (\u001b[38;5;45mNone\u001b[0m, \u001b[38;5;34m60\u001b[0m)        │          \u001b[38;5;34m0\u001b[0m │ m1_extract_time[\u001b[38;5;34m…\u001b[0m │\n",
       "│ (\u001b[38;5;33mLambda\u001b[0m)            │                   │            │                   │\n",
       "├─────────────────────┼───────────────────┼────────────┼───────────────────┤\n",
       "│ m15_clip_ohlc       │ (\u001b[38;5;45mNone\u001b[0m, \u001b[38;5;34m60\u001b[0m, \u001b[38;5;34m4\u001b[0m)     │          \u001b[38;5;34m0\u001b[0m │ chart_m15[\u001b[38;5;34m1\u001b[0m][\u001b[38;5;34m0\u001b[0m]   │\n",
       "│ (\u001b[38;5;33mLambda\u001b[0m)            │                   │            │                   │\n",
       "├─────────────────────┼───────────────────┼────────────┼───────────────────┤\n",
       "│ m15_t_embed         │ (\u001b[38;5;45mNone\u001b[0m, \u001b[38;5;34m60\u001b[0m, \u001b[38;5;34m8\u001b[0m)     │     \u001b[38;5;34m11,520\u001b[0m │ m15_cast_time[\u001b[38;5;34m1\u001b[0m]… │\n",
       "│ (\u001b[38;5;33mEmbedding\u001b[0m)         │                   │            │                   │\n",
       "├─────────────────────┼───────────────────┼────────────┼───────────────────┤\n",
       "│ m5_clip_ohlc        │ (\u001b[38;5;45mNone\u001b[0m, \u001b[38;5;34m60\u001b[0m, \u001b[38;5;34m4\u001b[0m)     │          \u001b[38;5;34m0\u001b[0m │ chart_m5[\u001b[38;5;34m1\u001b[0m][\u001b[38;5;34m0\u001b[0m]    │\n",
       "│ (\u001b[38;5;33mLambda\u001b[0m)            │                   │            │                   │\n",
       "├─────────────────────┼───────────────────┼────────────┼───────────────────┤\n",
       "│ m5_t_embed          │ (\u001b[38;5;45mNone\u001b[0m, \u001b[38;5;34m60\u001b[0m, \u001b[38;5;34m8\u001b[0m)     │     \u001b[38;5;34m11,520\u001b[0m │ m5_cast_time[\u001b[38;5;34m1\u001b[0m][\u001b[38;5;34m…\u001b[0m │\n",
       "│ (\u001b[38;5;33mEmbedding\u001b[0m)         │                   │            │                   │\n",
       "├─────────────────────┼───────────────────┼────────────┼───────────────────┤\n",
       "│ m1_clip_ohlc        │ (\u001b[38;5;45mNone\u001b[0m, \u001b[38;5;34m60\u001b[0m, \u001b[38;5;34m4\u001b[0m)     │          \u001b[38;5;34m0\u001b[0m │ chart_m1[\u001b[38;5;34m1\u001b[0m][\u001b[38;5;34m0\u001b[0m]    │\n",
       "│ (\u001b[38;5;33mLambda\u001b[0m)            │                   │            │                   │\n",
       "├─────────────────────┼───────────────────┼────────────┼───────────────────┤\n",
       "│ m1_t_embed          │ (\u001b[38;5;45mNone\u001b[0m, \u001b[38;5;34m60\u001b[0m, \u001b[38;5;34m8\u001b[0m)     │     \u001b[38;5;34m11,520\u001b[0m │ m1_cast_time[\u001b[38;5;34m1\u001b[0m][\u001b[38;5;34m…\u001b[0m │\n",
       "│ (\u001b[38;5;33mEmbedding\u001b[0m)         │                   │            │                   │\n",
       "├─────────────────────┼───────────────────┼────────────┼───────────────────┤\n",
       "│ m15_concat          │ (\u001b[38;5;45mNone\u001b[0m, \u001b[38;5;34m60\u001b[0m, \u001b[38;5;34m12\u001b[0m)    │          \u001b[38;5;34m0\u001b[0m │ m15_clip_ohlc[\u001b[38;5;34m1\u001b[0m]… │\n",
       "│ (\u001b[38;5;33mConcatenate\u001b[0m)       │                   │            │ m15_t_embed[\u001b[38;5;34m1\u001b[0m][\u001b[38;5;34m0\u001b[0m] │\n",
       "├─────────────────────┼───────────────────┼────────────┼───────────────────┤\n",
       "│ m5_concat           │ (\u001b[38;5;45mNone\u001b[0m, \u001b[38;5;34m60\u001b[0m, \u001b[38;5;34m12\u001b[0m)    │          \u001b[38;5;34m0\u001b[0m │ m5_clip_ohlc[\u001b[38;5;34m1\u001b[0m][\u001b[38;5;34m…\u001b[0m │\n",
       "│ (\u001b[38;5;33mConcatenate\u001b[0m)       │                   │            │ m5_t_embed[\u001b[38;5;34m1\u001b[0m][\u001b[38;5;34m0\u001b[0m]  │\n",
       "├─────────────────────┼───────────────────┼────────────┼───────────────────┤\n",
       "│ m1_concat           │ (\u001b[38;5;45mNone\u001b[0m, \u001b[38;5;34m60\u001b[0m, \u001b[38;5;34m12\u001b[0m)    │          \u001b[38;5;34m0\u001b[0m │ m1_clip_ohlc[\u001b[38;5;34m1\u001b[0m][\u001b[38;5;34m…\u001b[0m │\n",
       "│ (\u001b[38;5;33mConcatenate\u001b[0m)       │                   │            │ m1_t_embed[\u001b[38;5;34m1\u001b[0m][\u001b[38;5;34m0\u001b[0m]  │\n",
       "├─────────────────────┼───────────────────┼────────────┼───────────────────┤\n",
       "│ m15_timeframe       │ (\u001b[38;5;45mNone\u001b[0m, \u001b[38;5;34m60\u001b[0m, \u001b[38;5;34m3\u001b[0m)     │          \u001b[38;5;34m0\u001b[0m │ m15_concat[\u001b[38;5;34m1\u001b[0m][\u001b[38;5;34m0\u001b[0m]  │\n",
       "│ (\u001b[38;5;33mLambda\u001b[0m)            │                   │            │                   │\n",
       "├─────────────────────┼───────────────────┼────────────┼───────────────────┤\n",
       "│ m5_timeframe        │ (\u001b[38;5;45mNone\u001b[0m, \u001b[38;5;34m60\u001b[0m, \u001b[38;5;34m3\u001b[0m)     │          \u001b[38;5;34m0\u001b[0m │ m5_concat[\u001b[38;5;34m1\u001b[0m][\u001b[38;5;34m0\u001b[0m]   │\n",
       "│ (\u001b[38;5;33mLambda\u001b[0m)            │                   │            │                   │\n",
       "├─────────────────────┼───────────────────┼────────────┼───────────────────┤\n",
       "│ m1_timeframe        │ (\u001b[38;5;45mNone\u001b[0m, \u001b[38;5;34m60\u001b[0m, \u001b[38;5;34m3\u001b[0m)     │          \u001b[38;5;34m0\u001b[0m │ m1_concat[\u001b[38;5;34m1\u001b[0m][\u001b[38;5;34m0\u001b[0m]   │\n",
       "│ (\u001b[38;5;33mLambda\u001b[0m)            │                   │            │                   │\n",
       "├─────────────────────┼───────────────────┼────────────┼───────────────────┤\n",
       "│ m15_with_tf         │ (\u001b[38;5;45mNone\u001b[0m, \u001b[38;5;34m60\u001b[0m, \u001b[38;5;34m15\u001b[0m)    │          \u001b[38;5;34m0\u001b[0m │ m15_concat[\u001b[38;5;34m1\u001b[0m][\u001b[38;5;34m0\u001b[0m], │\n",
       "│ (\u001b[38;5;33mConcatenate\u001b[0m)       │                   │            │ m15_timeframe[\u001b[38;5;34m1\u001b[0m]… │\n",
       "├─────────────────────┼───────────────────┼────────────┼───────────────────┤\n",
       "│ m5_with_tf          │ (\u001b[38;5;45mNone\u001b[0m, \u001b[38;5;34m60\u001b[0m, \u001b[38;5;34m15\u001b[0m)    │          \u001b[38;5;34m0\u001b[0m │ m5_concat[\u001b[38;5;34m1\u001b[0m][\u001b[38;5;34m0\u001b[0m],  │\n",
       "│ (\u001b[38;5;33mConcatenate\u001b[0m)       │                   │            │ m5_timeframe[\u001b[38;5;34m1\u001b[0m][\u001b[38;5;34m…\u001b[0m │\n",
       "├─────────────────────┼───────────────────┼────────────┼───────────────────┤\n",
       "│ m1_with_tf          │ (\u001b[38;5;45mNone\u001b[0m, \u001b[38;5;34m60\u001b[0m, \u001b[38;5;34m15\u001b[0m)    │          \u001b[38;5;34m0\u001b[0m │ m1_concat[\u001b[38;5;34m1\u001b[0m][\u001b[38;5;34m0\u001b[0m],  │\n",
       "│ (\u001b[38;5;33mConcatenate\u001b[0m)       │                   │            │ m1_timeframe[\u001b[38;5;34m1\u001b[0m][\u001b[38;5;34m…\u001b[0m │\n",
       "├─────────────────────┼───────────────────┼────────────┼───────────────────┤\n",
       "│ keras_tensor_2CLONE │ (\u001b[38;5;45mNone\u001b[0m, \u001b[38;5;34m94\u001b[0m)        │          \u001b[38;5;34m0\u001b[0m │ -                 │\n",
       "│ (\u001b[38;5;33mInputLayer\u001b[0m)        │                   │            │                   │\n",
       "├─────────────────────┼───────────────────┼────────────┼───────────────────┤\n",
       "│ charts_concat       │ (\u001b[38;5;45mNone\u001b[0m, \u001b[38;5;34m180\u001b[0m, \u001b[38;5;34m15\u001b[0m)   │          \u001b[38;5;34m0\u001b[0m │ m15_with_tf[\u001b[38;5;34m1\u001b[0m][\u001b[38;5;34m0\u001b[0m… │\n",
       "│ (\u001b[38;5;33mConcatenate\u001b[0m)       │                   │            │ m5_with_tf[\u001b[38;5;34m1\u001b[0m][\u001b[38;5;34m0\u001b[0m], │\n",
       "│                     │                   │            │ m1_with_tf[\u001b[38;5;34m1\u001b[0m][\u001b[38;5;34m0\u001b[0m]  │\n",
       "├─────────────────────┼───────────────────┼────────────┼───────────────────┤\n",
       "│ pdas_repeated       │ (\u001b[38;5;45mNone\u001b[0m, \u001b[38;5;34m180\u001b[0m, \u001b[38;5;34m94\u001b[0m)   │          \u001b[38;5;34m0\u001b[0m │ keras_tensor_2CL… │\n",
       "│ (\u001b[38;5;33mLambda\u001b[0m)            │                   │            │                   │\n",
       "├─────────────────────┼───────────────────┼────────────┼───────────────────┤\n",
       "│ combined_sequence   │ (\u001b[38;5;45mNone\u001b[0m, \u001b[38;5;34m180\u001b[0m, \u001b[38;5;34m109\u001b[0m)  │          \u001b[38;5;34m0\u001b[0m │ charts_concat[\u001b[38;5;34m1\u001b[0m]… │\n",
       "│ (\u001b[38;5;33mConcatenate\u001b[0m)       │                   │            │ pdas_repeated[\u001b[38;5;34m1\u001b[0m]… │\n",
       "├─────────────────────┼───────────────────┼────────────┼───────────────────┤\n",
       "│ dense (\u001b[38;5;33mDense\u001b[0m)       │ (\u001b[38;5;45mNone\u001b[0m, \u001b[38;5;34m180\u001b[0m, \u001b[38;5;34m1024\u001b[0m) │    \u001b[38;5;34m112,640\u001b[0m │ combined_sequenc… │\n",
       "├─────────────────────┼───────────────────┼────────────┼───────────────────┤\n",
       "│ leaky_re_lu         │ (\u001b[38;5;45mNone\u001b[0m, \u001b[38;5;34m180\u001b[0m, \u001b[38;5;34m1024\u001b[0m) │          \u001b[38;5;34m0\u001b[0m │ dense[\u001b[38;5;34m1\u001b[0m][\u001b[38;5;34m0\u001b[0m]       │\n",
       "│ (\u001b[38;5;33mLeakyReLU\u001b[0m)         │                   │            │                   │\n",
       "├─────────────────────┼───────────────────┼────────────┼───────────────────┤\n",
       "│ dense_1 (\u001b[38;5;33mDense\u001b[0m)     │ (\u001b[38;5;45mNone\u001b[0m, \u001b[38;5;34m180\u001b[0m, \u001b[38;5;34m4096\u001b[0m) │  \u001b[38;5;34m4,198,400\u001b[0m │ leaky_re_lu[\u001b[38;5;34m1\u001b[0m][\u001b[38;5;34m0\u001b[0m] │\n",
       "├─────────────────────┼───────────────────┼────────────┼───────────────────┤\n",
       "│ leaky_re_lu_1       │ (\u001b[38;5;45mNone\u001b[0m, \u001b[38;5;34m180\u001b[0m, \u001b[38;5;34m4096\u001b[0m) │          \u001b[38;5;34m0\u001b[0m │ dense_1[\u001b[38;5;34m1\u001b[0m][\u001b[38;5;34m0\u001b[0m]     │\n",
       "│ (\u001b[38;5;33mLeakyReLU\u001b[0m)         │                   │            │                   │\n",
       "├─────────────────────┼───────────────────┼────────────┼───────────────────┤\n",
       "│ dense_2 (\u001b[38;5;33mDense\u001b[0m)     │ (\u001b[38;5;45mNone\u001b[0m, \u001b[38;5;34m180\u001b[0m, \u001b[38;5;34m4096\u001b[0m) │ \u001b[38;5;34m16,781,312\u001b[0m │ leaky_re_lu_1[\u001b[38;5;34m1\u001b[0m]… │\n",
       "├─────────────────────┼───────────────────┼────────────┼───────────────────┤\n",
       "│ leaky_re_lu_2       │ (\u001b[38;5;45mNone\u001b[0m, \u001b[38;5;34m180\u001b[0m, \u001b[38;5;34m4096\u001b[0m) │          \u001b[38;5;34m0\u001b[0m │ dense_2[\u001b[38;5;34m1\u001b[0m][\u001b[38;5;34m0\u001b[0m]     │\n",
       "│ (\u001b[38;5;33mLeakyReLU\u001b[0m)         │                   │            │                   │\n",
       "├─────────────────────┼───────────────────┼────────────┼───────────────────┤\n",
       "│ dense_3 (\u001b[38;5;33mDense\u001b[0m)     │ (\u001b[38;5;45mNone\u001b[0m, \u001b[38;5;34m180\u001b[0m, \u001b[38;5;34m128\u001b[0m)  │    \u001b[38;5;34m524,416\u001b[0m │ leaky_re_lu_2[\u001b[38;5;34m1\u001b[0m]… │\n",
       "├─────────────────────┼───────────────────┼────────────┼───────────────────┤\n",
       "│ leaky_re_lu_3       │ (\u001b[38;5;45mNone\u001b[0m, \u001b[38;5;34m180\u001b[0m, \u001b[38;5;34m128\u001b[0m)  │          \u001b[38;5;34m0\u001b[0m │ dense_3[\u001b[38;5;34m1\u001b[0m][\u001b[38;5;34m0\u001b[0m]     │\n",
       "│ (\u001b[38;5;33mLeakyReLU\u001b[0m)         │                   │            │                   │\n",
       "├─────────────────────┼───────────────────┼────────────┼───────────────────┤\n",
       "│ prepend_cls_token   │ (\u001b[38;5;45mNone\u001b[0m, \u001b[38;5;34m181\u001b[0m, \u001b[38;5;34m128\u001b[0m)  │          \u001b[38;5;34m0\u001b[0m │ leaky_re_lu_3[\u001b[38;5;34m1\u001b[0m]… │\n",
       "│ (\u001b[38;5;33mLambda\u001b[0m)            │                   │            │                   │\n",
       "├─────────────────────┼───────────────────┼────────────┼───────────────────┤\n",
       "│ trans_enc1_mha      │ (\u001b[38;5;45mNone\u001b[0m, \u001b[38;5;34m181\u001b[0m, \u001b[38;5;34m128\u001b[0m)  │  \u001b[38;5;34m4,219,008\u001b[0m │ prepend_cls_toke… │\n",
       "│ (\u001b[38;5;33mMultiHeadAttentio…\u001b[0m │                   │            │ prepend_cls_toke… │\n",
       "├─────────────────────┼───────────────────┼────────────┼───────────────────┤\n",
       "│ trans_enc1_attn_dr… │ (\u001b[38;5;45mNone\u001b[0m, \u001b[38;5;34m181\u001b[0m, \u001b[38;5;34m128\u001b[0m)  │          \u001b[38;5;34m0\u001b[0m │ trans_enc1_mha[\u001b[38;5;34m1\u001b[0m… │\n",
       "│ (\u001b[38;5;33mDropout\u001b[0m)           │                   │            │                   │\n",
       "├─────────────────────┼───────────────────┼────────────┼───────────────────┤\n",
       "│ add (\u001b[38;5;33mAdd\u001b[0m)           │ (\u001b[38;5;45mNone\u001b[0m, \u001b[38;5;34m181\u001b[0m, \u001b[38;5;34m128\u001b[0m)  │          \u001b[38;5;34m0\u001b[0m │ prepend_cls_toke… │\n",
       "│                     │                   │            │ trans_enc1_attn_… │\n",
       "├─────────────────────┼───────────────────┼────────────┼───────────────────┤\n",
       "│ trans_enc1_ffn_den… │ (\u001b[38;5;45mNone\u001b[0m, \u001b[38;5;34m181\u001b[0m, \u001b[38;5;34m512\u001b[0m)  │     \u001b[38;5;34m66,048\u001b[0m │ add[\u001b[38;5;34m1\u001b[0m][\u001b[38;5;34m0\u001b[0m]         │\n",
       "│ (\u001b[38;5;33mDense\u001b[0m)             │                   │            │                   │\n",
       "├─────────────────────┼───────────────────┼────────────┼───────────────────┤\n",
       "│ trans_enc1_ffn_den… │ (\u001b[38;5;45mNone\u001b[0m, \u001b[38;5;34m181\u001b[0m, \u001b[38;5;34m128\u001b[0m)  │     \u001b[38;5;34m65,664\u001b[0m │ trans_enc1_ffn_d… │\n",
       "│ (\u001b[38;5;33mDense\u001b[0m)             │                   │            │                   │\n",
       "├─────────────────────┼───────────────────┼────────────┼───────────────────┤\n",
       "│ trans_enc1_ffn_dro… │ (\u001b[38;5;45mNone\u001b[0m, \u001b[38;5;34m181\u001b[0m, \u001b[38;5;34m128\u001b[0m)  │          \u001b[38;5;34m0\u001b[0m │ trans_enc1_ffn_d… │\n",
       "│ (\u001b[38;5;33mDropout\u001b[0m)           │                   │            │                   │\n",
       "├─────────────────────┼───────────────────┼────────────┼───────────────────┤\n",
       "│ add_1 (\u001b[38;5;33mAdd\u001b[0m)         │ (\u001b[38;5;45mNone\u001b[0m, \u001b[38;5;34m181\u001b[0m, \u001b[38;5;34m128\u001b[0m)  │          \u001b[38;5;34m0\u001b[0m │ add[\u001b[38;5;34m1\u001b[0m][\u001b[38;5;34m0\u001b[0m],        │\n",
       "│                     │                   │            │ trans_enc1_ffn_d… │\n",
       "├─────────────────────┼───────────────────┼────────────┼───────────────────┤\n",
       "│ trans_enc2_mha      │ (\u001b[38;5;45mNone\u001b[0m, \u001b[38;5;34m181\u001b[0m, \u001b[38;5;34m128\u001b[0m)  │  \u001b[38;5;34m4,219,008\u001b[0m │ add_1[\u001b[38;5;34m1\u001b[0m][\u001b[38;5;34m0\u001b[0m],      │\n",
       "│ (\u001b[38;5;33mMultiHeadAttentio…\u001b[0m │                   │            │ add_1[\u001b[38;5;34m1\u001b[0m][\u001b[38;5;34m0\u001b[0m]       │\n",
       "├─────────────────────┼───────────────────┼────────────┼───────────────────┤\n",
       "│ trans_enc2_attn_dr… │ (\u001b[38;5;45mNone\u001b[0m, \u001b[38;5;34m181\u001b[0m, \u001b[38;5;34m128\u001b[0m)  │          \u001b[38;5;34m0\u001b[0m │ trans_enc2_mha[\u001b[38;5;34m1\u001b[0m… │\n",
       "│ (\u001b[38;5;33mDropout\u001b[0m)           │                   │            │                   │\n",
       "├─────────────────────┼───────────────────┼────────────┼───────────────────┤\n",
       "│ add_2 (\u001b[38;5;33mAdd\u001b[0m)         │ (\u001b[38;5;45mNone\u001b[0m, \u001b[38;5;34m181\u001b[0m, \u001b[38;5;34m128\u001b[0m)  │          \u001b[38;5;34m0\u001b[0m │ add_1[\u001b[38;5;34m1\u001b[0m][\u001b[38;5;34m0\u001b[0m],      │\n",
       "│                     │                   │            │ trans_enc2_attn_… │\n",
       "├─────────────────────┼───────────────────┼────────────┼───────────────────┤\n",
       "│ trans_enc2_ffn_den… │ (\u001b[38;5;45mNone\u001b[0m, \u001b[38;5;34m181\u001b[0m, \u001b[38;5;34m512\u001b[0m)  │     \u001b[38;5;34m66,048\u001b[0m │ add_2[\u001b[38;5;34m1\u001b[0m][\u001b[38;5;34m0\u001b[0m]       │\n",
       "│ (\u001b[38;5;33mDense\u001b[0m)             │                   │            │                   │\n",
       "├─────────────────────┼───────────────────┼────────────┼───────────────────┤\n",
       "│ trans_enc2_ffn_den… │ (\u001b[38;5;45mNone\u001b[0m, \u001b[38;5;34m181\u001b[0m, \u001b[38;5;34m128\u001b[0m)  │     \u001b[38;5;34m65,664\u001b[0m │ trans_enc2_ffn_d… │\n",
       "│ (\u001b[38;5;33mDense\u001b[0m)             │                   │            │                   │\n",
       "├─────────────────────┼───────────────────┼────────────┼───────────────────┤\n",
       "│ trans_enc2_ffn_dro… │ (\u001b[38;5;45mNone\u001b[0m, \u001b[38;5;34m181\u001b[0m, \u001b[38;5;34m128\u001b[0m)  │          \u001b[38;5;34m0\u001b[0m │ trans_enc2_ffn_d… │\n",
       "│ (\u001b[38;5;33mDropout\u001b[0m)           │                   │            │                   │\n",
       "├─────────────────────┼───────────────────┼────────────┼───────────────────┤\n",
       "│ add_3 (\u001b[38;5;33mAdd\u001b[0m)         │ (\u001b[38;5;45mNone\u001b[0m, \u001b[38;5;34m181\u001b[0m, \u001b[38;5;34m128\u001b[0m)  │          \u001b[38;5;34m0\u001b[0m │ add_2[\u001b[38;5;34m1\u001b[0m][\u001b[38;5;34m0\u001b[0m],      │\n",
       "│                     │                   │            │ trans_enc2_ffn_d… │\n",
       "├─────────────────────┼───────────────────┼────────────┼───────────────────┤\n",
       "│ trans_enc3_mha      │ (\u001b[38;5;45mNone\u001b[0m, \u001b[38;5;34m181\u001b[0m, \u001b[38;5;34m128\u001b[0m)  │  \u001b[38;5;34m4,219,008\u001b[0m │ add_3[\u001b[38;5;34m1\u001b[0m][\u001b[38;5;34m0\u001b[0m],      │\n",
       "│ (\u001b[38;5;33mMultiHeadAttentio…\u001b[0m │                   │            │ add_3[\u001b[38;5;34m1\u001b[0m][\u001b[38;5;34m0\u001b[0m]       │\n",
       "├─────────────────────┼───────────────────┼────────────┼───────────────────┤\n",
       "│ trans_enc3_attn_dr… │ (\u001b[38;5;45mNone\u001b[0m, \u001b[38;5;34m181\u001b[0m, \u001b[38;5;34m128\u001b[0m)  │          \u001b[38;5;34m0\u001b[0m │ trans_enc3_mha[\u001b[38;5;34m1\u001b[0m… │\n",
       "│ (\u001b[38;5;33mDropout\u001b[0m)           │                   │            │                   │\n",
       "├─────────────────────┼───────────────────┼────────────┼───────────────────┤\n",
       "│ add_4 (\u001b[38;5;33mAdd\u001b[0m)         │ (\u001b[38;5;45mNone\u001b[0m, \u001b[38;5;34m181\u001b[0m, \u001b[38;5;34m128\u001b[0m)  │          \u001b[38;5;34m0\u001b[0m │ add_3[\u001b[38;5;34m1\u001b[0m][\u001b[38;5;34m0\u001b[0m],      │\n",
       "│                     │                   │            │ trans_enc3_attn_… │\n",
       "├─────────────────────┼───────────────────┼────────────┼───────────────────┤\n",
       "│ trans_enc3_ffn_den… │ (\u001b[38;5;45mNone\u001b[0m, \u001b[38;5;34m181\u001b[0m, \u001b[38;5;34m512\u001b[0m)  │     \u001b[38;5;34m66,048\u001b[0m │ add_4[\u001b[38;5;34m1\u001b[0m][\u001b[38;5;34m0\u001b[0m]       │\n",
       "│ (\u001b[38;5;33mDense\u001b[0m)             │                   │            │                   │\n",
       "├─────────────────────┼───────────────────┼────────────┼───────────────────┤\n",
       "│ trans_enc3_ffn_den… │ (\u001b[38;5;45mNone\u001b[0m, \u001b[38;5;34m181\u001b[0m, \u001b[38;5;34m128\u001b[0m)  │     \u001b[38;5;34m65,664\u001b[0m │ trans_enc3_ffn_d… │\n",
       "│ (\u001b[38;5;33mDense\u001b[0m)             │                   │            │                   │\n",
       "├─────────────────────┼───────────────────┼────────────┼───────────────────┤\n",
       "│ trans_enc3_ffn_dro… │ (\u001b[38;5;45mNone\u001b[0m, \u001b[38;5;34m181\u001b[0m, \u001b[38;5;34m128\u001b[0m)  │          \u001b[38;5;34m0\u001b[0m │ trans_enc3_ffn_d… │\n",
       "│ (\u001b[38;5;33mDropout\u001b[0m)           │                   │            │                   │\n",
       "├─────────────────────┼───────────────────┼────────────┼───────────────────┤\n",
       "│ add_5 (\u001b[38;5;33mAdd\u001b[0m)         │ (\u001b[38;5;45mNone\u001b[0m, \u001b[38;5;34m181\u001b[0m, \u001b[38;5;34m128\u001b[0m)  │          \u001b[38;5;34m0\u001b[0m │ add_4[\u001b[38;5;34m1\u001b[0m][\u001b[38;5;34m0\u001b[0m],      │\n",
       "│                     │                   │            │ trans_enc3_ffn_d… │\n",
       "├─────────────────────┼───────────────────┼────────────┼───────────────────┤\n",
       "│ trans_enc4_mha      │ (\u001b[38;5;45mNone\u001b[0m, \u001b[38;5;34m181\u001b[0m, \u001b[38;5;34m128\u001b[0m)  │  \u001b[38;5;34m4,219,008\u001b[0m │ add_5[\u001b[38;5;34m1\u001b[0m][\u001b[38;5;34m0\u001b[0m],      │\n",
       "│ (\u001b[38;5;33mMultiHeadAttentio…\u001b[0m │                   │            │ add_5[\u001b[38;5;34m1\u001b[0m][\u001b[38;5;34m0\u001b[0m]       │\n",
       "├─────────────────────┼───────────────────┼────────────┼───────────────────┤\n",
       "│ trans_enc4_attn_dr… │ (\u001b[38;5;45mNone\u001b[0m, \u001b[38;5;34m181\u001b[0m, \u001b[38;5;34m128\u001b[0m)  │          \u001b[38;5;34m0\u001b[0m │ trans_enc4_mha[\u001b[38;5;34m1\u001b[0m… │\n",
       "│ (\u001b[38;5;33mDropout\u001b[0m)           │                   │            │                   │\n",
       "├─────────────────────┼───────────────────┼────────────┼───────────────────┤\n",
       "│ add_6 (\u001b[38;5;33mAdd\u001b[0m)         │ (\u001b[38;5;45mNone\u001b[0m, \u001b[38;5;34m181\u001b[0m, \u001b[38;5;34m128\u001b[0m)  │          \u001b[38;5;34m0\u001b[0m │ add_5[\u001b[38;5;34m1\u001b[0m][\u001b[38;5;34m0\u001b[0m],      │\n",
       "│                     │                   │            │ trans_enc4_attn_… │\n",
       "├─────────────────────┼───────────────────┼────────────┼───────────────────┤\n",
       "│ trans_enc4_ffn_den… │ (\u001b[38;5;45mNone\u001b[0m, \u001b[38;5;34m181\u001b[0m, \u001b[38;5;34m512\u001b[0m)  │     \u001b[38;5;34m66,048\u001b[0m │ add_6[\u001b[38;5;34m1\u001b[0m][\u001b[38;5;34m0\u001b[0m]       │\n",
       "│ (\u001b[38;5;33mDense\u001b[0m)             │                   │            │                   │\n",
       "├─────────────────────┼───────────────────┼────────────┼───────────────────┤\n",
       "│ trans_enc4_ffn_den… │ (\u001b[38;5;45mNone\u001b[0m, \u001b[38;5;34m181\u001b[0m, \u001b[38;5;34m128\u001b[0m)  │     \u001b[38;5;34m65,664\u001b[0m │ trans_enc4_ffn_d… │\n",
       "│ (\u001b[38;5;33mDense\u001b[0m)             │                   │            │                   │\n",
       "├─────────────────────┼───────────────────┼────────────┼───────────────────┤\n",
       "│ trans_enc4_ffn_dro… │ (\u001b[38;5;45mNone\u001b[0m, \u001b[38;5;34m181\u001b[0m, \u001b[38;5;34m128\u001b[0m)  │          \u001b[38;5;34m0\u001b[0m │ trans_enc4_ffn_d… │\n",
       "│ (\u001b[38;5;33mDropout\u001b[0m)           │                   │            │                   │\n",
       "├─────────────────────┼───────────────────┼────────────┼───────────────────┤\n",
       "│ add_7 (\u001b[38;5;33mAdd\u001b[0m)         │ (\u001b[38;5;45mNone\u001b[0m, \u001b[38;5;34m181\u001b[0m, \u001b[38;5;34m128\u001b[0m)  │          \u001b[38;5;34m0\u001b[0m │ add_6[\u001b[38;5;34m1\u001b[0m][\u001b[38;5;34m0\u001b[0m],      │\n",
       "│                     │                   │            │ trans_enc4_ffn_d… │\n",
       "├─────────────────────┼───────────────────┼────────────┼───────────────────┤\n",
       "│ trans_enc5_mha      │ (\u001b[38;5;45mNone\u001b[0m, \u001b[38;5;34m181\u001b[0m, \u001b[38;5;34m128\u001b[0m)  │  \u001b[38;5;34m4,219,008\u001b[0m │ add_7[\u001b[38;5;34m1\u001b[0m][\u001b[38;5;34m0\u001b[0m],      │\n",
       "│ (\u001b[38;5;33mMultiHeadAttentio…\u001b[0m │                   │            │ add_7[\u001b[38;5;34m1\u001b[0m][\u001b[38;5;34m0\u001b[0m]       │\n",
       "├─────────────────────┼───────────────────┼────────────┼───────────────────┤\n",
       "│ trans_enc5_attn_dr… │ (\u001b[38;5;45mNone\u001b[0m, \u001b[38;5;34m181\u001b[0m, \u001b[38;5;34m128\u001b[0m)  │          \u001b[38;5;34m0\u001b[0m │ trans_enc5_mha[\u001b[38;5;34m1\u001b[0m… │\n",
       "│ (\u001b[38;5;33mDropout\u001b[0m)           │                   │            │                   │\n",
       "├─────────────────────┼───────────────────┼────────────┼───────────────────┤\n",
       "│ add_8 (\u001b[38;5;33mAdd\u001b[0m)         │ (\u001b[38;5;45mNone\u001b[0m, \u001b[38;5;34m181\u001b[0m, \u001b[38;5;34m128\u001b[0m)  │          \u001b[38;5;34m0\u001b[0m │ add_7[\u001b[38;5;34m1\u001b[0m][\u001b[38;5;34m0\u001b[0m],      │\n",
       "│                     │                   │            │ trans_enc5_attn_… │\n",
       "├─────────────────────┼───────────────────┼────────────┼───────────────────┤\n",
       "│ trans_enc5_ffn_den… │ (\u001b[38;5;45mNone\u001b[0m, \u001b[38;5;34m181\u001b[0m, \u001b[38;5;34m512\u001b[0m)  │     \u001b[38;5;34m66,048\u001b[0m │ add_8[\u001b[38;5;34m1\u001b[0m][\u001b[38;5;34m0\u001b[0m]       │\n",
       "│ (\u001b[38;5;33mDense\u001b[0m)             │                   │            │                   │\n",
       "├─────────────────────┼───────────────────┼────────────┼───────────────────┤\n",
       "│ trans_enc5_ffn_den… │ (\u001b[38;5;45mNone\u001b[0m, \u001b[38;5;34m181\u001b[0m, \u001b[38;5;34m128\u001b[0m)  │     \u001b[38;5;34m65,664\u001b[0m │ trans_enc5_ffn_d… │\n",
       "│ (\u001b[38;5;33mDense\u001b[0m)             │                   │            │                   │\n",
       "├─────────────────────┼───────────────────┼────────────┼───────────────────┤\n",
       "│ trans_enc5_ffn_dro… │ (\u001b[38;5;45mNone\u001b[0m, \u001b[38;5;34m181\u001b[0m, \u001b[38;5;34m128\u001b[0m)  │          \u001b[38;5;34m0\u001b[0m │ trans_enc5_ffn_d… │\n",
       "│ (\u001b[38;5;33mDropout\u001b[0m)           │                   │            │                   │\n",
       "├─────────────────────┼───────────────────┼────────────┼───────────────────┤\n",
       "│ add_9 (\u001b[38;5;33mAdd\u001b[0m)         │ (\u001b[38;5;45mNone\u001b[0m, \u001b[38;5;34m181\u001b[0m, \u001b[38;5;34m128\u001b[0m)  │          \u001b[38;5;34m0\u001b[0m │ add_8[\u001b[38;5;34m1\u001b[0m][\u001b[38;5;34m0\u001b[0m],      │\n",
       "│                     │                   │            │ trans_enc5_ffn_d… │\n",
       "├─────────────────────┼───────────────────┼────────────┼───────────────────┤\n",
       "│ trans_enc6_mha      │ (\u001b[38;5;45mNone\u001b[0m, \u001b[38;5;34m181\u001b[0m, \u001b[38;5;34m128\u001b[0m)  │  \u001b[38;5;34m4,219,008\u001b[0m │ add_9[\u001b[38;5;34m1\u001b[0m][\u001b[38;5;34m0\u001b[0m],      │\n",
       "│ (\u001b[38;5;33mMultiHeadAttentio…\u001b[0m │                   │            │ add_9[\u001b[38;5;34m1\u001b[0m][\u001b[38;5;34m0\u001b[0m]       │\n",
       "├─────────────────────┼───────────────────┼────────────┼───────────────────┤\n",
       "│ trans_enc6_attn_dr… │ (\u001b[38;5;45mNone\u001b[0m, \u001b[38;5;34m181\u001b[0m, \u001b[38;5;34m128\u001b[0m)  │          \u001b[38;5;34m0\u001b[0m │ trans_enc6_mha[\u001b[38;5;34m1\u001b[0m… │\n",
       "│ (\u001b[38;5;33mDropout\u001b[0m)           │                   │            │                   │\n",
       "├─────────────────────┼───────────────────┼────────────┼───────────────────┤\n",
       "│ add_10 (\u001b[38;5;33mAdd\u001b[0m)        │ (\u001b[38;5;45mNone\u001b[0m, \u001b[38;5;34m181\u001b[0m, \u001b[38;5;34m128\u001b[0m)  │          \u001b[38;5;34m0\u001b[0m │ add_9[\u001b[38;5;34m1\u001b[0m][\u001b[38;5;34m0\u001b[0m],      │\n",
       "│                     │                   │            │ trans_enc6_attn_… │\n",
       "├─────────────────────┼───────────────────┼────────────┼───────────────────┤\n",
       "│ trans_enc6_ffn_den… │ (\u001b[38;5;45mNone\u001b[0m, \u001b[38;5;34m181\u001b[0m, \u001b[38;5;34m512\u001b[0m)  │     \u001b[38;5;34m66,048\u001b[0m │ add_10[\u001b[38;5;34m1\u001b[0m][\u001b[38;5;34m0\u001b[0m]      │\n",
       "│ (\u001b[38;5;33mDense\u001b[0m)             │                   │            │                   │\n",
       "├─────────────────────┼───────────────────┼────────────┼───────────────────┤\n",
       "│ trans_enc6_ffn_den… │ (\u001b[38;5;45mNone\u001b[0m, \u001b[38;5;34m181\u001b[0m, \u001b[38;5;34m128\u001b[0m)  │     \u001b[38;5;34m65,664\u001b[0m │ trans_enc6_ffn_d… │\n",
       "│ (\u001b[38;5;33mDense\u001b[0m)             │                   │            │                   │\n",
       "├─────────────────────┼───────────────────┼────────────┼───────────────────┤\n",
       "│ trans_enc6_ffn_dro… │ (\u001b[38;5;45mNone\u001b[0m, \u001b[38;5;34m181\u001b[0m, \u001b[38;5;34m128\u001b[0m)  │          \u001b[38;5;34m0\u001b[0m │ trans_enc6_ffn_d… │\n",
       "│ (\u001b[38;5;33mDropout\u001b[0m)           │                   │            │                   │\n",
       "├─────────────────────┼───────────────────┼────────────┼───────────────────┤\n",
       "│ add_11 (\u001b[38;5;33mAdd\u001b[0m)        │ (\u001b[38;5;45mNone\u001b[0m, \u001b[38;5;34m181\u001b[0m, \u001b[38;5;34m128\u001b[0m)  │          \u001b[38;5;34m0\u001b[0m │ add_10[\u001b[38;5;34m1\u001b[0m][\u001b[38;5;34m0\u001b[0m],     │\n",
       "│                     │                   │            │ trans_enc6_ffn_d… │\n",
       "├─────────────────────┼───────────────────┼────────────┼───────────────────┤\n",
       "│ trans_enc7_mha      │ (\u001b[38;5;45mNone\u001b[0m, \u001b[38;5;34m181\u001b[0m, \u001b[38;5;34m128\u001b[0m)  │  \u001b[38;5;34m4,219,008\u001b[0m │ add_11[\u001b[38;5;34m1\u001b[0m][\u001b[38;5;34m0\u001b[0m],     │\n",
       "│ (\u001b[38;5;33mMultiHeadAttentio…\u001b[0m │                   │            │ add_11[\u001b[38;5;34m1\u001b[0m][\u001b[38;5;34m0\u001b[0m]      │\n",
       "├─────────────────────┼───────────────────┼────────────┼───────────────────┤\n",
       "│ trans_enc7_attn_dr… │ (\u001b[38;5;45mNone\u001b[0m, \u001b[38;5;34m181\u001b[0m, \u001b[38;5;34m128\u001b[0m)  │          \u001b[38;5;34m0\u001b[0m │ trans_enc7_mha[\u001b[38;5;34m1\u001b[0m… │\n",
       "│ (\u001b[38;5;33mDropout\u001b[0m)           │                   │            │                   │\n",
       "├─────────────────────┼───────────────────┼────────────┼───────────────────┤\n",
       "│ add_12 (\u001b[38;5;33mAdd\u001b[0m)        │ (\u001b[38;5;45mNone\u001b[0m, \u001b[38;5;34m181\u001b[0m, \u001b[38;5;34m128\u001b[0m)  │          \u001b[38;5;34m0\u001b[0m │ add_11[\u001b[38;5;34m1\u001b[0m][\u001b[38;5;34m0\u001b[0m],     │\n",
       "│                     │                   │            │ trans_enc7_attn_… │\n",
       "├─────────────────────┼───────────────────┼────────────┼───────────────────┤\n",
       "│ trans_enc7_ffn_den… │ (\u001b[38;5;45mNone\u001b[0m, \u001b[38;5;34m181\u001b[0m, \u001b[38;5;34m512\u001b[0m)  │     \u001b[38;5;34m66,048\u001b[0m │ add_12[\u001b[38;5;34m1\u001b[0m][\u001b[38;5;34m0\u001b[0m]      │\n",
       "│ (\u001b[38;5;33mDense\u001b[0m)             │                   │            │                   │\n",
       "├─────────────────────┼───────────────────┼────────────┼───────────────────┤\n",
       "│ trans_enc7_ffn_den… │ (\u001b[38;5;45mNone\u001b[0m, \u001b[38;5;34m181\u001b[0m, \u001b[38;5;34m128\u001b[0m)  │     \u001b[38;5;34m65,664\u001b[0m │ trans_enc7_ffn_d… │\n",
       "│ (\u001b[38;5;33mDense\u001b[0m)             │                   │            │                   │\n",
       "├─────────────────────┼───────────────────┼────────────┼───────────────────┤\n",
       "│ trans_enc7_ffn_dro… │ (\u001b[38;5;45mNone\u001b[0m, \u001b[38;5;34m181\u001b[0m, \u001b[38;5;34m128\u001b[0m)  │          \u001b[38;5;34m0\u001b[0m │ trans_enc7_ffn_d… │\n",
       "│ (\u001b[38;5;33mDropout\u001b[0m)           │                   │            │                   │\n",
       "├─────────────────────┼───────────────────┼────────────┼───────────────────┤\n",
       "│ add_13 (\u001b[38;5;33mAdd\u001b[0m)        │ (\u001b[38;5;45mNone\u001b[0m, \u001b[38;5;34m181\u001b[0m, \u001b[38;5;34m128\u001b[0m)  │          \u001b[38;5;34m0\u001b[0m │ add_12[\u001b[38;5;34m1\u001b[0m][\u001b[38;5;34m0\u001b[0m],     │\n",
       "│                     │                   │            │ trans_enc7_ffn_d… │\n",
       "├─────────────────────┼───────────────────┼────────────┼───────────────────┤\n",
       "│ extract_cls         │ (\u001b[38;5;45mNone\u001b[0m, \u001b[38;5;34m128\u001b[0m)       │          \u001b[38;5;34m0\u001b[0m │ add_13[\u001b[38;5;34m1\u001b[0m][\u001b[38;5;34m0\u001b[0m]      │\n",
       "│ (\u001b[38;5;33mLambda\u001b[0m)            │                   │            │                   │\n",
       "├─────────────────────┼───────────────────┼────────────┼───────────────────┤\n",
       "│ dense1 (\u001b[38;5;33mDense\u001b[0m)      │ (\u001b[38;5;45mNone\u001b[0m, \u001b[38;5;34m4096\u001b[0m)      │    \u001b[38;5;34m528,384\u001b[0m │ extract_cls[\u001b[38;5;34m1\u001b[0m][\u001b[38;5;34m0\u001b[0m] │\n",
       "├─────────────────────┼───────────────────┼────────────┼───────────────────┤\n",
       "│ leaky_re_lu_4       │ (\u001b[38;5;45mNone\u001b[0m, \u001b[38;5;34m4096\u001b[0m)      │          \u001b[38;5;34m0\u001b[0m │ dense1[\u001b[38;5;34m1\u001b[0m][\u001b[38;5;34m0\u001b[0m]      │\n",
       "│ (\u001b[38;5;33mLeakyReLU\u001b[0m)         │                   │            │                   │\n",
       "├─────────────────────┼───────────────────┼────────────┼───────────────────┤\n",
       "│ dropout_7 (\u001b[38;5;33mDropout\u001b[0m) │ (\u001b[38;5;45mNone\u001b[0m, \u001b[38;5;34m4096\u001b[0m)      │          \u001b[38;5;34m0\u001b[0m │ leaky_re_lu_4[\u001b[38;5;34m1\u001b[0m]… │\n",
       "├─────────────────────┼───────────────────┼────────────┼───────────────────┤\n",
       "│ dense2 (\u001b[38;5;33mDense\u001b[0m)      │ (\u001b[38;5;45mNone\u001b[0m, \u001b[38;5;34m4096\u001b[0m)      │ \u001b[38;5;34m16,781,312\u001b[0m │ dropout_7[\u001b[38;5;34m1\u001b[0m][\u001b[38;5;34m0\u001b[0m]   │\n",
       "├─────────────────────┼───────────────────┼────────────┼───────────────────┤\n",
       "│ leaky_re_lu_5       │ (\u001b[38;5;45mNone\u001b[0m, \u001b[38;5;34m4096\u001b[0m)      │          \u001b[38;5;34m0\u001b[0m │ dense2[\u001b[38;5;34m1\u001b[0m][\u001b[38;5;34m0\u001b[0m]      │\n",
       "│ (\u001b[38;5;33mLeakyReLU\u001b[0m)         │                   │            │                   │\n",
       "├─────────────────────┼───────────────────┼────────────┼───────────────────┤\n",
       "│ dropout_8 (\u001b[38;5;33mDropout\u001b[0m) │ (\u001b[38;5;45mNone\u001b[0m, \u001b[38;5;34m4096\u001b[0m)      │          \u001b[38;5;34m0\u001b[0m │ leaky_re_lu_5[\u001b[38;5;34m1\u001b[0m]… │\n",
       "├─────────────────────┼───────────────────┼────────────┼───────────────────┤\n",
       "│ dense3 (\u001b[38;5;33mDense\u001b[0m)      │ (\u001b[38;5;45mNone\u001b[0m, \u001b[38;5;34m4096\u001b[0m)      │ \u001b[38;5;34m16,781,312\u001b[0m │ dropout_8[\u001b[38;5;34m1\u001b[0m][\u001b[38;5;34m0\u001b[0m]   │\n",
       "├─────────────────────┼───────────────────┼────────────┼───────────────────┤\n",
       "│ leaky_re_lu_6       │ (\u001b[38;5;45mNone\u001b[0m, \u001b[38;5;34m4096\u001b[0m)      │          \u001b[38;5;34m0\u001b[0m │ dense3[\u001b[38;5;34m1\u001b[0m][\u001b[38;5;34m0\u001b[0m]      │\n",
       "│ (\u001b[38;5;33mLeakyReLU\u001b[0m)         │                   │            │                   │\n",
       "├─────────────────────┼───────────────────┼────────────┼───────────────────┤\n",
       "│ dropout_9 (\u001b[38;5;33mDropout\u001b[0m) │ (\u001b[38;5;45mNone\u001b[0m, \u001b[38;5;34m4096\u001b[0m)      │          \u001b[38;5;34m0\u001b[0m │ leaky_re_lu_6[\u001b[38;5;34m1\u001b[0m]… │\n",
       "├─────────────────────┼───────────────────┼────────────┼───────────────────┤\n",
       "│ dense4 (\u001b[38;5;33mDense\u001b[0m)      │ (\u001b[38;5;45mNone\u001b[0m, \u001b[38;5;34m4096\u001b[0m)      │ \u001b[38;5;34m16,781,312\u001b[0m │ dropout_9[\u001b[38;5;34m1\u001b[0m][\u001b[38;5;34m0\u001b[0m]   │\n",
       "├─────────────────────┼───────────────────┼────────────┼───────────────────┤\n",
       "│ leaky_re_lu_7       │ (\u001b[38;5;45mNone\u001b[0m, \u001b[38;5;34m4096\u001b[0m)      │          \u001b[38;5;34m0\u001b[0m │ dense4[\u001b[38;5;34m1\u001b[0m][\u001b[38;5;34m0\u001b[0m]      │\n",
       "│ (\u001b[38;5;33mLeakyReLU\u001b[0m)         │                   │            │                   │\n",
       "├─────────────────────┼───────────────────┼────────────┼───────────────────┤\n",
       "│ dropout_10          │ (\u001b[38;5;45mNone\u001b[0m, \u001b[38;5;34m4096\u001b[0m)      │          \u001b[38;5;34m0\u001b[0m │ leaky_re_lu_7[\u001b[38;5;34m1\u001b[0m]… │\n",
       "│ (\u001b[38;5;33mDropout\u001b[0m)           │                   │            │                   │\n",
       "├─────────────────────┼───────────────────┼────────────┼───────────────────┤\n",
       "│ pre_softmax_tanh    │ (\u001b[38;5;45mNone\u001b[0m, \u001b[38;5;34m1024\u001b[0m)      │  \u001b[38;5;34m4,195,328\u001b[0m │ dropout_10[\u001b[38;5;34m1\u001b[0m][\u001b[38;5;34m0\u001b[0m]  │\n",
       "│ (\u001b[38;5;33mDense\u001b[0m)             │                   │            │                   │\n",
       "├─────────────────────┼───────────────────┼────────────┼───────────────────┤\n",
       "│ minutes             │ (\u001b[38;5;45mNone\u001b[0m, \u001b[38;5;34m1\u001b[0m)         │          \u001b[38;5;34m0\u001b[0m │ -                 │\n",
       "│ (\u001b[38;5;33mInputLayer\u001b[0m)        │                   │            │                   │\n",
       "├─────────────────────┼───────────────────┼────────────┼───────────────────┤\n",
       "│ output (\u001b[38;5;33mDense\u001b[0m)      │ (\u001b[38;5;45mNone\u001b[0m, \u001b[38;5;34m3\u001b[0m)         │      \u001b[38;5;34m3,075\u001b[0m │ pre_softmax_tanh… │\n",
       "└─────────────────────┴───────────────────┴────────────┴───────────────────┘\n"
      ]
     },
     "metadata": {},
     "output_type": "display_data"
    },
    {
     "data": {
      "text/html": [
       "<pre style=\"white-space:pre;overflow-x:auto;line-height:normal;font-family:Menlo,'DejaVu Sans Mono',consolas,'Courier New',monospace\"><span style=\"font-weight: bold\"> Total params: </span><span style=\"color: #00af00; text-decoration-color: #00af00\">107,177,091</span> (408.85 MB)\n",
       "</pre>\n"
      ],
      "text/plain": [
       "\u001b[1m Total params: \u001b[0m\u001b[38;5;34m107,177,091\u001b[0m (408.85 MB)\n"
      ]
     },
     "metadata": {},
     "output_type": "display_data"
    },
    {
     "data": {
      "text/html": [
       "<pre style=\"white-space:pre;overflow-x:auto;line-height:normal;font-family:Menlo,'DejaVu Sans Mono',consolas,'Courier New',monospace\"><span style=\"font-weight: bold\"> Trainable params: </span><span style=\"color: #00af00; text-decoration-color: #00af00\">107,177,091</span> (408.85 MB)\n",
       "</pre>\n"
      ],
      "text/plain": [
       "\u001b[1m Trainable params: \u001b[0m\u001b[38;5;34m107,177,091\u001b[0m (408.85 MB)\n"
      ]
     },
     "metadata": {},
     "output_type": "display_data"
    },
    {
     "data": {
      "text/html": [
       "<pre style=\"white-space:pre;overflow-x:auto;line-height:normal;font-family:Menlo,'DejaVu Sans Mono',consolas,'Courier New',monospace\"><span style=\"font-weight: bold\"> Non-trainable params: </span><span style=\"color: #00af00; text-decoration-color: #00af00\">0</span> (0.00 B)\n",
       "</pre>\n"
      ],
      "text/plain": [
       "\u001b[1m Non-trainable params: \u001b[0m\u001b[38;5;34m0\u001b[0m (0.00 B)\n"
      ]
     },
     "metadata": {},
     "output_type": "display_data"
    }
   ],
   "source": [
    "\n",
    "lr = 0.00001\n",
    "\n",
    "if tpu_mode:\n",
    "    with strategy.scope():\n",
    "        model = make_model()\n",
    "        optimizer = tf.keras.optimizers.Adam(learning_rate=lr, clipnorm=1.0)\n",
    "else:\n",
    "    model = make_model()\n",
    "    optimizer = tf.keras.optimizers.Adam(learning_rate=lr, clipnorm=1.0)\n",
    "    \n",
    "model.summary()\n"
   ]
  },
  {
   "cell_type": "code",
   "execution_count": 7,
   "id": "31407239",
   "metadata": {
    "execution": {
     "iopub.execute_input": "2025-04-14T11:38:18.015999Z",
     "iopub.status.busy": "2025-04-14T11:38:18.015752Z",
     "iopub.status.idle": "2025-04-14T11:38:18.030600Z",
     "shell.execute_reply": "2025-04-14T11:38:18.026185Z"
    },
    "papermill": {
     "duration": 0.029966,
     "end_time": "2025-04-14T11:38:18.033025",
     "exception": false,
     "start_time": "2025-04-14T11:38:18.003059",
     "status": "completed"
    },
    "tags": []
   },
   "outputs": [
    {
     "name": "stdout",
     "output_type": "stream",
     "text": [
      "You must install pydot (`pip install pydot`) for `plot_model` to work.\n"
     ]
    }
   ],
   "source": [
    "from tensorflow.keras.utils import plot_model\n",
    "plot_model(model, to_file='model_plot.png', show_shapes=True, show_layer_names=True)"
   ]
  },
  {
   "cell_type": "code",
   "execution_count": 8,
   "id": "1a4b3901",
   "metadata": {
    "execution": {
     "iopub.execute_input": "2025-04-14T11:38:18.055427Z",
     "iopub.status.busy": "2025-04-14T11:38:18.055217Z",
     "iopub.status.idle": "2025-04-14T11:38:22.832596Z",
     "shell.execute_reply": "2025-04-14T11:38:22.829058Z"
    },
    "papermill": {
     "duration": 4.793326,
     "end_time": "2025-04-14T11:38:22.836008",
     "exception": false,
     "start_time": "2025-04-14T11:38:18.042682",
     "status": "completed"
    },
    "tags": []
   },
   "outputs": [
    {
     "name": "stdout",
     "output_type": "stream",
     "text": [
      "weights loaded!\n"
     ]
    }
   ],
   "source": [
    "model.load_weights(\"/kaggle/input/nn-train-v7/model.weights.h5\")\n",
    "print(\"weights loaded!\")"
   ]
  },
  {
   "cell_type": "code",
   "execution_count": 9,
   "id": "eedd51f5",
   "metadata": {
    "execution": {
     "iopub.execute_input": "2025-04-14T11:38:22.860022Z",
     "iopub.status.busy": "2025-04-14T11:38:22.859740Z",
     "iopub.status.idle": "2025-04-14T11:38:22.881455Z",
     "shell.execute_reply": "2025-04-14T11:38:22.877197Z"
    },
    "papermill": {
     "duration": 0.037474,
     "end_time": "2025-04-14T11:38:22.883820",
     "exception": false,
     "start_time": "2025-04-14T11:38:22.846346",
     "status": "completed"
    },
    "tags": []
   },
   "outputs": [
    {
     "name": "stdout",
     "output_type": "stream",
     "text": [
      "weights: tf.Tensor([3.2331338 3.4262457 0.4168685], shape=(3,), dtype=float32)\n"
     ]
    }
   ],
   "source": [
    "loss_fn = tf.keras.losses.CategoricalCrossentropy(from_logits=False, reduction=tf.keras.losses.Reduction.NONE)\n",
    "\n",
    " \n",
    "class_counts = np.array([c0, c1, c2])\n",
    "class_weights = class_counts.sum() / (len(class_counts) * class_counts)\n",
    "class_weights_tensor = tf.constant(class_weights, dtype=tf.float32)\n",
    "print(\"weights:\", class_weights_tensor)\n",
    "\n",
    "\n",
    "tf.function(jit_compile=True) # my gpu does not support this\n",
    "def tstep(data):\n",
    "    x, y = data\n",
    "\n",
    "    with tf.GradientTape() as t:\n",
    "        model_return = model(x, training=True)\n",
    "        #print(y, model_return)\n",
    "        loss = loss_fn(y, model_return)\n",
    "        #print(loss)\n",
    "        \n",
    "\n",
    "        # Apply class weights\n",
    "        sample_weights = tf.reduce_sum(y * class_weights_tensor, axis=-1)  # Select the correct weight for each sample\n",
    "        loss = loss * sample_weights  # Multiply loss by sample weights\n",
    "\n",
    "        loss = tf.reduce_mean(loss)\n",
    "\n",
    "        \n",
    "        #if loss > 10:\n",
    "        #    loss *= 0.1  # Scale down the loss if it's greater than 10, probably data point error\n",
    "\n",
    "    predicted_class = tf.argmax(model_return, axis=-1)\n",
    "    true_class = tf.argmax(y, axis=-1)\n",
    "    accuracy = tf.reduce_mean(tf.cast(tf.equal(predicted_class, true_class), tf.float32))\n",
    "            \n",
    "    \n",
    "    gradient = t.gradient(loss, model.trainable_variables)\n",
    "    optimizer.apply_gradients(zip(gradient, model.trainable_variables))\n",
    "\n",
    "    return loss, accuracy\n",
    "\n",
    "\n",
    "batch_size = 64\n",
    "\n",
    "def get_data(_):\n",
    "    global train_data\n",
    "\n",
    "    while len(train_data) < 10000:\n",
    "        if not data_queue.empty():\n",
    "            new_data = data_queue.get(timeout=1)  # wait up to 1 second for data\n",
    "            train_data.extend(new_data)\n",
    "        else:\n",
    "            # If no new data is available, break out of the loop.\n",
    "            print(\"waiting for data....\")\n",
    "            time.sleep(1)\n",
    "            continue\n",
    "    \n",
    "    # Pop a batch of data from the front.\n",
    "    train_sample = train_data[:batch_size]\n",
    "    train_data = train_data[batch_size:]\n",
    "\n",
    "    # Extract multiple input features\n",
    "    states = [x[0] for x in train_sample]  # Extract input features (list of lists)\n",
    "    states_array = [\n",
    "        np.array([sample[i] for sample in states], dtype=\"float32\") for i in range(len(states[0]))\n",
    "    ]  # Convert each input feature to an array\n",
    "\n",
    "    # Convert to TensorFlow tensors\n",
    "    states_tensor = [tf.convert_to_tensor(arr) for arr in states_array]\n",
    "\n",
    "    # Extract targets and convert to tensor\n",
    "    targets = []\n",
    "    for x in train_sample:\n",
    "      v = x[1]\n",
    "      if v == 1:\n",
    "        targets.append([0,1,0])\n",
    "      elif v == -1:\n",
    "        targets.append([1,0,0])\n",
    "      else:\n",
    "        targets.append([0,0,1])\n",
    "    \n",
    "    targets_tensor = tf.convert_to_tensor(np.array(targets, dtype=\"float32\"))\n",
    "\n",
    "    return states_tensor, targets_tensor  # Return tuple (list of tensors, labels tensor)\n",
    "\n",
    "\n",
    "\n",
    "\n",
    "\n",
    "train_index = 0\n",
    "def get_data_2(_):\n",
    "    global train_index\n",
    "    train_sample = [train_data[i] for i in range(train_index, train_index + batch_size)]\n",
    "    train_index += batch_size\n",
    "    if train_index + batch_size >= len(train_data):\n",
    "        train_index = 0\n",
    "        random.shuffle(train_data)\n",
    "\n",
    "    # Extract multiple input features\n",
    "    states = [x[0] for x in train_sample]  # Extract input features (list of lists)\n",
    "    states_array = [\n",
    "        np.array([sample[i] for sample in states], dtype=\"float32\") for i in range(len(states[0]))\n",
    "    ]  # Convert each input feature to an array\n",
    "\n",
    "    # Convert to TensorFlow tensors\n",
    "    states_tensor = [tf.convert_to_tensor(arr) for arr in states_array]\n",
    "\n",
    "    # Extract targets and convert to tensor\n",
    "    targets = []\n",
    "    for x in train_sample:\n",
    "      v = x[1]\n",
    "      if v == 1:\n",
    "        targets.append([0,1,0])\n",
    "      elif v == -1:\n",
    "        targets.append([1,0,0])\n",
    "      else:\n",
    "        targets.append([0,0,1])\n",
    "    targets_tensor = tf.convert_to_tensor(np.array(targets, dtype=\"float32\"))\n",
    "\n",
    "    return states_tensor, targets_tensor  # Return tuple (list of tensors, labels tensor)\n"
   ]
  },
  {
   "cell_type": "code",
   "execution_count": 10,
   "id": "fcba60a0",
   "metadata": {
    "execution": {
     "iopub.execute_input": "2025-04-14T11:38:22.907281Z",
     "iopub.status.busy": "2025-04-14T11:38:22.907065Z",
     "iopub.status.idle": "2025-04-14T19:59:22.128588Z",
     "shell.execute_reply": "2025-04-14T19:59:22.123498Z"
    },
    "papermill": {
     "duration": 30059.237161,
     "end_time": "2025-04-14T19:59:22.130955",
     "exception": false,
     "start_time": "2025-04-14T11:38:22.893794",
     "status": "completed"
    },
    "tags": []
   },
   "outputs": [
    {
     "data": {
      "image/png": "[encoded data removed]",
      "text/plain": [
       "<Figure size 1500x500 with 2 Axes>"
      ]
     },
     "metadata": {},
     "output_type": "display_data"
    },
    {
     "name": "stdout",
     "output_type": "stream",
     "text": [
      "71 0.86400294 0.5439063\n"
     ]
    }
   ],
   "source": [
    "@tf.function(reduce_retracing=True)\n",
    "def run(data):\n",
    "    return strategy.reduce(tf.distribute.ReduceOp.MEAN, strategy.run(tstep, args = (data,)), axis = None)\n",
    "\n",
    "import IPython\n",
    "\n",
    "loss_lt = []\n",
    "acc_lt = []\n",
    "\n",
    "for n in range(1000):\n",
    "    losses_st = []\n",
    "    acc_st = []\n",
    "    #for _ in tqdm(range(1000)):\n",
    "    for _ in range(1000):\n",
    "        if tpu_mode:\n",
    "            #distributed_data = (strategy.experimental_distribute_values_from_function(get_data))\n",
    "            distributed_data = (strategy.experimental_distribute_values_from_function(get_data_2))\n",
    "            loss, acc = run(distributed_data)\n",
    "        else:\n",
    "            data = get_data(None)\n",
    "            loss, acc = tstep(data)\n",
    "        losses_st.append(loss)\n",
    "        acc_st.append(acc)\n",
    "    \n",
    "    loss_lt.append(np.mean(losses_st))\n",
    "    acc_lt.append(np.mean(acc_st))\n",
    "\n",
    "    \n",
    "    IPython.display.clear_output()\n",
    "    fig, (ax1, ax2) = plt.subplots(1, 2, figsize=(15, 5))\n",
    "    \n",
    "    # Plot Loss\n",
    "    ax1.plot(loss_lt, label=\"Loss\", color=\"red\")\n",
    "    ax1.set_title(\"Loss\")\n",
    "    ax1.set_xlabel(\"Epochs\")\n",
    "    ax1.set_ylabel(\"Loss\")\n",
    "    ax1.legend()\n",
    "\n",
    "    # Plot Accuracy\n",
    "    ax2.plot(acc_lt, label=\"Accuracy\", color=\"blue\")\n",
    "    ax2.set_title(\"Accuracy\")\n",
    "    ax2.set_xlabel(\"Epochs\")\n",
    "    ax2.set_ylabel(\"Accuracy\")\n",
    "    ax2.legend()\n",
    "\n",
    "    plt.show()\n",
    "    #print(loss_lt, acc_lt)\n",
    "    print(n, loss_lt[-1], acc_lt[-1])\n",
    "\n",
    "    if time.time() - start_time > 60*60*8.5:\n",
    "        break\n"
   ]
  },
  {
   "cell_type": "code",
   "execution_count": 11,
   "id": "4320039b",
   "metadata": {
    "execution": {
     "iopub.execute_input": "2025-04-14T19:59:22.157498Z",
     "iopub.status.busy": "2025-04-14T19:59:22.157244Z",
     "iopub.status.idle": "2025-04-14T19:59:23.453011Z",
     "shell.execute_reply": "2025-04-14T19:59:23.447684Z"
    },
    "papermill": {
     "duration": 1.314139,
     "end_time": "2025-04-14T19:59:23.456746",
     "exception": false,
     "start_time": "2025-04-14T19:59:22.142607",
     "status": "completed"
    },
    "tags": []
   },
   "outputs": [],
   "source": [
    "model.save_weights(\"model.weights.h5\")"
   ]
  },
  {
   "cell_type": "code",
   "execution_count": null,
   "id": "97244211",
   "metadata": {
    "papermill": {
     "duration": 0.011044,
     "end_time": "2025-04-14T19:59:23.479813",
     "exception": false,
     "start_time": "2025-04-14T19:59:23.468769",
     "status": "completed"
    },
    "tags": []
   },
   "outputs": [],
   "source": []
  },
  {
   "cell_type": "code",
   "execution_count": null,
   "id": "3e03afd7",
   "metadata": {
    "papermill": {
     "duration": 0.010733,
     "end_time": "2025-04-14T19:59:23.501327",
     "exception": false,
     "start_time": "2025-04-14T19:59:23.490594",
     "status": "completed"
    },
    "tags": []
   },
   "outputs": [],
   "source": []
  },
  {
   "cell_type": "code",
   "execution_count": null,
   "id": "fcb2efbc",
   "metadata": {
    "papermill": {
     "duration": 0.011166,
     "end_time": "2025-04-14T19:59:23.523178",
     "exception": false,
     "start_time": "2025-04-14T19:59:23.512012",
     "status": "completed"
    },
    "tags": []
   },
   "outputs": [],
   "source": []
  }
 ],
 "metadata": {
  "kaggle": {
   "accelerator": "tpu1vmV38",
   "dataSources": [
    {
     "sourceId": 232666295,
     "sourceType": "kernelVersion"
    },
    {
     "sourceId": 232666414,
     "sourceType": "kernelVersion"
    },
    {
     "sourceId": 232666500,
     "sourceType": "kernelVersion"
    },
    {
     "sourceId": 232666558,
     "sourceType": "kernelVersion"
    },
    {
     "sourceId": 232670083,
     "sourceType": "kernelVersion"
    },
    {
     "sourceId": 233688798,
     "sourceType": "kernelVersion"
    }
   ],
   "isGpuEnabled": false,
   "isInternetEnabled": true,
   "language": "python",
   "sourceType": "notebook"
  },
  "kernelspec": {
   "display_name": "Python 3",
   "language": "python",
   "name": "python3"
  },
  "language_info": {
   "codemirror_mode": {
    "name": "ipython",
    "version": 3
   },
   "file_extension": ".py",
   "mimetype": "text/x-python",
   "name": "python",
   "nbconvert_exporter": "python",
   "pygments_lexer": "ipython3",
   "version": "3.10.16"
  },
  "papermill": {
   "default_parameters": {},
   "duration": 30807.280401,
   "end_time": "2025-04-14T19:59:34.530396",
   "environment_variables": {},
   "exception": null,
   "input_path": "__notebook__.ipynb",
   "output_path": "__notebook__.ipynb",
   "parameters": {},
   "start_time": "2025-04-14T11:26:07.249995",
   "version": "2.6.0"
  }
 },
 "nbformat": 4,
 "nbformat_minor": 5
}
