{
  "nbformat": 4,
  "nbformat_minor": 0,
  "metadata": {
    "colab": {
      "provenance": [],
      "gpuType": "T4",
      "mount_file_id": "1DYG7t9UDYLy13yfdMTN8jICoj-IBPYrL",
      "authorship_tag": "ABX9TyNnyVRAejUuPoK8aWZSKb+7",
      "include_colab_link": true
    },
    "kernelspec": {
      "name": "python3",
      "display_name": "Python 3"
    },
    "language_info": {
      "name": "python"
    },
    "accelerator": "GPU"
  },
  "cells": [
    {
      "cell_type": "markdown",
      "metadata": {
        "id": "view-in-github",
        "colab_type": "text"
      },
      "source": [
        "<a href=\"https://colab.research.google.com/github/dercodeKoenig/hft_dqn/blob/main/dqn_v3_colab.ipynb\" target=\"_parent\"><img src=\"https://colab.research.google.com/assets/colab-badge.svg\" alt=\"Open In Colab\"/></a>"
      ]
    },
    {
      "cell_type": "code",
      "execution_count": 1,
      "metadata": {
        "colab": {
          "base_uri": "https://localhost:8080/"
        },
        "id": "ryBHMWkFnubM",
        "outputId": "5d470891-314c-4d46-ffdc-ee8383ca721b"
      },
      "outputs": [
        {
          "output_type": "stream",
          "name": "stdout",
          "text": [
            "Cloning into 'hft_dqn'...\n",
            "remote: Enumerating objects: 199, done.\u001b[K\n",
            "remote: Counting objects: 100% (119/119), done.\u001b[K\n",
            "remote: Compressing objects: 100% (98/98), done.\u001b[K\n",
            "remote: Total 199 (delta 63), reused 60 (delta 20), pack-reused 80 (from 1)\u001b[K\n",
            "Receiving objects: 100% (199/199), 62.23 MiB | 15.01 MiB/s, done.\n",
            "Resolving deltas: 100% (96/96), done.\n"
          ]
        }
      ],
      "source": [
        "!git clone https://github.com/dercodeKoenig/hft_dqn"
      ]
    },
    {
      "cell_type": "code",
      "source": [
        "%cd hft_dqn"
      ],
      "metadata": {
        "colab": {
          "base_uri": "https://localhost:8080/"
        },
        "id": "lsqTr9F2n81c",
        "outputId": "c934ab57-ef15-45a4-e48d-cbca95e397df"
      },
      "execution_count": 2,
      "outputs": [
        {
          "output_type": "stream",
          "name": "stdout",
          "text": [
            "/content/hft_dqn\n"
          ]
        }
      ]
    },
    {
      "cell_type": "code",
      "source": [
        "!kaggle datasets download bpwqsdd/us-futures-1-minute-candlesticks\n",
        "!unzip us-futures-1-minute-candlesticks.zip"
      ],
      "metadata": {
        "colab": {
          "base_uri": "https://localhost:8080/"
        },
        "id": "fe4DxDKnn-50",
        "outputId": "38a60b80-e3df-4259-f0b6-ac5acc6121f0"
      },
      "execution_count": 3,
      "outputs": [
        {
          "output_type": "stream",
          "name": "stdout",
          "text": [
            "Dataset URL: https://www.kaggle.com/datasets/bpwqsdd/us-futures-1-minute-candlesticks\n",
            "License(s): unknown\n",
            "Downloading us-futures-1-minute-candlesticks.zip to /content/hft_dqn\n",
            " 90% 81.0M/89.7M [00:00<00:00, 141MB/s]\n",
            "100% 89.7M/89.7M [00:00<00:00, 137MB/s]\n",
            "Archive:  us-futures-1-minute-candlesticks.zip\n",
            "  inflating: ES_2                    \n",
            "  inflating: EURUSD_2                \n",
            "  inflating: GBPUSD_2                \n",
            "  inflating: NQ_2                    \n",
            "  inflating: YM_2                    \n"
          ]
        }
      ]
    },
    {
      "cell_type": "code",
      "source": [
        "from MultiTimeframeCandleManager import MultiTimeframeCandleManager\n",
        "from datetime import datetime, timedelta\n",
        "import time\n",
        "from collections import deque\n",
        "import numpy as np\n",
        "import copy\n",
        "import tensorflow as tf\n",
        "import random\n",
        "from save_and_load import *\n",
        "from Candle import Candle\n",
        "import matplotlib.pyplot as plt\n",
        "from tensorflow.keras import mixed_precision\n",
        "mixed_precision.set_global_policy('mixed_float16')\n",
        "\n",
        "start_time = time.time()"
      ],
      "metadata": {
        "id": "qPvKFw9OoACm"
      },
      "execution_count": 5,
      "outputs": []
    },
    {
      "cell_type": "code",
      "source": [
        "gamma = 0.995\n",
        "memory_len = 500000\n",
        "sarts_memory = deque(maxlen = memory_len)\n",
        "batch_size = 512\n",
        "e = 2\n",
        "\n",
        "min_memory_size = 10000\n",
        "\n",
        "num_actions = 3\n",
        "\n",
        "path = \"/content/drive/MyDrive/dqn_t1/\"\n",
        "\n",
        "ep_len = 1000\n",
        "\n",
        "m1 = np.eye(num_actions, dtype=\"float32\")\n",
        "num_model_inputs = 6"
      ],
      "metadata": {
        "id": "hBgZSxBCoB5j"
      },
      "execution_count": 14,
      "outputs": []
    },
    {
      "cell_type": "code",
      "source": [
        "\n",
        "chart_m15 = tf.keras.layers.Input(shape = (60,4))\n",
        "chart_m5 = tf.keras.layers.Input(shape = (60,4))\n",
        "chart_m1 = tf.keras.layers.Input(shape = (60,4))\n",
        "\n",
        "pdas = tf.keras.layers.Input(shape = (19+12*5,))\n",
        "\n",
        "current_position = tf.keras.layers.Input(shape = (3,))\n",
        "\n",
        "minutes = tf.keras.layers.Input(shape = (1,))\n",
        "minutes_embed = tf.keras.layers.Embedding(input_dim=60*24, output_dim=8)(minutes)\n",
        "minutes_embed_flat = tf.keras.layers.Flatten()(minutes_embed)\n",
        "\n",
        "f15 = tf.keras.layers.Flatten()(chart_m15)\n",
        "f5 = tf.keras.layers.Flatten()(chart_m5)\n",
        "f1 = tf.keras.layers.Flatten()(chart_m1)\n",
        "\n",
        "#c = tf.keras.layers.Concatenate()([f15, f5, f1, pdas, minutes_embed_flat, current_position, scaled_open_profit])\n",
        "c = tf.keras.layers.Concatenate()([f15, f5, f1, pdas, minutes_embed_flat, current_position])\n",
        "\n",
        "lrelu = tf.keras.layers.LeakyReLU(0.05)\n",
        "\n",
        "d = tf.keras.layers.Dense(1024*4)(c)\n",
        "d = lrelu(d)\n",
        "d = tf.keras.layers.Dense(1024*4)(d)\n",
        "d = lrelu(d)\n",
        "d = tf.keras.layers.Dense(1024*4)(d)\n",
        "d = lrelu(d)\n",
        "\n",
        "\n",
        "value = tf.keras.layers.Dense(1, activation=\"linear\")(d)\n",
        "advantage = tf.keras.layers.Dense(num_actions, activation=\"linear\")(d)\n",
        "\n",
        "q_values = tf.keras.layers.Lambda(\n",
        "lambda inputs: inputs[0] + (inputs[1] - tf.reduce_mean(inputs[1], axis=1, keepdims=True))\n",
        ")([value, advantage])\n",
        "\n",
        "outputs = tf.keras.layers.Activation('linear', dtype='float32')(q_values)\n",
        "\n",
        "model = tf.keras.Model(inputs = [chart_m15, chart_m5, chart_m1, pdas, minutes, current_position], outputs = outputs)\n",
        "target_model = tf.keras.Model(inputs = [chart_m15, chart_m5, chart_m1, pdas, minutes, current_position], outputs = outputs)\n",
        "\n",
        "optimizer = tf.keras.optimizers.Adam(learning_rate = 0.0000001)\n",
        "\n",
        "\n",
        "model.summary()"
      ],
      "metadata": {
        "colab": {
          "base_uri": "https://localhost:8080/",
          "height": 1000
        },
        "id": "hLLGh9NEoIAv",
        "outputId": "d4d519db-7709-43dd-839f-f0a4e21606db"
      },
      "execution_count": 8,
      "outputs": [
        {
          "output_type": "display_data",
          "data": {
            "text/plain": [
              "\u001b[1mModel: \"functional\"\u001b[0m\n"
            ],
            "text/html": [
              "<pre style=\"white-space:pre;overflow-x:auto;line-height:normal;font-family:Menlo,'DejaVu Sans Mono',consolas,'Courier New',monospace\"><span style=\"font-weight: bold\">Model: \"functional\"</span>\n",
              "</pre>\n"
            ]
          },
          "metadata": {}
        },
        {
          "output_type": "display_data",
          "data": {
            "text/plain": [
              "┏━━━━━━━━━━━━━━━━━━━━━━━━━━━┳━━━━━━━━━━━━━━━━━━━━━━━━┳━━━━━━━━━━━━━━━━┳━━━━━━━━━━━━━━━━━━━━━━━━┓\n",
              "┃\u001b[1m \u001b[0m\u001b[1mLayer (type)             \u001b[0m\u001b[1m \u001b[0m┃\u001b[1m \u001b[0m\u001b[1mOutput Shape          \u001b[0m\u001b[1m \u001b[0m┃\u001b[1m \u001b[0m\u001b[1m       Param #\u001b[0m\u001b[1m \u001b[0m┃\u001b[1m \u001b[0m\u001b[1mConnected to          \u001b[0m\u001b[1m \u001b[0m┃\n",
              "┡━━━━━━━━━━━━━━━━━━━━━━━━━━━╇━━━━━━━━━━━━━━━━━━━━━━━━╇━━━━━━━━━━━━━━━━╇━━━━━━━━━━━━━━━━━━━━━━━━┩\n",
              "│ input_layer (\u001b[38;5;33mInputLayer\u001b[0m)  │ (\u001b[38;5;45mNone\u001b[0m, \u001b[38;5;34m60\u001b[0m, \u001b[38;5;34m4\u001b[0m)          │              \u001b[38;5;34m0\u001b[0m │ -                      │\n",
              "├───────────────────────────┼────────────────────────┼────────────────┼────────────────────────┤\n",
              "│ input_layer_1             │ (\u001b[38;5;45mNone\u001b[0m, \u001b[38;5;34m60\u001b[0m, \u001b[38;5;34m4\u001b[0m)          │              \u001b[38;5;34m0\u001b[0m │ -                      │\n",
              "│ (\u001b[38;5;33mInputLayer\u001b[0m)              │                        │                │                        │\n",
              "├───────────────────────────┼────────────────────────┼────────────────┼────────────────────────┤\n",
              "│ input_layer_2             │ (\u001b[38;5;45mNone\u001b[0m, \u001b[38;5;34m60\u001b[0m, \u001b[38;5;34m4\u001b[0m)          │              \u001b[38;5;34m0\u001b[0m │ -                      │\n",
              "│ (\u001b[38;5;33mInputLayer\u001b[0m)              │                        │                │                        │\n",
              "├───────────────────────────┼────────────────────────┼────────────────┼────────────────────────┤\n",
              "│ input_layer_5             │ (\u001b[38;5;45mNone\u001b[0m, \u001b[38;5;34m1\u001b[0m)              │              \u001b[38;5;34m0\u001b[0m │ -                      │\n",
              "│ (\u001b[38;5;33mInputLayer\u001b[0m)              │                        │                │                        │\n",
              "├───────────────────────────┼────────────────────────┼────────────────┼────────────────────────┤\n",
              "│ cast (\u001b[38;5;33mCast\u001b[0m)               │ (\u001b[38;5;45mNone\u001b[0m, \u001b[38;5;34m60\u001b[0m, \u001b[38;5;34m4\u001b[0m)          │              \u001b[38;5;34m0\u001b[0m │ input_layer[\u001b[38;5;34m0\u001b[0m][\u001b[38;5;34m0\u001b[0m]      │\n",
              "├───────────────────────────┼────────────────────────┼────────────────┼────────────────────────┤\n",
              "│ cast_1 (\u001b[38;5;33mCast\u001b[0m)             │ (\u001b[38;5;45mNone\u001b[0m, \u001b[38;5;34m60\u001b[0m, \u001b[38;5;34m4\u001b[0m)          │              \u001b[38;5;34m0\u001b[0m │ input_layer_1[\u001b[38;5;34m0\u001b[0m][\u001b[38;5;34m0\u001b[0m]    │\n",
              "├───────────────────────────┼────────────────────────┼────────────────┼────────────────────────┤\n",
              "│ cast_2 (\u001b[38;5;33mCast\u001b[0m)             │ (\u001b[38;5;45mNone\u001b[0m, \u001b[38;5;34m60\u001b[0m, \u001b[38;5;34m4\u001b[0m)          │              \u001b[38;5;34m0\u001b[0m │ input_layer_2[\u001b[38;5;34m0\u001b[0m][\u001b[38;5;34m0\u001b[0m]    │\n",
              "├───────────────────────────┼────────────────────────┼────────────────┼────────────────────────┤\n",
              "│ input_layer_3             │ (\u001b[38;5;45mNone\u001b[0m, \u001b[38;5;34m79\u001b[0m)             │              \u001b[38;5;34m0\u001b[0m │ -                      │\n",
              "│ (\u001b[38;5;33mInputLayer\u001b[0m)              │                        │                │                        │\n",
              "├───────────────────────────┼────────────────────────┼────────────────┼────────────────────────┤\n",
              "│ embedding (\u001b[38;5;33mEmbedding\u001b[0m)     │ (\u001b[38;5;45mNone\u001b[0m, \u001b[38;5;34m1\u001b[0m, \u001b[38;5;34m8\u001b[0m)           │         \u001b[38;5;34m11,520\u001b[0m │ input_layer_5[\u001b[38;5;34m0\u001b[0m][\u001b[38;5;34m0\u001b[0m]    │\n",
              "├───────────────────────────┼────────────────────────┼────────────────┼────────────────────────┤\n",
              "│ input_layer_4             │ (\u001b[38;5;45mNone\u001b[0m, \u001b[38;5;34m3\u001b[0m)              │              \u001b[38;5;34m0\u001b[0m │ -                      │\n",
              "│ (\u001b[38;5;33mInputLayer\u001b[0m)              │                        │                │                        │\n",
              "├───────────────────────────┼────────────────────────┼────────────────┼────────────────────────┤\n",
              "│ flatten_1 (\u001b[38;5;33mFlatten\u001b[0m)       │ (\u001b[38;5;45mNone\u001b[0m, \u001b[38;5;34m240\u001b[0m)            │              \u001b[38;5;34m0\u001b[0m │ cast[\u001b[38;5;34m0\u001b[0m][\u001b[38;5;34m0\u001b[0m]             │\n",
              "├───────────────────────────┼────────────────────────┼────────────────┼────────────────────────┤\n",
              "│ flatten_2 (\u001b[38;5;33mFlatten\u001b[0m)       │ (\u001b[38;5;45mNone\u001b[0m, \u001b[38;5;34m240\u001b[0m)            │              \u001b[38;5;34m0\u001b[0m │ cast_1[\u001b[38;5;34m0\u001b[0m][\u001b[38;5;34m0\u001b[0m]           │\n",
              "├───────────────────────────┼────────────────────────┼────────────────┼────────────────────────┤\n",
              "│ flatten_3 (\u001b[38;5;33mFlatten\u001b[0m)       │ (\u001b[38;5;45mNone\u001b[0m, \u001b[38;5;34m240\u001b[0m)            │              \u001b[38;5;34m0\u001b[0m │ cast_2[\u001b[38;5;34m0\u001b[0m][\u001b[38;5;34m0\u001b[0m]           │\n",
              "├───────────────────────────┼────────────────────────┼────────────────┼────────────────────────┤\n",
              "│ cast_3 (\u001b[38;5;33mCast\u001b[0m)             │ (\u001b[38;5;45mNone\u001b[0m, \u001b[38;5;34m79\u001b[0m)             │              \u001b[38;5;34m0\u001b[0m │ input_layer_3[\u001b[38;5;34m0\u001b[0m][\u001b[38;5;34m0\u001b[0m]    │\n",
              "├───────────────────────────┼────────────────────────┼────────────────┼────────────────────────┤\n",
              "│ flatten (\u001b[38;5;33mFlatten\u001b[0m)         │ (\u001b[38;5;45mNone\u001b[0m, \u001b[38;5;34m8\u001b[0m)              │              \u001b[38;5;34m0\u001b[0m │ embedding[\u001b[38;5;34m0\u001b[0m][\u001b[38;5;34m0\u001b[0m]        │\n",
              "├───────────────────────────┼────────────────────────┼────────────────┼────────────────────────┤\n",
              "│ cast_4 (\u001b[38;5;33mCast\u001b[0m)             │ (\u001b[38;5;45mNone\u001b[0m, \u001b[38;5;34m3\u001b[0m)              │              \u001b[38;5;34m0\u001b[0m │ input_layer_4[\u001b[38;5;34m0\u001b[0m][\u001b[38;5;34m0\u001b[0m]    │\n",
              "├───────────────────────────┼────────────────────────┼────────────────┼────────────────────────┤\n",
              "│ concatenate (\u001b[38;5;33mConcatenate\u001b[0m) │ (\u001b[38;5;45mNone\u001b[0m, \u001b[38;5;34m810\u001b[0m)            │              \u001b[38;5;34m0\u001b[0m │ flatten_1[\u001b[38;5;34m0\u001b[0m][\u001b[38;5;34m0\u001b[0m],       │\n",
              "│                           │                        │                │ flatten_2[\u001b[38;5;34m0\u001b[0m][\u001b[38;5;34m0\u001b[0m],       │\n",
              "│                           │                        │                │ flatten_3[\u001b[38;5;34m0\u001b[0m][\u001b[38;5;34m0\u001b[0m],       │\n",
              "│                           │                        │                │ cast_3[\u001b[38;5;34m0\u001b[0m][\u001b[38;5;34m0\u001b[0m],          │\n",
              "│                           │                        │                │ flatten[\u001b[38;5;34m0\u001b[0m][\u001b[38;5;34m0\u001b[0m],         │\n",
              "│                           │                        │                │ cast_4[\u001b[38;5;34m0\u001b[0m][\u001b[38;5;34m0\u001b[0m]           │\n",
              "├───────────────────────────┼────────────────────────┼────────────────┼────────────────────────┤\n",
              "│ dense (\u001b[38;5;33mDense\u001b[0m)             │ (\u001b[38;5;45mNone\u001b[0m, \u001b[38;5;34m4096\u001b[0m)           │      \u001b[38;5;34m3,321,856\u001b[0m │ concatenate[\u001b[38;5;34m0\u001b[0m][\u001b[38;5;34m0\u001b[0m]      │\n",
              "├───────────────────────────┼────────────────────────┼────────────────┼────────────────────────┤\n",
              "│ leaky_re_lu (\u001b[38;5;33mLeakyReLU\u001b[0m)   │ (\u001b[38;5;45mNone\u001b[0m, \u001b[38;5;34m4096\u001b[0m)           │              \u001b[38;5;34m0\u001b[0m │ dense[\u001b[38;5;34m0\u001b[0m][\u001b[38;5;34m0\u001b[0m],           │\n",
              "│                           │                        │                │ dense_1[\u001b[38;5;34m0\u001b[0m][\u001b[38;5;34m0\u001b[0m],         │\n",
              "│                           │                        │                │ dense_2[\u001b[38;5;34m0\u001b[0m][\u001b[38;5;34m0\u001b[0m]          │\n",
              "├───────────────────────────┼────────────────────────┼────────────────┼────────────────────────┤\n",
              "│ dense_1 (\u001b[38;5;33mDense\u001b[0m)           │ (\u001b[38;5;45mNone\u001b[0m, \u001b[38;5;34m4096\u001b[0m)           │     \u001b[38;5;34m16,781,312\u001b[0m │ leaky_re_lu[\u001b[38;5;34m0\u001b[0m][\u001b[38;5;34m0\u001b[0m]      │\n",
              "├───────────────────────────┼────────────────────────┼────────────────┼────────────────────────┤\n",
              "│ dense_2 (\u001b[38;5;33mDense\u001b[0m)           │ (\u001b[38;5;45mNone\u001b[0m, \u001b[38;5;34m4096\u001b[0m)           │     \u001b[38;5;34m16,781,312\u001b[0m │ leaky_re_lu[\u001b[38;5;34m1\u001b[0m][\u001b[38;5;34m0\u001b[0m]      │\n",
              "├───────────────────────────┼────────────────────────┼────────────────┼────────────────────────┤\n",
              "│ dense_3 (\u001b[38;5;33mDense\u001b[0m)           │ (\u001b[38;5;45mNone\u001b[0m, \u001b[38;5;34m1\u001b[0m)              │          \u001b[38;5;34m4,097\u001b[0m │ leaky_re_lu[\u001b[38;5;34m2\u001b[0m][\u001b[38;5;34m0\u001b[0m]      │\n",
              "├───────────────────────────┼────────────────────────┼────────────────┼────────────────────────┤\n",
              "│ dense_4 (\u001b[38;5;33mDense\u001b[0m)           │ (\u001b[38;5;45mNone\u001b[0m, \u001b[38;5;34m3\u001b[0m)              │         \u001b[38;5;34m12,291\u001b[0m │ leaky_re_lu[\u001b[38;5;34m2\u001b[0m][\u001b[38;5;34m0\u001b[0m]      │\n",
              "├───────────────────────────┼────────────────────────┼────────────────┼────────────────────────┤\n",
              "│ lambda (\u001b[38;5;33mLambda\u001b[0m)           │ (\u001b[38;5;45mNone\u001b[0m, \u001b[38;5;34m3\u001b[0m)              │              \u001b[38;5;34m0\u001b[0m │ dense_3[\u001b[38;5;34m0\u001b[0m][\u001b[38;5;34m0\u001b[0m],         │\n",
              "│                           │                        │                │ dense_4[\u001b[38;5;34m0\u001b[0m][\u001b[38;5;34m0\u001b[0m]          │\n",
              "├───────────────────────────┼────────────────────────┼────────────────┼────────────────────────┤\n",
              "│ cast_5 (\u001b[38;5;33mCast\u001b[0m)             │ (\u001b[38;5;45mNone\u001b[0m, \u001b[38;5;34m3\u001b[0m)              │              \u001b[38;5;34m0\u001b[0m │ lambda[\u001b[38;5;34m0\u001b[0m][\u001b[38;5;34m0\u001b[0m]           │\n",
              "├───────────────────────────┼────────────────────────┼────────────────┼────────────────────────┤\n",
              "│ activation (\u001b[38;5;33mActivation\u001b[0m)   │ (\u001b[38;5;45mNone\u001b[0m, \u001b[38;5;34m3\u001b[0m)              │              \u001b[38;5;34m0\u001b[0m │ cast_5[\u001b[38;5;34m0\u001b[0m][\u001b[38;5;34m0\u001b[0m]           │\n",
              "└───────────────────────────┴────────────────────────┴────────────────┴────────────────────────┘\n"
            ],
            "text/html": [
              "<pre style=\"white-space:pre;overflow-x:auto;line-height:normal;font-family:Menlo,'DejaVu Sans Mono',consolas,'Courier New',monospace\">┏━━━━━━━━━━━━━━━━━━━━━━━━━━━┳━━━━━━━━━━━━━━━━━━━━━━━━┳━━━━━━━━━━━━━━━━┳━━━━━━━━━━━━━━━━━━━━━━━━┓\n",
              "┃<span style=\"font-weight: bold\"> Layer (type)              </span>┃<span style=\"font-weight: bold\"> Output Shape           </span>┃<span style=\"font-weight: bold\">        Param # </span>┃<span style=\"font-weight: bold\"> Connected to           </span>┃\n",
              "┡━━━━━━━━━━━━━━━━━━━━━━━━━━━╇━━━━━━━━━━━━━━━━━━━━━━━━╇━━━━━━━━━━━━━━━━╇━━━━━━━━━━━━━━━━━━━━━━━━┩\n",
              "│ input_layer (<span style=\"color: #0087ff; text-decoration-color: #0087ff\">InputLayer</span>)  │ (<span style=\"color: #00d7ff; text-decoration-color: #00d7ff\">None</span>, <span style=\"color: #00af00; text-decoration-color: #00af00\">60</span>, <span style=\"color: #00af00; text-decoration-color: #00af00\">4</span>)          │              <span style=\"color: #00af00; text-decoration-color: #00af00\">0</span> │ -                      │\n",
              "├───────────────────────────┼────────────────────────┼────────────────┼────────────────────────┤\n",
              "│ input_layer_1             │ (<span style=\"color: #00d7ff; text-decoration-color: #00d7ff\">None</span>, <span style=\"color: #00af00; text-decoration-color: #00af00\">60</span>, <span style=\"color: #00af00; text-decoration-color: #00af00\">4</span>)          │              <span style=\"color: #00af00; text-decoration-color: #00af00\">0</span> │ -                      │\n",
              "│ (<span style=\"color: #0087ff; text-decoration-color: #0087ff\">InputLayer</span>)              │                        │                │                        │\n",
              "├───────────────────────────┼────────────────────────┼────────────────┼────────────────────────┤\n",
              "│ input_layer_2             │ (<span style=\"color: #00d7ff; text-decoration-color: #00d7ff\">None</span>, <span style=\"color: #00af00; text-decoration-color: #00af00\">60</span>, <span style=\"color: #00af00; text-decoration-color: #00af00\">4</span>)          │              <span style=\"color: #00af00; text-decoration-color: #00af00\">0</span> │ -                      │\n",
              "│ (<span style=\"color: #0087ff; text-decoration-color: #0087ff\">InputLayer</span>)              │                        │                │                        │\n",
              "├───────────────────────────┼────────────────────────┼────────────────┼────────────────────────┤\n",
              "│ input_layer_5             │ (<span style=\"color: #00d7ff; text-decoration-color: #00d7ff\">None</span>, <span style=\"color: #00af00; text-decoration-color: #00af00\">1</span>)              │              <span style=\"color: #00af00; text-decoration-color: #00af00\">0</span> │ -                      │\n",
              "│ (<span style=\"color: #0087ff; text-decoration-color: #0087ff\">InputLayer</span>)              │                        │                │                        │\n",
              "├───────────────────────────┼────────────────────────┼────────────────┼────────────────────────┤\n",
              "│ cast (<span style=\"color: #0087ff; text-decoration-color: #0087ff\">Cast</span>)               │ (<span style=\"color: #00d7ff; text-decoration-color: #00d7ff\">None</span>, <span style=\"color: #00af00; text-decoration-color: #00af00\">60</span>, <span style=\"color: #00af00; text-decoration-color: #00af00\">4</span>)          │              <span style=\"color: #00af00; text-decoration-color: #00af00\">0</span> │ input_layer[<span style=\"color: #00af00; text-decoration-color: #00af00\">0</span>][<span style=\"color: #00af00; text-decoration-color: #00af00\">0</span>]      │\n",
              "├───────────────────────────┼────────────────────────┼────────────────┼────────────────────────┤\n",
              "│ cast_1 (<span style=\"color: #0087ff; text-decoration-color: #0087ff\">Cast</span>)             │ (<span style=\"color: #00d7ff; text-decoration-color: #00d7ff\">None</span>, <span style=\"color: #00af00; text-decoration-color: #00af00\">60</span>, <span style=\"color: #00af00; text-decoration-color: #00af00\">4</span>)          │              <span style=\"color: #00af00; text-decoration-color: #00af00\">0</span> │ input_layer_1[<span style=\"color: #00af00; text-decoration-color: #00af00\">0</span>][<span style=\"color: #00af00; text-decoration-color: #00af00\">0</span>]    │\n",
              "├───────────────────────────┼────────────────────────┼────────────────┼────────────────────────┤\n",
              "│ cast_2 (<span style=\"color: #0087ff; text-decoration-color: #0087ff\">Cast</span>)             │ (<span style=\"color: #00d7ff; text-decoration-color: #00d7ff\">None</span>, <span style=\"color: #00af00; text-decoration-color: #00af00\">60</span>, <span style=\"color: #00af00; text-decoration-color: #00af00\">4</span>)          │              <span style=\"color: #00af00; text-decoration-color: #00af00\">0</span> │ input_layer_2[<span style=\"color: #00af00; text-decoration-color: #00af00\">0</span>][<span style=\"color: #00af00; text-decoration-color: #00af00\">0</span>]    │\n",
              "├───────────────────────────┼────────────────────────┼────────────────┼────────────────────────┤\n",
              "│ input_layer_3             │ (<span style=\"color: #00d7ff; text-decoration-color: #00d7ff\">None</span>, <span style=\"color: #00af00; text-decoration-color: #00af00\">79</span>)             │              <span style=\"color: #00af00; text-decoration-color: #00af00\">0</span> │ -                      │\n",
              "│ (<span style=\"color: #0087ff; text-decoration-color: #0087ff\">InputLayer</span>)              │                        │                │                        │\n",
              "├───────────────────────────┼────────────────────────┼────────────────┼────────────────────────┤\n",
              "│ embedding (<span style=\"color: #0087ff; text-decoration-color: #0087ff\">Embedding</span>)     │ (<span style=\"color: #00d7ff; text-decoration-color: #00d7ff\">None</span>, <span style=\"color: #00af00; text-decoration-color: #00af00\">1</span>, <span style=\"color: #00af00; text-decoration-color: #00af00\">8</span>)           │         <span style=\"color: #00af00; text-decoration-color: #00af00\">11,520</span> │ input_layer_5[<span style=\"color: #00af00; text-decoration-color: #00af00\">0</span>][<span style=\"color: #00af00; text-decoration-color: #00af00\">0</span>]    │\n",
              "├───────────────────────────┼────────────────────────┼────────────────┼────────────────────────┤\n",
              "│ input_layer_4             │ (<span style=\"color: #00d7ff; text-decoration-color: #00d7ff\">None</span>, <span style=\"color: #00af00; text-decoration-color: #00af00\">3</span>)              │              <span style=\"color: #00af00; text-decoration-color: #00af00\">0</span> │ -                      │\n",
              "│ (<span style=\"color: #0087ff; text-decoration-color: #0087ff\">InputLayer</span>)              │                        │                │                        │\n",
              "├───────────────────────────┼────────────────────────┼────────────────┼────────────────────────┤\n",
              "│ flatten_1 (<span style=\"color: #0087ff; text-decoration-color: #0087ff\">Flatten</span>)       │ (<span style=\"color: #00d7ff; text-decoration-color: #00d7ff\">None</span>, <span style=\"color: #00af00; text-decoration-color: #00af00\">240</span>)            │              <span style=\"color: #00af00; text-decoration-color: #00af00\">0</span> │ cast[<span style=\"color: #00af00; text-decoration-color: #00af00\">0</span>][<span style=\"color: #00af00; text-decoration-color: #00af00\">0</span>]             │\n",
              "├───────────────────────────┼────────────────────────┼────────────────┼────────────────────────┤\n",
              "│ flatten_2 (<span style=\"color: #0087ff; text-decoration-color: #0087ff\">Flatten</span>)       │ (<span style=\"color: #00d7ff; text-decoration-color: #00d7ff\">None</span>, <span style=\"color: #00af00; text-decoration-color: #00af00\">240</span>)            │              <span style=\"color: #00af00; text-decoration-color: #00af00\">0</span> │ cast_1[<span style=\"color: #00af00; text-decoration-color: #00af00\">0</span>][<span style=\"color: #00af00; text-decoration-color: #00af00\">0</span>]           │\n",
              "├───────────────────────────┼────────────────────────┼────────────────┼────────────────────────┤\n",
              "│ flatten_3 (<span style=\"color: #0087ff; text-decoration-color: #0087ff\">Flatten</span>)       │ (<span style=\"color: #00d7ff; text-decoration-color: #00d7ff\">None</span>, <span style=\"color: #00af00; text-decoration-color: #00af00\">240</span>)            │              <span style=\"color: #00af00; text-decoration-color: #00af00\">0</span> │ cast_2[<span style=\"color: #00af00; text-decoration-color: #00af00\">0</span>][<span style=\"color: #00af00; text-decoration-color: #00af00\">0</span>]           │\n",
              "├───────────────────────────┼────────────────────────┼────────────────┼────────────────────────┤\n",
              "│ cast_3 (<span style=\"color: #0087ff; text-decoration-color: #0087ff\">Cast</span>)             │ (<span style=\"color: #00d7ff; text-decoration-color: #00d7ff\">None</span>, <span style=\"color: #00af00; text-decoration-color: #00af00\">79</span>)             │              <span style=\"color: #00af00; text-decoration-color: #00af00\">0</span> │ input_layer_3[<span style=\"color: #00af00; text-decoration-color: #00af00\">0</span>][<span style=\"color: #00af00; text-decoration-color: #00af00\">0</span>]    │\n",
              "├───────────────────────────┼────────────────────────┼────────────────┼────────────────────────┤\n",
              "│ flatten (<span style=\"color: #0087ff; text-decoration-color: #0087ff\">Flatten</span>)         │ (<span style=\"color: #00d7ff; text-decoration-color: #00d7ff\">None</span>, <span style=\"color: #00af00; text-decoration-color: #00af00\">8</span>)              │              <span style=\"color: #00af00; text-decoration-color: #00af00\">0</span> │ embedding[<span style=\"color: #00af00; text-decoration-color: #00af00\">0</span>][<span style=\"color: #00af00; text-decoration-color: #00af00\">0</span>]        │\n",
              "├───────────────────────────┼────────────────────────┼────────────────┼────────────────────────┤\n",
              "│ cast_4 (<span style=\"color: #0087ff; text-decoration-color: #0087ff\">Cast</span>)             │ (<span style=\"color: #00d7ff; text-decoration-color: #00d7ff\">None</span>, <span style=\"color: #00af00; text-decoration-color: #00af00\">3</span>)              │              <span style=\"color: #00af00; text-decoration-color: #00af00\">0</span> │ input_layer_4[<span style=\"color: #00af00; text-decoration-color: #00af00\">0</span>][<span style=\"color: #00af00; text-decoration-color: #00af00\">0</span>]    │\n",
              "├───────────────────────────┼────────────────────────┼────────────────┼────────────────────────┤\n",
              "│ concatenate (<span style=\"color: #0087ff; text-decoration-color: #0087ff\">Concatenate</span>) │ (<span style=\"color: #00d7ff; text-decoration-color: #00d7ff\">None</span>, <span style=\"color: #00af00; text-decoration-color: #00af00\">810</span>)            │              <span style=\"color: #00af00; text-decoration-color: #00af00\">0</span> │ flatten_1[<span style=\"color: #00af00; text-decoration-color: #00af00\">0</span>][<span style=\"color: #00af00; text-decoration-color: #00af00\">0</span>],       │\n",
              "│                           │                        │                │ flatten_2[<span style=\"color: #00af00; text-decoration-color: #00af00\">0</span>][<span style=\"color: #00af00; text-decoration-color: #00af00\">0</span>],       │\n",
              "│                           │                        │                │ flatten_3[<span style=\"color: #00af00; text-decoration-color: #00af00\">0</span>][<span style=\"color: #00af00; text-decoration-color: #00af00\">0</span>],       │\n",
              "│                           │                        │                │ cast_3[<span style=\"color: #00af00; text-decoration-color: #00af00\">0</span>][<span style=\"color: #00af00; text-decoration-color: #00af00\">0</span>],          │\n",
              "│                           │                        │                │ flatten[<span style=\"color: #00af00; text-decoration-color: #00af00\">0</span>][<span style=\"color: #00af00; text-decoration-color: #00af00\">0</span>],         │\n",
              "│                           │                        │                │ cast_4[<span style=\"color: #00af00; text-decoration-color: #00af00\">0</span>][<span style=\"color: #00af00; text-decoration-color: #00af00\">0</span>]           │\n",
              "├───────────────────────────┼────────────────────────┼────────────────┼────────────────────────┤\n",
              "│ dense (<span style=\"color: #0087ff; text-decoration-color: #0087ff\">Dense</span>)             │ (<span style=\"color: #00d7ff; text-decoration-color: #00d7ff\">None</span>, <span style=\"color: #00af00; text-decoration-color: #00af00\">4096</span>)           │      <span style=\"color: #00af00; text-decoration-color: #00af00\">3,321,856</span> │ concatenate[<span style=\"color: #00af00; text-decoration-color: #00af00\">0</span>][<span style=\"color: #00af00; text-decoration-color: #00af00\">0</span>]      │\n",
              "├───────────────────────────┼────────────────────────┼────────────────┼────────────────────────┤\n",
              "│ leaky_re_lu (<span style=\"color: #0087ff; text-decoration-color: #0087ff\">LeakyReLU</span>)   │ (<span style=\"color: #00d7ff; text-decoration-color: #00d7ff\">None</span>, <span style=\"color: #00af00; text-decoration-color: #00af00\">4096</span>)           │              <span style=\"color: #00af00; text-decoration-color: #00af00\">0</span> │ dense[<span style=\"color: #00af00; text-decoration-color: #00af00\">0</span>][<span style=\"color: #00af00; text-decoration-color: #00af00\">0</span>],           │\n",
              "│                           │                        │                │ dense_1[<span style=\"color: #00af00; text-decoration-color: #00af00\">0</span>][<span style=\"color: #00af00; text-decoration-color: #00af00\">0</span>],         │\n",
              "│                           │                        │                │ dense_2[<span style=\"color: #00af00; text-decoration-color: #00af00\">0</span>][<span style=\"color: #00af00; text-decoration-color: #00af00\">0</span>]          │\n",
              "├───────────────────────────┼────────────────────────┼────────────────┼────────────────────────┤\n",
              "│ dense_1 (<span style=\"color: #0087ff; text-decoration-color: #0087ff\">Dense</span>)           │ (<span style=\"color: #00d7ff; text-decoration-color: #00d7ff\">None</span>, <span style=\"color: #00af00; text-decoration-color: #00af00\">4096</span>)           │     <span style=\"color: #00af00; text-decoration-color: #00af00\">16,781,312</span> │ leaky_re_lu[<span style=\"color: #00af00; text-decoration-color: #00af00\">0</span>][<span style=\"color: #00af00; text-decoration-color: #00af00\">0</span>]      │\n",
              "├───────────────────────────┼────────────────────────┼────────────────┼────────────────────────┤\n",
              "│ dense_2 (<span style=\"color: #0087ff; text-decoration-color: #0087ff\">Dense</span>)           │ (<span style=\"color: #00d7ff; text-decoration-color: #00d7ff\">None</span>, <span style=\"color: #00af00; text-decoration-color: #00af00\">4096</span>)           │     <span style=\"color: #00af00; text-decoration-color: #00af00\">16,781,312</span> │ leaky_re_lu[<span style=\"color: #00af00; text-decoration-color: #00af00\">1</span>][<span style=\"color: #00af00; text-decoration-color: #00af00\">0</span>]      │\n",
              "├───────────────────────────┼────────────────────────┼────────────────┼────────────────────────┤\n",
              "│ dense_3 (<span style=\"color: #0087ff; text-decoration-color: #0087ff\">Dense</span>)           │ (<span style=\"color: #00d7ff; text-decoration-color: #00d7ff\">None</span>, <span style=\"color: #00af00; text-decoration-color: #00af00\">1</span>)              │          <span style=\"color: #00af00; text-decoration-color: #00af00\">4,097</span> │ leaky_re_lu[<span style=\"color: #00af00; text-decoration-color: #00af00\">2</span>][<span style=\"color: #00af00; text-decoration-color: #00af00\">0</span>]      │\n",
              "├───────────────────────────┼────────────────────────┼────────────────┼────────────────────────┤\n",
              "│ dense_4 (<span style=\"color: #0087ff; text-decoration-color: #0087ff\">Dense</span>)           │ (<span style=\"color: #00d7ff; text-decoration-color: #00d7ff\">None</span>, <span style=\"color: #00af00; text-decoration-color: #00af00\">3</span>)              │         <span style=\"color: #00af00; text-decoration-color: #00af00\">12,291</span> │ leaky_re_lu[<span style=\"color: #00af00; text-decoration-color: #00af00\">2</span>][<span style=\"color: #00af00; text-decoration-color: #00af00\">0</span>]      │\n",
              "├───────────────────────────┼────────────────────────┼────────────────┼────────────────────────┤\n",
              "│ lambda (<span style=\"color: #0087ff; text-decoration-color: #0087ff\">Lambda</span>)           │ (<span style=\"color: #00d7ff; text-decoration-color: #00d7ff\">None</span>, <span style=\"color: #00af00; text-decoration-color: #00af00\">3</span>)              │              <span style=\"color: #00af00; text-decoration-color: #00af00\">0</span> │ dense_3[<span style=\"color: #00af00; text-decoration-color: #00af00\">0</span>][<span style=\"color: #00af00; text-decoration-color: #00af00\">0</span>],         │\n",
              "│                           │                        │                │ dense_4[<span style=\"color: #00af00; text-decoration-color: #00af00\">0</span>][<span style=\"color: #00af00; text-decoration-color: #00af00\">0</span>]          │\n",
              "├───────────────────────────┼────────────────────────┼────────────────┼────────────────────────┤\n",
              "│ cast_5 (<span style=\"color: #0087ff; text-decoration-color: #0087ff\">Cast</span>)             │ (<span style=\"color: #00d7ff; text-decoration-color: #00d7ff\">None</span>, <span style=\"color: #00af00; text-decoration-color: #00af00\">3</span>)              │              <span style=\"color: #00af00; text-decoration-color: #00af00\">0</span> │ lambda[<span style=\"color: #00af00; text-decoration-color: #00af00\">0</span>][<span style=\"color: #00af00; text-decoration-color: #00af00\">0</span>]           │\n",
              "├───────────────────────────┼────────────────────────┼────────────────┼────────────────────────┤\n",
              "│ activation (<span style=\"color: #0087ff; text-decoration-color: #0087ff\">Activation</span>)   │ (<span style=\"color: #00d7ff; text-decoration-color: #00d7ff\">None</span>, <span style=\"color: #00af00; text-decoration-color: #00af00\">3</span>)              │              <span style=\"color: #00af00; text-decoration-color: #00af00\">0</span> │ cast_5[<span style=\"color: #00af00; text-decoration-color: #00af00\">0</span>][<span style=\"color: #00af00; text-decoration-color: #00af00\">0</span>]           │\n",
              "└───────────────────────────┴────────────────────────┴────────────────┴────────────────────────┘\n",
              "</pre>\n"
            ]
          },
          "metadata": {}
        },
        {
          "output_type": "display_data",
          "data": {
            "text/plain": [
              "\u001b[1m Total params: \u001b[0m\u001b[38;5;34m36,912,388\u001b[0m (140.81 MB)\n"
            ],
            "text/html": [
              "<pre style=\"white-space:pre;overflow-x:auto;line-height:normal;font-family:Menlo,'DejaVu Sans Mono',consolas,'Courier New',monospace\"><span style=\"font-weight: bold\"> Total params: </span><span style=\"color: #00af00; text-decoration-color: #00af00\">36,912,388</span> (140.81 MB)\n",
              "</pre>\n"
            ]
          },
          "metadata": {}
        },
        {
          "output_type": "display_data",
          "data": {
            "text/plain": [
              "\u001b[1m Trainable params: \u001b[0m\u001b[38;5;34m36,912,388\u001b[0m (140.81 MB)\n"
            ],
            "text/html": [
              "<pre style=\"white-space:pre;overflow-x:auto;line-height:normal;font-family:Menlo,'DejaVu Sans Mono',consolas,'Courier New',monospace\"><span style=\"font-weight: bold\"> Trainable params: </span><span style=\"color: #00af00; text-decoration-color: #00af00\">36,912,388</span> (140.81 MB)\n",
              "</pre>\n"
            ]
          },
          "metadata": {}
        },
        {
          "output_type": "display_data",
          "data": {
            "text/plain": [
              "\u001b[1m Non-trainable params: \u001b[0m\u001b[38;5;34m0\u001b[0m (0.00 B)\n"
            ],
            "text/html": [
              "<pre style=\"white-space:pre;overflow-x:auto;line-height:normal;font-family:Menlo,'DejaVu Sans Mono',consolas,'Courier New',monospace\"><span style=\"font-weight: bold\"> Non-trainable params: </span><span style=\"color: #00af00; text-decoration-color: #00af00\">0</span> (0.00 B)\n",
              "</pre>\n"
            ]
          },
          "metadata": {}
        }
      ]
    },
    {
      "cell_type": "code",
      "source": [
        "\n",
        "def relative (value, center, r):\n",
        "        return (value - center) / r\n",
        "\n",
        "def ret_to_scaled_inputs(ret):\n",
        "\n",
        "    midnight_open, midnight_opening_range_high,midnight_opening_range_low, pdas, current_close, current_time, charts = ret\n",
        "\n",
        "\n",
        "    center = (midnight_opening_range_high + midnight_opening_range_low) / 2\n",
        "    r = max(0.0001,(midnight_opening_range_high - midnight_opening_range_low) / 2)\n",
        "\n",
        "    pda_rel = []\n",
        "    pda_rel.append(relative(midnight_open, center, r))\n",
        "    for pda in pdas[0:18]:\n",
        "        pda_rel.append(relative(pda, center, r))\n",
        "    for index in range(18,18+5*12):\n",
        "        ## highs lows are like this [h, h_taken, l, l_taken]\n",
        "        ## the bools should not be scaled\n",
        "        if (index - 18) % 2 == 0:\n",
        "            pda_rel.append(relative(pdas[index], center, r))\n",
        "        else:\n",
        "            pda_rel.append(pdas[index])\n",
        "\n",
        "    pda_np = np.array(pda_rel)\n",
        "\n",
        "    current_minutes = current_time.hour * 60 + current_time.minute\n",
        "\n",
        "    charts_array = []\n",
        "    for candlesticks in charts:\n",
        "        charts_array.append([])\n",
        "        for candle in candlesticks:\n",
        "            o = relative(candle.o, center, r)\n",
        "            h = relative(candle.h, center, r)\n",
        "            l = relative(candle.l, center, r)\n",
        "            c = relative(candle.c, center, r)\n",
        "            charts_array[-1].append([o,h,l,c])\n",
        "\n",
        "    m15_np = np.array(charts_array[0])\n",
        "    m5_np = np.array(charts_array[1])\n",
        "    m1_np = np.array(charts_array[2])\n",
        "\n",
        "    return [m15_np, m5_np, m1_np, pda_np, current_minutes]"
      ],
      "metadata": {
        "id": "6KEBSBxEoLv7"
      },
      "execution_count": 9,
      "outputs": []
    },
    {
      "cell_type": "code",
      "source": [
        "class Order:\n",
        "    def __init__(self, limit, stop, tp, direction):\n",
        "        self.entry = limit\n",
        "        self.tp = tp\n",
        "        self.sl = stop\n",
        "        self.direction = direction\n",
        "\n",
        "class Position:\n",
        "    def __init__(self, entry, stop, tp, direction):\n",
        "        self.entry = entry\n",
        "        self.tp = tp\n",
        "        self.sl = stop\n",
        "        self.direction = direction\n",
        ""
      ],
      "metadata": {
        "id": "cdGk4IMvoNxR"
      },
      "execution_count": 10,
      "outputs": []
    },
    {
      "cell_type": "code",
      "source": [
        "equity = 0\n",
        "equity_L = [0]\n",
        "cmm = 1\n",
        "\n",
        "candles = obj_load(\"NQ_2\")\n",
        "len(candles)\n",
        "\n",
        "def reset():\n",
        "    global index, last_state, last_action, current_position, current_order, equity, m\n",
        "\n",
        "    m = MultiTimeframeCandleManager()\n",
        "\n",
        "    current_position = Position(0,0,0,0)\n",
        "    current_order = None\n",
        "\n",
        "    last_state = None\n",
        "    last_action = 0\n",
        "\n",
        "    index = 0\n",
        "\n",
        "    print(\"env reset\")\n",
        "\n",
        "def step():\n",
        "\n",
        "    global index, last_state, last_action, current_position, current_order, equity, m\n",
        "\n",
        "\n",
        "    sarts = None\n",
        "    while  sarts == None:\n",
        "\n",
        "        ret = m.push_m1_candle(candles[index])\n",
        "        midnight_open, midnight_opening_range_high,midnight_opening_range_low, pdas, current_close, current_time, charts = ret\n",
        "        center = (midnight_opening_range_high + midnight_opening_range_low) / 2\n",
        "        r = max(0.0001, (midnight_opening_range_high - midnight_opening_range_low) / 2)\n",
        "\n",
        "\n",
        "\n",
        "        current_candle_m1 = charts[2][-1]\n",
        "        #### check tp before filling order so that the same m1 candle will not trigger tp - it is not sure if the candle hit first limit and later tp or reve3rse\n",
        "        if current_position.direction == 1:\n",
        "            if current_candle_m1.h >= current_position.tp:\n",
        "                pnl = (current_position.tp - current_position.entry) * current_position.direction\n",
        "                equity += pnl\n",
        "                current_position = Position(0,0,0,0)\n",
        "        if current_position.direction == -1:\n",
        "            if current_candle_m1.l <= current_position.tp:\n",
        "                pnl = (current_position.tp - current_position.entry) * current_position.direction\n",
        "                equity += pnl\n",
        "                current_position = Position(0,0,0,0)\n",
        "\n",
        "        #### check order\n",
        "        if current_order != None:\n",
        "            if  current_order.direction == 1:\n",
        "                if current_candle_m1.l < current_order.entry:\n",
        "                    current_position = Position(current_order.entry, current_order.sl, current_order.tp, current_order.direction)\n",
        "                    #print(\"fill long order:\",current_order.entry, current_order.sl, current_order.tp)\n",
        "                    equity -= cmm\n",
        "                    current_order = None\n",
        "        if current_order != None:\n",
        "            if  current_order.direction == -1:\n",
        "                if current_candle_m1.h > current_order.entry:\n",
        "                    current_position = Position(current_order.entry, current_order.sl, current_order.tp, current_order.direction)\n",
        "                    #print(\"fill short order:\",current_order.entry, current_order.sl, current_order.tp)\n",
        "                    equity -= cmm\n",
        "                    current_order = None\n",
        "\n",
        "        #### check sl\n",
        "        if current_position.direction == 1:\n",
        "            if current_candle_m1.l <= current_position.sl:\n",
        "                pnl = (current_position.sl - current_position.entry) * current_position.direction\n",
        "                equity += pnl\n",
        "                current_position = Position(0,0,0,0)\n",
        "        if current_position.direction == -1:\n",
        "            if current_candle_m1.h >= current_position.sl:\n",
        "                pnl = (current_position.sl - current_position.entry) * current_position.direction\n",
        "                equity += pnl\n",
        "                current_position = Position(0,0,0,0)\n",
        "\n",
        "\n",
        "\n",
        "\n",
        "        if(len(m.fps) == 3 and len(m.opening_range_gaps) == 3 and len(m.asia_highs_lows) == 3 and len(m.london_highs_lows) == 3 and len(m.ny_am_highs_lows) == 3 and len(m.ny_lunch_highs_lows) == 3 and len(m.ny_pm_highs_lows) == 3):\n",
        "\n",
        "\n",
        "            open_profit = (current_close - current_position.entry) * current_position.direction\n",
        "\n",
        "            scaled_entry_diff  =  0\n",
        "            scaled_sl_diff  =  0\n",
        "            if(current_position.direction != 0):\n",
        "                scaled_entry_diff = (current_close - current_position.entry) / r\n",
        "                scaled_sl_diff = (current_close - current_position.sl) / r\n",
        "\n",
        "            state = ret_to_scaled_inputs(ret) + [np.array([current_position.direction, scaled_entry_diff, scaled_sl_diff])]\n",
        "            m15_np, m5_np, m1_np, pda_np, current_minutes, pos_info = state\n",
        "\n",
        "            if(last_state != None):\n",
        "                diff = (equity+open_profit) - equity_L[-1]\n",
        "                equity_L.append(equity+open_profit)\n",
        "                reward =  (diff) / r\n",
        "                terminal = 0\n",
        "                if(index+1 == len(candles)):\n",
        "                    terminal = 1\n",
        "\n",
        "                sarts = last_state, last_action, reward, terminal, state\n",
        "\n",
        "\n",
        "            if(random.randint(0,100) > e):\n",
        "                output = model([\n",
        "                    tf.expand_dims(m15_np, 0),\n",
        "                    tf.expand_dims(m5_np, 0),\n",
        "                    tf.expand_dims(m1_np, 0),\n",
        "                    tf.expand_dims(pda_np, 0),\n",
        "                    tf.expand_dims(current_minutes, 0),\n",
        "                    tf.expand_dims(pos_info, 0)\n",
        "                ])\n",
        "\n",
        "                last_action = np.argmax(output)\n",
        "            else:\n",
        "                last_action = random.randint(0,num_actions-1)\n",
        "\n",
        "            last_state = state\n",
        "\n",
        "            if(last_action == 2 and current_position.direction != 0):\n",
        "                equity += open_profit\n",
        "                current_position = Position(0,0,0,0)\n",
        "\n",
        "            if(last_action == 0 and current_position.direction == 1):\n",
        "                equity += open_profit\n",
        "                current_position = Position(0,0,0,0)\n",
        "\n",
        "            if(last_action == 0 and current_position.direction == 0):\n",
        "                last_candle_low = charts[2][-2].l\n",
        "                if ( last_candle_low < current_close ):\n",
        "                    last_candle_low = None\n",
        "\n",
        "                pdas = m.normal_pdas ## (low, high)\n",
        "\n",
        "                ## ignore pdas with low below close\n",
        "                pdas_filtered = []\n",
        "                for pda in pdas:\n",
        "                        if(pda[0] > current_close):\n",
        "                            pdas_filtered.append(pda)\n",
        "                ### sort\n",
        "                sorted_by_high = sorted(pdas_filtered, key = lambda x:x[1])\n",
        "                sorted_by_low = sorted(pdas_filtered, key = lambda x:x[0])\n",
        "\n",
        "                if(len(pdas_filtered) >= 3):\n",
        "                    ### sl is the high of 3 pdas\n",
        "                    sl = sorted_by_high[2][1]\n",
        "\n",
        "                    ### entry is lowest i can get or immediate rebalance\n",
        "                    entry = sorted_by_low[0][0]\n",
        "                    if(last_candle_low != None):\n",
        "                        entry = min(entry, last_candle_low)\n",
        "\n",
        "                    tp = entry  -  abs(entry-sl) * 1000\n",
        "\n",
        "                    current_order = Order(entry, sl, tp, -1)\n",
        "                    #print(\"set short order:\",entry,sl,tp)\n",
        "\n",
        "\n",
        "\n",
        "            if(last_action == 1 and current_position.direction == -1):\n",
        "                equity += open_profit\n",
        "                current_position = Position(0,0,0,0)\n",
        "\n",
        "            if(last_action == 1 and current_position.direction == 0):\n",
        "                last_candle_high = charts[2][-2].h\n",
        "                if ( last_candle_high > current_close ):\n",
        "                    last_candle_high = None\n",
        "                pdas = m.normal_pdas ## (low, high)\n",
        "\n",
        "                ## ignore pdas with low below close\n",
        "                pdas_filtered = []\n",
        "                for pda in pdas:\n",
        "                        if(pda[1] < current_close):\n",
        "                            pdas_filtered.append(pda)\n",
        "                ### sort\n",
        "                sorted_by_high = sorted(pdas_filtered, key = lambda x:x[1], reverse=True)\n",
        "                sorted_by_low = sorted(pdas_filtered, key = lambda x:x[0], reverse=True)\n",
        "\n",
        "                if(len(pdas_filtered) >= 3):\n",
        "                    ### sl is the high of 3 pdas\n",
        "                    sl = sorted_by_low[2][0]\n",
        "\n",
        "                    ### entry is lowest i can get or immediate rebalance\n",
        "                    entry = sorted_by_high[0][1]\n",
        "                    if(last_candle_high != None):\n",
        "                        entry = max(entry, last_candle_high)\n",
        "\n",
        "                    tp = entry  +  abs(entry-sl) * 1000\n",
        "\n",
        "                    current_order = Order(entry, sl, tp, 1)\n",
        "                    #print(\"set long order:\",entry,sl,tp)\n",
        "\n",
        "\n",
        "\n",
        "\n",
        "\n",
        "        index += 1\n",
        "        if(index == len(candles)):\n",
        "            reset()\n",
        "\n",
        "    return sarts\n",
        "\n",
        "reset()"
      ],
      "metadata": {
        "colab": {
          "base_uri": "https://localhost:8080/"
        },
        "id": "TKfCOAZWoO99",
        "outputId": "cd477a8e-3551-41af-9aeb-f19b2df839c5"
      },
      "execution_count": 11,
      "outputs": [
        {
          "output_type": "stream",
          "name": "stdout",
          "text": [
            "loading NQ_2\n",
            "env reset\n"
          ]
        }
      ]
    },
    {
      "cell_type": "code",
      "source": [
        "@tf.function()\n",
        "def get_target_q(next_states, rewards, terminals):\n",
        "            estimated_q_values_next = target_model(next_states)\n",
        "            q_batch = tf.math.reduce_max(estimated_q_values_next, axis=1)\n",
        "            target_q_values = q_batch * gamma * (1-terminals) + rewards\n",
        "            return target_q_values\n",
        "\n",
        "@tf.function()\n",
        "def tstep(data):\n",
        "    states, masks, rewards, terminals, next_states = data\n",
        "\n",
        "    target_q_values = get_target_q(next_states, rewards, terminals)\n",
        "\n",
        "    with tf.GradientTape() as t:\n",
        "        model_return = model(states, training=True)\n",
        "        mask_return = model_return * masks\n",
        "        estimated_q_values = tf.math.reduce_sum(mask_return, axis=1)\n",
        "        #print(estimated_q_values, mask_return, model_return, masks)\n",
        "        loss_e = tf.math.square(target_q_values - estimated_q_values)\n",
        "        loss = tf.reduce_mean(loss_e)\n",
        "\n",
        "\n",
        "    gradient = t.gradient(loss, model.trainable_variables)\n",
        "    optimizer.apply_gradients(zip(gradient, model.trainable_variables))\n",
        "\n",
        "    return loss, tf.reduce_mean(estimated_q_values)"
      ],
      "metadata": {
        "id": "X1emd4HvoQP1"
      },
      "execution_count": 12,
      "outputs": []
    },
    {
      "cell_type": "code",
      "source": [
        "def get_data(n):\n",
        "        r = random.randint(0, len(sarts_memory) - batch_size)\n",
        "        sarts_sample = [sarts_memory[i] for i in range(r, r + batch_size)]\n",
        "\n",
        "\n",
        "\n",
        "        states = [x[0] for x in sarts_sample]\n",
        "        actions = [x[1] for x in sarts_sample]\n",
        "        rewards = np.array([x[2] for x in sarts_sample], dtype=\"float32\")\n",
        "        terminals = np.array([x[3] for x in sarts_sample], dtype=\"float32\")\n",
        "        next_states = [x[4] for x in sarts_sample]\n",
        "\n",
        "        next_states_array = []\n",
        "        for i in range(num_model_inputs):\n",
        "            next_states_array.append(np.array([x[i] for x in next_states], dtype = \"float32\"))\n",
        "\n",
        "\n",
        "        states_array = []\n",
        "        for i in range(num_model_inputs):\n",
        "            states_array.append(np.array([x[i] for x in states], dtype = \"float32\"))\n",
        "\n",
        "\n",
        "        masks = np.array(m1[actions], dtype=\"float32\")\n",
        "\n",
        "\n",
        "        return states_array, masks, rewards, terminals, next_states_array\n",
        "\n",
        "def run():\n",
        "    sarts = step()\n",
        "    sarts_memory.append(sarts)\n",
        "\n",
        "    if(len(sarts_memory) > min_memory_size):\n",
        "\n",
        "        loss, q = tstep(get_data(0))\n",
        "\n",
        "        return loss, q, sarts[2], sarts[1]\n",
        "\n",
        "    else :\n",
        "        return 0,0, sarts[2], sarts[1]"
      ],
      "metadata": {
        "id": "O21Ctk8-oSHa"
      },
      "execution_count": 13,
      "outputs": []
    },
    {
      "cell_type": "code",
      "source": [
        "loss_mean = []\n",
        "q_mean = []\n",
        "rewards = []\n",
        "\n",
        "try:\n",
        "    model.load_weights(path+\"model.weights.h5\")\n",
        "    target_model.load_weights(path+\"model.weights.h5\")\n",
        "\n",
        "    loss_mean = obj_load(path+\"loss\")\n",
        "    q_mean = obj_load(path+\"q\")\n",
        "    rewards = obj_load(path+\"rewards\")\n",
        "except:\n",
        "    print(\"unable to load data\")\n",
        "\n",
        "\n",
        "def save():\n",
        "            model.save_weights(path+\"model.weights.h5\")\n",
        "            obj_save(loss_mean, path+\"loss\")\n",
        "            obj_save(q_mean, path+\"q\")\n",
        "            obj_save(rewards, path+\"rewards\")\n",
        "            print(\"saved progress\")"
      ],
      "metadata": {
        "colab": {
          "base_uri": "https://localhost:8080/"
        },
        "id": "98XCigPsoTr8",
        "outputId": "00f56239-3e07-439e-8053-b565843e70f4"
      },
      "execution_count": 15,
      "outputs": [
        {
          "output_type": "stream",
          "name": "stdout",
          "text": [
            "loading /content/drive/MyDrive/dqn_t1/loss\n",
            "loading /content/drive/MyDrive/dqn_t1/q\n",
            "loading /content/drive/MyDrive/dqn_t1/rewards\n"
          ]
        }
      ]
    },
    {
      "cell_type": "code",
      "source": [
        "safe_after_eps = 10\n",
        "eps_counter=0\n",
        "\n",
        "while True:\n",
        "    eps_counter+=1\n",
        "    try:\n",
        "        loss = []\n",
        "        q = []\n",
        "        rewards_tmp = []\n",
        "        actions = []\n",
        "        progbar = tf.keras.utils.Progbar(ep_len)\n",
        "        for i in range(ep_len):\n",
        "            c_loss, c_q, c_rewards, c_action = run()\n",
        "            loss.append(c_loss)\n",
        "            q.append(c_q)\n",
        "            #rewards_tmp.append(c_rewards)\n",
        "            rewards.append(c_rewards)\n",
        "            actions.append(c_action)\n",
        "\n",
        "            progbar.update(i+1, values = [(\"loss\", c_loss), (\"qv\", c_q), (\"reward\", c_rewards), (\"avg_action\", c_action)])\n",
        "\n",
        "        loss_mean.append(np.mean(loss))\n",
        "        q_mean.append(np.mean(q))\n",
        "        #rewards.append(np.mean(rewards_tmp))\n",
        "\n",
        "        #progbar.update(ep_len, values = [(\"loss\", np.mean(loss)), (\"qv\", np.mean(q)), (\"reward\", np.mean(rewards)), (\"avg_action\", np.mean(actions))])\n",
        "\n",
        "        target_model.set_weights(model.get_weights())\n",
        "\n",
        "        if(eps_counter >= safe_after_eps):\n",
        "            eps_counter = 0\n",
        "            save()\n",
        "\n",
        "\n",
        "    except    KeyboardInterrupt:\n",
        "        print(\"\")\n",
        "        print(\"exit\")\n",
        "        save()\n",
        "        break\n"
      ],
      "metadata": {
        "colab": {
          "base_uri": "https://localhost:8080/"
        },
        "id": "bJKYtH2noacp",
        "outputId": "ed9a0a69-4bd7-4423-8417-e9e0c913e437"
      },
      "execution_count": null,
      "outputs": [
        {
          "output_type": "stream",
          "name": "stdout",
          "text": [
            "\u001b[1m  81/1000\u001b[0m \u001b[32m━\u001b[0m\u001b[37m━━━━━━━━━━━━━━━━━━━\u001b[0m \u001b[1m3:47\u001b[0m 248ms/step - loss: 0.0000e+00 - qv: 0.0000e+00 - reward: -0.0475 - avg_action: 1.6420"
          ]
        }
      ]
    },
    {
      "cell_type": "code",
      "source": [],
      "metadata": {
        "id": "UxzBdnBjodh9"
      },
      "execution_count": null,
      "outputs": []
    }
  ]
}